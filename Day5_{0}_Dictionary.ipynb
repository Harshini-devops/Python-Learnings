{
 "cells": [
  {
   "cell_type": "code",
   "execution_count": 1,
   "id": "6eda2cbb-3ae3-4d07-a2fd-57ea8ca27c26",
   "metadata": {},
   "outputs": [
    {
     "data": {
      "text/plain": [
       "dict"
      ]
     },
     "execution_count": 1,
     "metadata": {},
     "output_type": "execute_result"
    }
   ],
   "source": [
    "# creating empty dictionary\n",
    "d={}\n",
    "type(d)"
   ]
  },
  {
   "cell_type": "code",
   "execution_count": 2,
   "id": "810218d2-d205-420b-8256-ed13455c3480",
   "metadata": {},
   "outputs": [
    {
     "name": "stdout",
     "output_type": "stream",
     "text": [
      "{'name': 'sakthi', 'age': 20}\n"
     ]
    }
   ],
   "source": [
    "d1={\"name\":\"sakthi\",\"age\":20}\n",
    "print(d1)"
   ]
  },
  {
   "cell_type": "code",
   "execution_count": 3,
   "id": "9a1f5ac5-4090-404a-a3cf-3ed152284593",
   "metadata": {},
   "outputs": [
    {
     "name": "stdout",
     "output_type": "stream",
     "text": [
      "{'name': 'sakthi', 'age': 20}\n"
     ]
    }
   ],
   "source": [
    "d1={\"name\":\"sakthi\",\n",
    "    \"age\":20}\n",
    "print(d1)\n"
   ]
  },
  {
   "cell_type": "code",
   "execution_count": 4,
   "id": "0d4ea69e-b19f-4224-888f-074b716a250a",
   "metadata": {},
   "outputs": [
    {
     "name": "stdout",
     "output_type": "stream",
     "text": [
      "{'name': 'sakthi', 'age': 20}\n"
     ]
    }
   ],
   "source": [
    "# list as dictionary\n",
    "a=[\"name\",\"age\"]\n",
    "b=[\"sakthi\",20]\n",
    "c=dict(zip(a,b))   #this dict(zip) converts the list to dictionary\n",
    "print(c)"
   ]
  },
  {
   "cell_type": "code",
   "execution_count": 5,
   "id": "5ec82e3c-7424-4241-8252-41006b2eae66",
   "metadata": {},
   "outputs": [
    {
     "name": "stdout",
     "output_type": "stream",
     "text": [
      "{'name': 'sakthi', 'age': 20}\n"
     ]
    }
   ],
   "source": [
    "# tuple as dictionary\n",
    "a=(\"name\",\"age\",\"height\")\n",
    "b=(\"sakthi\",20)\n",
    "c=dict(zip(a,b))   #this dict(zip) converts the tuple to dictionary\n",
    "print(c)"
   ]
  },
  {
   "cell_type": "code",
   "execution_count": 6,
   "id": "5d14d0d8-2a6e-4db9-aae8-c1a9c93e0e2e",
   "metadata": {},
   "outputs": [
    {
     "name": "stdout",
     "output_type": "stream",
     "text": [
      "{'name': 'sakthi', 'age': 20}\n"
     ]
    }
   ],
   "source": [
    "a=[\"name\",\"age\"]\n",
    "b=(\"sakthi\",20)\n",
    "c=dict(zip(a,b))\n",
    "print(c)"
   ]
  },
  {
   "cell_type": "code",
   "execution_count": 7,
   "id": "fe42ff4d-8275-45e8-b926-47e3359ae3ea",
   "metadata": {},
   "outputs": [
    {
     "name": "stdout",
     "output_type": "stream",
     "text": [
      "{'sakthi': 'name', 20: 'age'}\n"
     ]
    }
   ],
   "source": [
    "a=[\"name\",\"age\"]\n",
    "b=(\"sakthi\",20)\n",
    "c=dict(zip(b,a))\n",
    "print(c)"
   ]
  },
  {
   "cell_type": "code",
   "execution_count": 8,
   "id": "cc596e6b-84eb-44e3-a888-e17d940085b0",
   "metadata": {},
   "outputs": [
    {
     "name": "stdout",
     "output_type": "stream",
     "text": [
      "{'name': 'sakthi', 'age': 20}\n"
     ]
    }
   ],
   "source": [
    "# dict() function\n",
    "name=dict(name=\"sakthi\",age=20)\n",
    "print(name)"
   ]
  },
  {
   "cell_type": "code",
   "execution_count": 9,
   "id": "c5d3d17c-c478-4bc9-91b6-a2cadc4b6813",
   "metadata": {},
   "outputs": [
    {
     "name": "stdout",
     "output_type": "stream",
     "text": [
      "{'name': 'sakthi', 'age': 20}\n"
     ]
    }
   ],
   "source": [
    "d=dict([(\"name\",\"sakthi\"),(\"age\",20)])\n",
    "print(d)"
   ]
  },
  {
   "cell_type": "code",
   "execution_count": 10,
   "id": "15bba732-c100-450e-8d95-75eb030f90df",
   "metadata": {},
   "outputs": [
    {
     "data": {
      "text/plain": [
       "2"
      ]
     },
     "execution_count": 10,
     "metadata": {},
     "output_type": "execute_result"
    }
   ],
   "source": [
    "# basic operations -len\n",
    "l1={'name': 'sakthi', 'age': 20}\n",
    "len(l1)"
   ]
  },
  {
   "cell_type": "code",
   "execution_count": 11,
   "id": "8049d9c8-4275-4c35-908f-1943684c8d5f",
   "metadata": {},
   "outputs": [
    {
     "ename": "TypeError",
     "evalue": "unsupported operand type(s) for +: 'dict' and 'dict'",
     "output_type": "error",
     "traceback": [
      "\u001b[1;31m---------------------------------------------------------------------------\u001b[0m",
      "\u001b[1;31mTypeError\u001b[0m                                 Traceback (most recent call last)",
      "Cell \u001b[1;32mIn[11], line 4\u001b[0m\n\u001b[0;32m      2\u001b[0m c1\u001b[38;5;241m=\u001b[39m{\u001b[38;5;124m'\u001b[39m\u001b[38;5;124mname\u001b[39m\u001b[38;5;124m'\u001b[39m: \u001b[38;5;124m'\u001b[39m\u001b[38;5;124msakthi\u001b[39m\u001b[38;5;124m'\u001b[39m}\n\u001b[0;32m      3\u001b[0m c2\u001b[38;5;241m=\u001b[39m{\u001b[38;5;124m'\u001b[39m\u001b[38;5;124mage\u001b[39m\u001b[38;5;124m'\u001b[39m: \u001b[38;5;241m20\u001b[39m}\n\u001b[1;32m----> 4\u001b[0m c1\u001b[38;5;241m+\u001b[39mc2\n",
      "\u001b[1;31mTypeError\u001b[0m: unsupported operand type(s) for +: 'dict' and 'dict'"
     ]
    }
   ],
   "source": [
    "# basic operations -concatenation\n",
    "c1={'name': 'sakthi'}\n",
    "c2={'age': 20}\n",
    "c1+c2"
   ]
  },
  {
   "cell_type": "code",
   "execution_count": 15,
   "id": "32f46177-68fe-43d8-bfe5-0e54d0bf863c",
   "metadata": {},
   "outputs": [
    {
     "ename": "TypeError",
     "evalue": "unsupported operand type(s) for *: 'dict' and 'int'",
     "output_type": "error",
     "traceback": [
      "\u001b[1;31m---------------------------------------------------------------------------\u001b[0m",
      "\u001b[1;31mTypeError\u001b[0m                                 Traceback (most recent call last)",
      "Cell \u001b[1;32mIn[15], line 3\u001b[0m\n\u001b[0;32m      1\u001b[0m \u001b[38;5;66;03m# basic operations -reptition\u001b[39;00m\n\u001b[0;32m      2\u001b[0m c1\u001b[38;5;241m=\u001b[39m{\u001b[38;5;124m'\u001b[39m\u001b[38;5;124mname\u001b[39m\u001b[38;5;124m'\u001b[39m: \u001b[38;5;124m'\u001b[39m\u001b[38;5;124msakthi\u001b[39m\u001b[38;5;124m'\u001b[39m}\n\u001b[1;32m----> 3\u001b[0m c1\u001b[38;5;241m*\u001b[39m\u001b[38;5;241m3\u001b[39m\n",
      "\u001b[1;31mTypeError\u001b[0m: unsupported operand type(s) for *: 'dict' and 'int'"
     ]
    }
   ],
   "source": [
    "# basic operations -reptition\n",
    "c1={'name': 'sakthi'}\n",
    "c1*3"
   ]
  },
  {
   "cell_type": "code",
   "execution_count": 22,
   "id": "0241b69a-549d-4e48-87c1-a2eb0060327f",
   "metadata": {},
   "outputs": [
    {
     "data": {
      "text/plain": [
       "False"
      ]
     },
     "execution_count": 22,
     "metadata": {},
     "output_type": "execute_result"
    }
   ],
   "source": [
    "# basic operations -membership operator\n",
    "c1={'name': 'sakthi'}\n",
    "\"name1\" in c1"
   ]
  },
  {
   "cell_type": "code",
   "execution_count": 23,
   "id": "dbc5cbca-e928-4acb-83bc-a38b5fd98ae9",
   "metadata": {},
   "outputs": [
    {
     "data": {
      "text/plain": [
       "'sakthi'"
      ]
     },
     "execution_count": 23,
     "metadata": {},
     "output_type": "execute_result"
    }
   ],
   "source": [
    "# accessing dict elements\n",
    "var={'name': 'sakthi', 'age': 20}\n",
    "var['name']"
   ]
  },
  {
   "cell_type": "code",
   "execution_count": 34,
   "id": "c3b875db-033d-48e4-ac95-51f24b21a5da",
   "metadata": {},
   "outputs": [
    {
     "data": {
      "text/plain": [
       "89"
      ]
     },
     "execution_count": 34,
     "metadata": {},
     "output_type": "execute_result"
    }
   ],
   "source": [
    "var={'name': 'sakthi', 'age': 20,'age':89}  #it considers only the last value of age\n",
    "var['age']"
   ]
  },
  {
   "cell_type": "code",
   "execution_count": 25,
   "id": "e813b47d-2467-41c5-b19e-47ad7687fc51",
   "metadata": {},
   "outputs": [
    {
     "data": {
      "text/plain": [
       "'cricket'"
      ]
     },
     "execution_count": 25,
     "metadata": {},
     "output_type": "execute_result"
    }
   ],
   "source": [
    "# nested dictionary\n",
    "nested={\"name\":\"sakthi\",\"age\":20,\n",
    "        \"interest\":[\"cricket\",\"hockey\"],\n",
    "        \"languages\":{\"speak\":\"english\",\"write\":\"tamil\"}}\n",
    "nested[\"interest\"][0]"
   ]
  },
  {
   "cell_type": "code",
   "execution_count": 26,
   "id": "f1a3931e-e26b-4c79-a5c4-1b5e5cb4eed2",
   "metadata": {},
   "outputs": [
    {
     "data": {
      "text/plain": [
       "'english'"
      ]
     },
     "execution_count": 26,
     "metadata": {},
     "output_type": "execute_result"
    }
   ],
   "source": [
    "nested[\"languages\"][\"speak\"]"
   ]
  },
  {
   "cell_type": "code",
   "execution_count": 27,
   "id": "fbc8dbba-1658-403d-8a48-ad0b2dab3d6f",
   "metadata": {},
   "outputs": [
    {
     "data": {
      "text/plain": [
       "'tamil'"
      ]
     },
     "execution_count": 27,
     "metadata": {},
     "output_type": "execute_result"
    }
   ],
   "source": [
    "nested[\"languages\"][\"write\"]"
   ]
  },
  {
   "cell_type": "code",
   "execution_count": 28,
   "id": "aac75222-1d93-4838-ae66-e0fbd7c15703",
   "metadata": {},
   "outputs": [
    {
     "name": "stdout",
     "output_type": "stream",
     "text": [
      "{'name': 'Gurukula', 'age': 20}\n",
      "{'name': 'Gurukula', 'age': 20, 'address': 'nil'}\n"
     ]
    }
   ],
   "source": [
    "# modifying dict elements\n",
    "mod={'name': 'sakthi', 'age': 20}\n",
    "mod[\"name\"]=\"Gurukula\"\n",
    "print(mod)\n",
    "mod[\"address\"]=\"nil\"\n",
    "print(mod)"
   ]
  },
  {
   "cell_type": "code",
   "execution_count": 29,
   "id": "068acb69-b004-471d-9cdf-da4b53cdab71",
   "metadata": {},
   "outputs": [
    {
     "name": "stdout",
     "output_type": "stream",
     "text": [
      "{'age': 20}\n"
     ]
    }
   ],
   "source": [
    "# deleting dict elements and enire dictionary\n",
    "mod={'name': 'sakthi', 'age': 20}\n",
    "del mod[\"name\"]\n",
    "print(mod)"
   ]
  },
  {
   "cell_type": "code",
   "execution_count": 30,
   "id": "608676a6-df54-43ac-a2a7-5709fede13d3",
   "metadata": {},
   "outputs": [
    {
     "ename": "NameError",
     "evalue": "name 'mod' is not defined",
     "output_type": "error",
     "traceback": [
      "\u001b[1;31m---------------------------------------------------------------------------\u001b[0m",
      "\u001b[1;31mNameError\u001b[0m                                 Traceback (most recent call last)",
      "Cell \u001b[1;32mIn[30], line 3\u001b[0m\n\u001b[0;32m      1\u001b[0m mod\u001b[38;5;241m=\u001b[39m{\u001b[38;5;124m'\u001b[39m\u001b[38;5;124mname\u001b[39m\u001b[38;5;124m'\u001b[39m: \u001b[38;5;124m'\u001b[39m\u001b[38;5;124msakthi\u001b[39m\u001b[38;5;124m'\u001b[39m, \u001b[38;5;124m'\u001b[39m\u001b[38;5;124mage\u001b[39m\u001b[38;5;124m'\u001b[39m: \u001b[38;5;241m20\u001b[39m}\n\u001b[0;32m      2\u001b[0m \u001b[38;5;28;01mdel\u001b[39;00m mod\n\u001b[1;32m----> 3\u001b[0m \u001b[38;5;28mprint\u001b[39m(mod)\n",
      "\u001b[1;31mNameError\u001b[0m: name 'mod' is not defined"
     ]
    }
   ],
   "source": [
    "mod={'name': 'sakthi', 'age': 20}\n",
    "del mod\n",
    "print(mod)"
   ]
  }
 ],
 "metadata": {
  "kernelspec": {
   "display_name": "Python 3 (ipykernel)",
   "language": "python",
   "name": "python3"
  },
  "language_info": {
   "codemirror_mode": {
    "name": "ipython",
    "version": 3
   },
   "file_extension": ".py",
   "mimetype": "text/x-python",
   "name": "python",
   "nbconvert_exporter": "python",
   "pygments_lexer": "ipython3",
   "version": "3.12.7"
  }
 },
 "nbformat": 4,
 "nbformat_minor": 5
}
