{
 "cells": [
  {
   "cell_type": "code",
   "execution_count": 2,
   "id": "d68c4450-82cb-4fb3-9982-dd3091d7ffd0",
   "metadata": {},
   "outputs": [
    {
     "name": "stdout",
     "output_type": "stream",
     "text": [
      "lets go for movie\n"
     ]
    }
   ],
   "source": [
    "# Example if\n",
    "x=4\n",
    "if (x>3):\n",
    "    print(\"lets go for movie\")"
   ]
  },
  {
   "cell_type": "code",
   "execution_count": 4,
   "id": "b779cabb-0b4c-4e27-84bb-04cfde131b8c",
   "metadata": {},
   "outputs": [
    {
     "name": "stdout",
     "output_type": "stream",
     "text": [
      "program terminated\n"
     ]
    }
   ],
   "source": [
    "x=2\n",
    "if (x>3):\n",
    "    print(\"lets go for movie\")\n",
    "print(\"program terminated\")"
   ]
  },
  {
   "cell_type": "code",
   "execution_count": 6,
   "id": "0e40c5a0-502c-4345-aae4-d04df7b6c629",
   "metadata": {},
   "outputs": [
    {
     "name": "stdout",
     "output_type": "stream",
     "text": [
      "lets go for bike ride\n",
      "program terminated\n",
      "if block executed\n"
     ]
    }
   ],
   "source": [
    "x=2\n",
    "if (x>3):\n",
    "    print(\"lets go for movie\")\n",
    "if(x<3):\n",
    "    print(\"lets go for bike ride\")\n",
    "    \n",
    "print(\"program terminated\")\n",
    "print(\"if block executed\")"
   ]
  },
  {
   "cell_type": "code",
   "execution_count": 8,
   "id": "de405534-dc0b-4c38-9b2c-c940a8f08785",
   "metadata": {},
   "outputs": [
    {
     "name": "stdout",
     "output_type": "stream",
     "text": [
      "lets go for movie\n",
      "program terminated\n",
      "if block executed\n"
     ]
    }
   ],
   "source": [
    "# example if else\n",
    "\n",
    "x=4\n",
    "\n",
    "if (x>3):\n",
    "    print(\"lets go for movie\")\n",
    "    \n",
    "else:\n",
    "    print(\"lets go for bike ride\")\n",
    "    \n",
    "print(\"program terminated\")\n",
    "print(\"if block executed\")"
   ]
  },
  {
   "cell_type": "code",
   "execution_count": 15,
   "id": "ee18cfe7-1c20-45f8-85a1-bdd6acf6dffb",
   "metadata": {},
   "outputs": [
    {
     "name": "stdout",
     "output_type": "stream",
     "text": [
      "your mark is 90\n"
     ]
    }
   ],
   "source": [
    "# example\n",
    "name= \"sakthi\"\n",
    "regno=1\n",
    "marks=90\n",
    "if(name==\"sakthi\"):\n",
    "    if(regno==1):\n",
    "        print(\"your mark is\",marks)"
   ]
  },
  {
   "cell_type": "code",
   "execution_count": 17,
   "id": "16dcee97-779d-401e-8ea0-2ce43871f0b2",
   "metadata": {},
   "outputs": [
    {
     "name": "stdout",
     "output_type": "stream",
     "text": [
      "program terminated\n"
     ]
    }
   ],
   "source": [
    "# example 2\n",
    "name= \"sakthi\"\n",
    "regno=1\n",
    "marks=90\n",
    "if(name==\"sakthi\"):\n",
    "    if(regno==10):\n",
    "        print(\"your mark is\",marks)\n",
    "print(\"program terminated\")"
   ]
  },
  {
   "cell_type": "code",
   "execution_count": 19,
   "id": "afb60f6b-ad92-42bf-bc8f-2a643154f0e5",
   "metadata": {},
   "outputs": [
    {
     "name": "stdout",
     "output_type": "stream",
     "text": [
      "your mark is 90\n",
      "program terminated\n"
     ]
    }
   ],
   "source": [
    "# example 3\n",
    "name= \"sakthi\"\n",
    "regno=1\n",
    "marks=90\n",
    "if(name==\"sakthi\"):\n",
    "    if(regno==1):\n",
    "        print(\"your mark is\",marks)\n",
    "    else:\n",
    "        print(\"please enter valid register number!!!\")\n",
    "        \n",
    "print(\"program terminated\")"
   ]
  },
  {
   "cell_type": "code",
   "execution_count": 21,
   "id": "fe03f8d5-5912-4312-b8a0-15f0418a83c1",
   "metadata": {},
   "outputs": [
    {
     "name": "stdout",
     "output_type": "stream",
     "text": [
      "please enter a valid name!!!\n",
      "program terminated\n"
     ]
    }
   ],
   "source": [
    "# example 4\n",
    "name= \"vel\"\n",
    "regno=1\n",
    "marks=90\n",
    "if(name==\"sakthi\"):\n",
    "    if(regno==1):\n",
    "        print(\"your mark is\",marks)\n",
    "    else:\n",
    "        print(\"please enter valid register number!!!\")\n",
    "else:\n",
    "    print(\"please enter a valid name!!!\")\n",
    "        \n",
    "print(\"program terminated\")"
   ]
  },
  {
   "cell_type": "code",
   "execution_count": 23,
   "id": "e4c62f44-c818-4a05-bc8e-5b9020465e30",
   "metadata": {},
   "outputs": [
    {
     "name": "stdout",
     "output_type": "stream",
     "text": [
      "your mark is 90\n",
      "program terminated\n"
     ]
    }
   ],
   "source": [
    "# example 4\n",
    "name= \"sakthi\"\n",
    "regno=1\n",
    "marks=90\n",
    "if(name==\"sakthi\"):\n",
    "    if(regno==1):\n",
    "        print(\"your mark is\",marks)\n",
    "    else:\n",
    "        print(\"please enter valid register number!!!\")\n",
    "else:\n",
    "    print(\"please enter a valid name!!!\")\n",
    "        \n",
    "print(\"program terminated\")"
   ]
  },
  {
   "cell_type": "code",
   "execution_count": 31,
   "id": "4e7c683c-d148-4cd8-9845-15538dcdf014",
   "metadata": {},
   "outputs": [
    {
     "name": "stdout",
     "output_type": "stream",
     "text": [
      "one\n"
     ]
    }
   ],
   "source": [
    "#this is not a proper way; because if condition 1 is true it still checks the remaining condition;\n",
    "#this occupies space; hence we have to use elif\n",
    "x=1\n",
    "if(x==1):\n",
    "    print(\"one\")\n",
    "if(x==2):\n",
    "    print(\"two\")\n",
    "if(x==3):\n",
    "    print(\"three\")\n",
    "if(x==4):\n",
    "    print(\"four\")\n",
    "if(x==5):\n",
    "    print(\"five\")"
   ]
  },
  {
   "cell_type": "code",
   "execution_count": 33,
   "id": "cd87f115-f79f-4e5b-964b-ba8ed6e832b5",
   "metadata": {},
   "outputs": [
    {
     "name": "stdout",
     "output_type": "stream",
     "text": [
      "four\n"
     ]
    }
   ],
   "source": [
    "# elif examples\n",
    "x=4\n",
    "if(x==1):\n",
    "    print(\"one\")\n",
    "elif(x==2):\n",
    "    print(\"two\")\n",
    "elif(x==3):\n",
    "    print(\"three\")\n",
    "elif(x==4):\n",
    "    print(\"four\")\n",
    "elif(x==5):\n",
    "    print(\"five\")"
   ]
  },
  {
   "cell_type": "code",
   "execution_count": 29,
   "id": "03c8077a-a8d8-44ce-8b90-c53fbd319256",
   "metadata": {},
   "outputs": [
    {
     "name": "stdout",
     "output_type": "stream",
     "text": [
      "number not found\n",
      "program terminated\n"
     ]
    }
   ],
   "source": [
    "# example 3\n",
    "x=6\n",
    "if(x==1):\n",
    "    print(\"one\")\n",
    "elif(x==2):\n",
    "    print(\"two\")\n",
    "elif(x==3):\n",
    "    print(\"three\")\n",
    "elif(x==4):\n",
    "    print(\"four\")\n",
    "elif(x==5):\n",
    "    print(\"five\")\n",
    "else:\n",
    "    print(\"number not found\")\n",
    "    \n",
    "print(\"program terminated\")"
   ]
  }
 ],
 "metadata": {
  "kernelspec": {
   "display_name": "Python 3 (ipykernel)",
   "language": "python",
   "name": "python3"
  },
  "language_info": {
   "codemirror_mode": {
    "name": "ipython",
    "version": 3
   },
   "file_extension": ".py",
   "mimetype": "text/x-python",
   "name": "python",
   "nbconvert_exporter": "python",
   "pygments_lexer": "ipython3",
   "version": "3.12.7"
  }
 },
 "nbformat": 4,
 "nbformat_minor": 5
}
