{
 "cells": [
  {
   "cell_type": "code",
   "execution_count": 1,
   "id": "ce5007a2-5a70-4a43-8636-782fd16fec0d",
   "metadata": {},
   "outputs": [
    {
     "name": "stdout",
     "output_type": "stream",
     "text": [
      "10\n"
     ]
    }
   ],
   "source": [
    "a=10\n",
    "print(a)"
   ]
  },
  {
   "cell_type": "code",
   "execution_count": 1,
   "id": "462b97cb-be91-4206-b3b6-c823243f1d44",
   "metadata": {},
   "outputs": [
    {
     "name": "stdout",
     "output_type": "stream",
     "text": [
      "10\n",
      "20\n"
     ]
    }
   ],
   "source": [
    "a=10\n",
    "b=20\n",
    "print(a)\n",
    "print(b)"
   ]
  },
  {
   "cell_type": "code",
   "execution_count": null,
   "id": "56747d77-6948-49aa-97d3-f203e987e109",
   "metadata": {},
   "outputs": [],
   "source": [
    "a,b=10,20\n",
    "print(a)\n",
    "print(b)"
   ]
  },
  {
   "cell_type": "code",
   "execution_count": null,
   "id": "75d268d3-e433-4bc8-8b92-bb709018fd10",
   "metadata": {},
   "outputs": [],
   "source": [
    "x=5\n",
    "y=5\n",
    "print(x)\n",
    "print(y)\n",
    "x=y=5\n",
    "print(x)\n",
    "print(y)"
   ]
  },
  {
   "cell_type": "code",
   "execution_count": null,
   "id": "a8bbba9e-b299-4b63-b719-301ca4bca2c4",
   "metadata": {},
   "outputs": [],
   "source": [
    "#  It should start with alphabet or underscore(_).\n",
    "age=10\n",
    "_age=10\n",
    "print(age)\n",
    "print(_age)\n",
    "# @age=10\n",
    "# print(@age)\n",
    "first_value=10\n",
    "print(first_value)"
   ]
  },
  {
   "cell_type": "code",
   "execution_count": null,
   "id": "a51d23f4-291d-4255-a067-d6c7dfefa9a4",
   "metadata": {},
   "outputs": [],
   "source": [
    "# It should not start with numerical value.\n",
    "value1=5\n",
    "print(value1)\n"
   ]
  },
  {
   "cell_type": "code",
   "execution_count": null,
   "id": "057e5f13-3a78-4bdf-9daf-2ce335c8df78",
   "metadata": {},
   "outputs": [],
   "source": [
    "# It can be Alphanumeric.\n",
    "num123=90\n",
    "print(num123)"
   ]
  },
  {
   "cell_type": "code",
   "execution_count": null,
   "id": "ca6499ab-3cae-4f2a-bb4f-2bb33a5cdeba",
   "metadata": {},
   "outputs": [],
   "source": [
    "#  It is case sensitive.\n",
    "a=12\n",
    "A=16\n",
    "print(A)\n",
    "Number=12\n",
    "number=12"
   ]
  },
  {
   "cell_type": "code",
   "execution_count": null,
   "id": "268fce7e-f7a5-4f2b-828b-8217b92298ab",
   "metadata": {},
   "outputs": [],
   "source": [
    "# no key words should be used.\n",
    "# print if while for in ...,\n",
    "print=12\n",
    "print(print)"
   ]
  }
 ],
 "metadata": {
  "kernelspec": {
   "display_name": "Python 3 (ipykernel)",
   "language": "python",
   "name": "python3"
  },
  "language_info": {
   "codemirror_mode": {
    "name": "ipython",
    "version": 3
   },
   "file_extension": ".py",
   "mimetype": "text/x-python",
   "name": "python",
   "nbconvert_exporter": "python",
   "pygments_lexer": "ipython3",
   "version": "3.12.7"
  }
 },
 "nbformat": 4,
 "nbformat_minor": 5
}
