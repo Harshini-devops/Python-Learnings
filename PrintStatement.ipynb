{
 "cells": [
  {
   "cell_type": "code",
   "execution_count": null,
   "id": "ca62db27-15d8-4ded-a564-3b588cdc5e4a",
   "metadata": {},
   "outputs": [],
   "source": [
    "Print Statements\n",
    "Syntax: print(object,seperator,end,file,flush)"
   ]
  },
  {
   "cell_type": "code",
   "execution_count": 1,
   "id": "ff2bdb2b-9ef1-4027-a194-0c04dc60295c",
   "metadata": {},
   "outputs": [
    {
     "name": "stdout",
     "output_type": "stream",
     "text": [
      "hey buddies\n",
      "hey buddies\n",
      "you're here to learn python\n",
      "\"you are here to learn python\"\n",
      "\"you're here to learn python\"\n"
     ]
    }
   ],
   "source": [
    "print(\"hey buddies\")\n",
    "print('hey buddies')\n",
    "print(\"you're here to learn python\")\n",
    "print('\"you are here to learn python\"')\n",
    "print('\"you\\'re here to learn python\"')"
   ]
  },
  {
   "cell_type": "code",
   "execution_count": 3,
   "id": "80ef57b5-f862-420b-a1d2-8f2051ec4e37",
   "metadata": {},
   "outputs": [
    {
     "name": "stdout",
     "output_type": "stream",
     "text": [
      "welcome\n",
      "to\n",
      "GURUKULA\n",
      "welcome\n",
      "to\n",
      "GURUKULA\n"
     ]
    }
   ],
   "source": [
    "# Expected o/p: \n",
    "# welcome \n",
    "# to \n",
    "# GURUKULA\n",
    "print(\"welcome\")\n",
    "print(\"to\")\n",
    "print(\"GURUKULA\")\n",
    "print(\"welcome\\nto\\nGURUKULA\")"
   ]
  },
  {
   "cell_type": "code",
   "execution_count": 25,
   "id": "eb86e552-151d-432c-adf8-c89df8948958",
   "metadata": {},
   "outputs": [
    {
     "name": "stdout",
     "output_type": "stream",
     "text": [
      "Name:sakthi\n",
      "Gender:Male\n",
      "Name\t:\tsakthi\n",
      "Gender\t:\tMale\n"
     ]
    }
   ],
   "source": [
    "# Expected o/p:\n",
    "#                 Name         :     sakthi\n",
    "#                 Gender       :     Male\n",
    "print(\"Name:sakthi\\nGender:Male\")  #not correct output\n",
    "print(\"Name\\t:\\tsakthi\\nGender\\t:\\tMale\")"
   ]
  },
  {
   "cell_type": "code",
   "execution_count": 7,
   "id": "da295d45-512a-4a2e-aaa0-f88163ece823",
   "metadata": {},
   "outputs": [
    {
     "name": "stdout",
     "output_type": "stream",
     "text": [
      "happy learning\n",
      "happy_learning\n",
      "happy + learning\n",
      "happylearning\n"
     ]
    }
   ],
   "source": [
    "# Expected o/p :\n",
    "# happy learning\n",
    "# happy_learning\n",
    "# happy + learning\n",
    "# happylearning\n",
    "#Using seperator (\"sep\"); by default comma is a seperator\n",
    "print(\"happy\",\"learning\") \n",
    "print(\"happy\",\"learning\",sep=\"_\")\n",
    "print(\"happy\",\"learning\",sep=\" + \")\n",
    "print(\"happy\",\"learning\",sep=\"\")"
   ]
  },
  {
   "cell_type": "code",
   "execution_count": 9,
   "id": "3e7e0f5b-a172-47b9-9c2b-4e6f7d9e7097",
   "metadata": {},
   "outputs": [
    {
     "name": "stdout",
     "output_type": "stream",
     "text": [
      "welcome to GURUKULA."
     ]
    }
   ],
   "source": [
    "# Expected o/p:\n",
    "\n",
    "# use three print statement to get out output welcome to gurukula in a single line.\n",
    "# using end \n",
    "print(\"welcome\",end=\" \")\n",
    "print(\"to\",end=\" \")\n",
    "print(\"GURUKULA\",end=\".\")\n"
   ]
  },
  {
   "cell_type": "code",
   "execution_count": 11,
   "id": "35407c29-30b0-4c78-9c1d-a5330b8f08e9",
   "metadata": {},
   "outputs": [
    {
     "name": "stdout",
     "output_type": "stream",
     "text": [
      "welcome to gurukula\n",
      "\t*python series\n",
      "\t*tips and tricks\n"
     ]
    }
   ],
   "source": [
    "# welcome to GURUKULA\n",
    "#     * python series.\n",
    "#     * Tips and tricks\n",
    "print(\"welcome to gurukula\",end=\"\\n\\t*\")\n",
    "print(\"python series\",end=\"\\n\\t*\")\n",
    "print(\"tips and tricks\")"
   ]
  },
  {
   "cell_type": "code",
   "execution_count": 13,
   "id": "cc354a8d-7071-4eb4-8e88-9744830d5a21",
   "metadata": {},
   "outputs": [
    {
     "ename": "SyntaxError",
     "evalue": "unterminated string literal (detected at line 1) (2985964214.py, line 1)",
     "output_type": "error",
     "traceback": [
      "\u001b[1;36m  Cell \u001b[1;32mIn[13], line 1\u001b[1;36m\u001b[0m\n\u001b[1;33m    print(\"__♥__♥_____♥__♥___ Put This\u001b[0m\n\u001b[1;37m          ^\u001b[0m\n\u001b[1;31mSyntaxError\u001b[0m\u001b[1;31m:\u001b[0m unterminated string literal (detected at line 1)\n"
     ]
    }
   ],
   "source": [
    "print(\"__♥__♥_____♥__♥___ Put This\n",
    "_♥_____♥_♥_____♥__ Heart\n",
    "_♥______♥______♥__ On Your\n",
    "__♥_____/______♥__ Page If\n",
    "___♥____\\_____♥___ You Had\n",
    "____♥___/___♥_____ Your Heart\n",
    "______♥_\\_♥_______ Broken\n",
    "________♥_________…………….\")"
   ]
  },
  {
   "cell_type": "code",
   "execution_count": 23,
   "id": "03610a9c-69b7-4a34-828f-711d3e6edd6b",
   "metadata": {},
   "outputs": [
    {
     "name": "stdout",
     "output_type": "stream",
     "text": [
      "__♥__♥_____♥__♥___ Put This\n",
      "_♥_____♥_♥_____♥__ Heart\n",
      "_♥______♥______♥__ On Your\n",
      "__♥_____/______♥__ Page If\n",
      "___♥____\\_____♥___ You Had\n",
      "____♥___/___♥_____ Your Heart\n",
      "______♥_\\_♥_______ Broken\n",
      "________♥_________…………….\n",
      "\n"
     ]
    },
    {
     "name": "stderr",
     "output_type": "stream",
     "text": [
      "<>:1: SyntaxWarning: invalid escape sequence '\\_'\n",
      "<>:1: SyntaxWarning: invalid escape sequence '\\_'\n",
      "C:\\Users\\harsh\\AppData\\Local\\Temp\\ipykernel_11412\\1306643558.py:1: SyntaxWarning: invalid escape sequence '\\_'\n",
      "  print(\"\"\"__♥__♥_____♥__♥___ Put This\n"
     ]
    }
   ],
   "source": [
    "#Add Triple \" quotes then we will get the required output\n",
    "\n",
    "print(\"\"\"__♥__♥_____♥__♥___ Put This\n",
    "_♥_____♥_♥_____♥__ Heart\n",
    "_♥______♥______♥__ On Your\n",
    "__♥_____/______♥__ Page If\n",
    "___♥____\\_____♥___ You Had\n",
    "____♥___/___♥_____ Your Heart\n",
    "______♥_\\_♥_______ Broken\n",
    "________♥_________…………….\n",
    "\"\"\")"
   ]
  },
  {
   "cell_type": "code",
   "execution_count": null,
   "id": "397c3f6a-0dfe-40f7-8f6d-9a5958ba3fd8",
   "metadata": {},
   "outputs": [],
   "source": []
  }
 ],
 "metadata": {
  "kernelspec": {
   "display_name": "Python 3 (ipykernel)",
   "language": "python",
   "name": "python3"
  },
  "language_info": {
   "codemirror_mode": {
    "name": "ipython",
    "version": 3
   },
   "file_extension": ".py",
   "mimetype": "text/x-python",
   "name": "python",
   "nbconvert_exporter": "python",
   "pygments_lexer": "ipython3",
   "version": "3.12.7"
  }
 },
 "nbformat": 4,
 "nbformat_minor": 5
}
