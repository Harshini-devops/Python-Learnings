{
 "cells": [
  {
   "cell_type": "code",
   "execution_count": 7,
   "id": "7f688082-aac3-407f-84ba-5364a500c826",
   "metadata": {},
   "outputs": [
    {
     "name": "stdout",
     "output_type": "stream",
     "text": [
      "pintuchintu\n",
      "pintu chintu\n",
      "pintu chintu\n"
     ]
    },
    {
     "ename": "TypeError",
     "evalue": "unsupported operand type(s) for -: 'str' and 'str'",
     "output_type": "error",
     "traceback": [
      "\u001b[1;31m---------------------------------------------------------------------------\u001b[0m",
      "\u001b[1;31mTypeError\u001b[0m                                 Traceback (most recent call last)",
      "Cell \u001b[1;32mIn[7], line 9\u001b[0m\n\u001b[0;32m      7\u001b[0m \u001b[38;5;28mprint\u001b[39m(fullname)\n\u001b[0;32m      8\u001b[0m \u001b[38;5;28mprint\u001b[39m(firstname,lastname)\n\u001b[1;32m----> 9\u001b[0m fullname\u001b[38;5;241m=\u001b[39mfirstname\u001b[38;5;241m-\u001b[39mlastname\n\u001b[0;32m     10\u001b[0m \u001b[38;5;28mprint\u001b[39m(fullname)\n",
      "\u001b[1;31mTypeError\u001b[0m: unsupported operand type(s) for -: 'str' and 'str'"
     ]
    }
   ],
   "source": [
    "# string concatenation \n",
    "firstname=\"pintu\"\n",
    "lastname=\"chintu\"\n",
    "fullname=firstname+lastname\n",
    "print(fullname)\n",
    "fullname=firstname+\" \"+lastname\n",
    "print(fullname)\n",
    "print(firstname,lastname)\n",
    "fullname=firstname-lastname\n",
    "print(fullname)"
   ]
  },
  {
   "cell_type": "code",
   "execution_count": 15,
   "id": "242293e8-6ff3-4eea-8fe8-d5d6927e9a0a",
   "metadata": {},
   "outputs": [
    {
     "ename": "TypeError",
     "evalue": "can't multiply sequence by non-int of type 'str'",
     "output_type": "error",
     "traceback": [
      "\u001b[1;31m---------------------------------------------------------------------------\u001b[0m",
      "\u001b[1;31mTypeError\u001b[0m                                 Traceback (most recent call last)",
      "Cell \u001b[1;32mIn[15], line 3\u001b[0m\n\u001b[0;32m      1\u001b[0m firstname\u001b[38;5;241m=\u001b[39m\u001b[38;5;124m\"\u001b[39m\u001b[38;5;124mpintu\u001b[39m\u001b[38;5;124m\"\u001b[39m\n\u001b[0;32m      2\u001b[0m lastname\u001b[38;5;241m=\u001b[39m\u001b[38;5;124m\"\u001b[39m\u001b[38;5;124mchintu\u001b[39m\u001b[38;5;124m\"\u001b[39m\n\u001b[1;32m----> 3\u001b[0m result\u001b[38;5;241m=\u001b[39mfirstname\u001b[38;5;241m*\u001b[39mlastname\n\u001b[0;32m      4\u001b[0m \u001b[38;5;28mprint\u001b[39m(result)\n",
      "\u001b[1;31mTypeError\u001b[0m: can't multiply sequence by non-int of type 'str'"
     ]
    }
   ],
   "source": [
    "firstname=\"pintu\"\n",
    "lastname=\"chintu\"\n",
    "result=firstname*lastname\n",
    "print(result)"
   ]
  },
  {
   "cell_type": "code",
   "execution_count": 25,
   "id": "0ac936d1-ec81-429d-9032-584ca4927557",
   "metadata": {},
   "outputs": [
    {
     "name": "stdout",
     "output_type": "stream",
     "text": [
      "chintuchintuchintu\n"
     ]
    }
   ],
   "source": [
    "name=\"chintu\"\n",
    "result=name*3\n",
    "print(result)"
   ]
  },
  {
   "cell_type": "code",
   "execution_count": 26,
   "id": "8336d1cd-6f9c-44e8-a957-3b4c37536c9b",
   "metadata": {},
   "outputs": [
    {
     "name": "stdout",
     "output_type": "stream",
     "text": [
      "you are learning python in gurukula\n",
      "you are learning python in gurukula\n",
      "you are learning python in gurukula\n"
     ]
    }
   ],
   "source": [
    "# printing the string statements\n",
    "a=\"learning python\"\n",
    "b=\"gurukula\"\n",
    "print(\"you are \"+a+\" in \" +b)\n",
    "print(\"you are {a} in {b}\".format(a=a,b=b))\n",
    "print(\"you are {} in {}\".format(a,b))"
   ]
  },
  {
   "cell_type": "code",
   "execution_count": 27,
   "id": "727b671c-896c-42ec-bcda-289512b1e3aa",
   "metadata": {},
   "outputs": [
    {
     "data": {
      "text/plain": [
       "('h', 'e', 'l', 'l', 'o')"
      ]
     },
     "execution_count": 27,
     "metadata": {},
     "output_type": "execute_result"
    }
   ],
   "source": [
    "# string indexing\n",
    "a=\"hello\"\n",
    "a[0],a[1],a[2],a[3],a[4]"
   ]
  },
  {
   "cell_type": "code",
   "execution_count": 28,
   "id": "02c13672-f50c-42c5-913f-e1e31a8d74da",
   "metadata": {},
   "outputs": [
    {
     "data": {
      "text/plain": [
       "('h', 'e', 'l', 'l', 'o')"
      ]
     },
     "execution_count": 28,
     "metadata": {},
     "output_type": "execute_result"
    }
   ],
   "source": [
    "a[-5],a[-4],a[-3],a[-2],a[-1]"
   ]
  },
  {
   "cell_type": "code",
   "execution_count": 29,
   "id": "c229a318-0a3b-4c5d-8128-6772693efd2b",
   "metadata": {},
   "outputs": [
    {
     "data": {
      "text/plain": [
       "'hello'"
      ]
     },
     "execution_count": 29,
     "metadata": {},
     "output_type": "execute_result"
    }
   ],
   "source": [
    "# string slicing\n",
    "a=\"hello\"\n",
    "# a[0:4]\n",
    "# a[0:5]\n",
    "# a[1:5]\n",
    "# a[0:]\n",
    "# a[:5]\n",
    "a[:]"
   ]
  },
  {
   "cell_type": "code",
   "execution_count": 30,
   "id": "e551e46f-2fa7-4248-bed4-2f54b5670c82",
   "metadata": {},
   "outputs": [
    {
     "data": {
      "text/plain": [
       "'hello'"
      ]
     },
     "execution_count": 30,
     "metadata": {},
     "output_type": "execute_result"
    }
   ],
   "source": [
    "# negative slicing\n",
    "a=\"hello\"\n",
    "# a[-5:-1]\n",
    "# a[-5:]\n",
    "a[:]"
   ]
  },
  {
   "cell_type": "code",
   "execution_count": 31,
   "id": "f22b7cd7-9e8b-4bc6-9463-bbb4ef21a924",
   "metadata": {},
   "outputs": [
    {
     "data": {
      "text/plain": [
       "''"
      ]
     },
     "execution_count": 31,
     "metadata": {},
     "output_type": "execute_result"
    }
   ],
   "source": [
    "a[3:0]"
   ]
  },
  {
   "cell_type": "code",
   "execution_count": 32,
   "id": "c8242030-9654-4e9e-96e7-a1b351773753",
   "metadata": {},
   "outputs": [
    {
     "data": {
      "text/plain": [
       "'happylearning'"
      ]
     },
     "execution_count": 32,
     "metadata": {},
     "output_type": "execute_result"
    }
   ],
   "source": [
    "#step argument\n",
    "#syntax [start'end:step]\n",
    "a=\"happylearning\"\n",
    "#a[0::2]    #o/p 'hpyerig'\n",
    "#a[0::3]   #o/p 'hpeng'\n",
    "a[0::1]  #o/p 'happylearning'"
   ]
  }
 ],
 "metadata": {
  "kernelspec": {
   "display_name": "Python 3 (ipykernel)",
   "language": "python",
   "name": "python3"
  },
  "language_info": {
   "codemirror_mode": {
    "name": "ipython",
    "version": 3
   },
   "file_extension": ".py",
   "mimetype": "text/x-python",
   "name": "python",
   "nbconvert_exporter": "python",
   "pygments_lexer": "ipython3",
   "version": "3.12.7"
  }
 },
 "nbformat": 4,
 "nbformat_minor": 5
}
