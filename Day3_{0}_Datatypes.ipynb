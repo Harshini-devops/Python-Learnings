{
 "cells": [
  {
   "cell_type": "code",
   "execution_count": null,
   "id": "bba5edda-7dc4-4f82-b5cf-7c51169efb2a",
   "metadata": {},
   "outputs": [],
   "source": []
  },
  {
   "cell_type": "code",
   "execution_count": null,
   "id": "4eb532a6-8c76-4364-b3ba-80aa5e4536f2",
   "metadata": {},
   "outputs": [],
   "source": [
    "# example:\n",
    "name = \"chintu\"\n",
    "age = 20\n",
    "height = 5.6"
   ]
  },
  {
   "cell_type": "raw",
   "id": "54eb072d-2874-47fc-abc9-75b5d816a7f6",
   "metadata": {},
   "source": [
    "Data types in python.\n",
    "numeric\n",
    "\n",
    "string\n",
    "\n",
    "list\n",
    "\n",
    "tuples\n",
    "\n",
    "dictionary\n",
    "\n",
    "set"
   ]
  },
  {
   "cell_type": "code",
   "execution_count": 99,
   "id": "cf4c0a25-47eb-4dc1-b0a8-95d89e2bad67",
   "metadata": {},
   "outputs": [
    {
     "name": "stdin",
     "output_type": "stream",
     "text": [
      "enter your name: Harshini\n",
      "enter your age: 25\n",
      "enter your height: 5.5\n"
     ]
    }
   ],
   "source": [
    "# input() function.\n",
    "name=input(\"enter your name:\")\n",
    "age=input(\"enter your age:\")\n",
    "height = input(\"enter your height:\")"
   ]
  },
  {
   "cell_type": "code",
   "execution_count": 101,
   "id": "1b2a2aab-8a6d-43f8-9866-344836eac100",
   "metadata": {},
   "outputs": [
    {
     "name": "stdout",
     "output_type": "stream",
     "text": [
      "Harshini\n",
      "25\n",
      "5.5\n"
     ]
    },
    {
     "data": {
      "text/plain": [
       "str"
      ]
     },
     "execution_count": 101,
     "metadata": {},
     "output_type": "execute_result"
    }
   ],
   "source": [
    "print(name)\n",
    "print(age)\n",
    "print(height)\n",
    "# type() function\n",
    "#when we get value from input all the input will be in string\n",
    "type(name)\n",
    "type(age)\n",
    "type(height)"
   ]
  },
  {
   "cell_type": "code",
   "execution_count": 103,
   "id": "57e38d7c-b4e6-4752-b473-1b4f39d8212e",
   "metadata": {},
   "outputs": [
    {
     "ename": "TypeError",
     "evalue": "can only concatenate str (not \"int\") to str",
     "output_type": "error",
     "traceback": [
      "\u001b[1;31m---------------------------------------------------------------------------\u001b[0m",
      "\u001b[1;31mTypeError\u001b[0m                                 Traceback (most recent call last)",
      "Cell \u001b[1;32mIn[103], line 2\u001b[0m\n\u001b[0;32m      1\u001b[0m \u001b[38;5;66;03m#As the string is not valid for arithmetic it throws error; hence do conversion\u001b[39;00m\n\u001b[1;32m----> 2\u001b[0m age\u001b[38;5;241m=\u001b[39mage\u001b[38;5;241m+\u001b[39m\u001b[38;5;241m3\u001b[39m\n\u001b[0;32m      3\u001b[0m \u001b[38;5;28mprint\u001b[39m(age)\n",
      "\u001b[1;31mTypeError\u001b[0m: can only concatenate str (not \"int\") to str"
     ]
    }
   ],
   "source": [
    "#As the string is not valid for arithmetic it throws error; hence do conversion\n",
    "age=age+3\n",
    "print(age)"
   ]
  },
  {
   "cell_type": "code",
   "execution_count": 105,
   "id": "7b504060-87d2-41ed-9124-b3825065336e",
   "metadata": {},
   "outputs": [
    {
     "name": "stdin",
     "output_type": "stream",
     "text": [
      "enter your age: 25\n"
     ]
    }
   ],
   "source": [
    "#  datatype convertions.\n",
    "age=int(input(\"enter your age:\"))"
   ]
  },
  {
   "cell_type": "code",
   "execution_count": 107,
   "id": "84083d96-18af-4d15-804d-cb3b4a37a036",
   "metadata": {},
   "outputs": [
    {
     "name": "stdout",
     "output_type": "stream",
     "text": [
      "<class 'int'>\n",
      "25\n",
      "28\n"
     ]
    }
   ],
   "source": [
    "print(type(age))\n",
    "print(age)\n",
    "age=age+3\n",
    "print(age)"
   ]
  },
  {
   "cell_type": "code",
   "execution_count": 109,
   "id": "6558df93-7eea-4d0e-95cb-34983189296b",
   "metadata": {},
   "outputs": [
    {
     "name": "stdin",
     "output_type": "stream",
     "text": [
      "enter your height: 5.5\n"
     ]
    }
   ],
   "source": [
    "height=float(input(\"enter your height:\"))\n"
   ]
  },
  {
   "cell_type": "code",
   "execution_count": 111,
   "id": "4a622369-5f5c-41de-910a-c807e9b1c67c",
   "metadata": {},
   "outputs": [
    {
     "data": {
      "text/plain": [
       "float"
      ]
     },
     "execution_count": 111,
     "metadata": {},
     "output_type": "execute_result"
    }
   ],
   "source": [
    "type(height)"
   ]
  },
  {
   "cell_type": "code",
   "execution_count": 113,
   "id": "9fb66cce-cea3-4f44-9c92-2db9380fb594",
   "metadata": {},
   "outputs": [
    {
     "name": "stdout",
     "output_type": "stream",
     "text": [
      "Harshini\n",
      "28\n",
      "5.5\n"
     ]
    }
   ],
   "source": [
    "# printing variables.\n",
    "print(name)\n",
    "print(age)\n",
    "print(height)"
   ]
  },
  {
   "cell_type": "code",
   "execution_count": 115,
   "id": "df998986-25cd-4484-b82f-4f7aaa9a3b4c",
   "metadata": {},
   "outputs": [
    {
     "name": "stdout",
     "output_type": "stream",
     "text": [
      "Harshini 28 5.5\n"
     ]
    }
   ],
   "source": [
    "print(name,age,height)"
   ]
  },
  {
   "cell_type": "code",
   "execution_count": 117,
   "id": "8dbf3610-e128-4fd1-8a33-a8727abc7603",
   "metadata": {},
   "outputs": [
    {
     "name": "stdout",
     "output_type": "stream",
     "text": [
      "your name is: Harshini\n",
      "your age is: 28\n",
      "your height is: 5.5\n"
     ]
    }
   ],
   "source": [
    "print(\"your name is:\",name)\n",
    "print(\"your age is:\",age)\n",
    "print(\"your height is:\",height)"
   ]
  },
  {
   "cell_type": "code",
   "execution_count": 119,
   "id": "f5a967bc-b154-4292-87d8-e04289d4e802",
   "metadata": {},
   "outputs": [
    {
     "name": "stdout",
     "output_type": "stream",
     "text": [
      "the name is Harshini your age is 28 your height is 5.5\n"
     ]
    }
   ],
   "source": [
    "#with keyword f we can get the input in a flower-bracket {}; if not we have to use at the end of the print statement\n",
    "\n",
    "print(f\"the name is {name} your age is {age} your height is {height}\")"
   ]
  },
  {
   "cell_type": "code",
   "execution_count": 134,
   "id": "4c12d319-4cd1-4539-a952-2bb10c89dd91",
   "metadata": {},
   "outputs": [
    {
     "name": "stdout",
     "output_type": "stream",
     "text": [
      "pintur\n",
      "pintu r\n",
      "pintu r\n"
     ]
    },
    {
     "ename": "TypeError",
     "evalue": "unsupported operand type(s) for -: 'str' and 'str'",
     "output_type": "error",
     "traceback": [
      "\u001b[1;31m---------------------------------------------------------------------------\u001b[0m",
      "\u001b[1;31mTypeError\u001b[0m                                 Traceback (most recent call last)",
      "Cell \u001b[1;32mIn[134], line 9\u001b[0m\n\u001b[0;32m      7\u001b[0m \u001b[38;5;28mprint\u001b[39m(fullname)\n\u001b[0;32m      8\u001b[0m \u001b[38;5;28mprint\u001b[39m(firstname,lastname)\n\u001b[1;32m----> 9\u001b[0m fullname\u001b[38;5;241m=\u001b[39mfirstname\u001b[38;5;241m-\u001b[39mlastname \u001b[38;5;66;03m#this is not valid hence error\u001b[39;00m\n\u001b[0;32m     10\u001b[0m \u001b[38;5;28mprint\u001b[39m(fullname)\n\u001b[0;32m     11\u001b[0m result\u001b[38;5;241m=\u001b[39mfirstname\u001b[38;5;241m*\u001b[39mlastname \u001b[38;5;66;03m#this is not valid hence error\u001b[39;00m\n",
      "\u001b[1;31mTypeError\u001b[0m: unsupported operand type(s) for -: 'str' and 'str'"
     ]
    }
   ],
   "source": [
    "# string concatenation \n",
    "firstname=\"pintu\"\n",
    "lastname=\"r\"\n",
    "fullname=firstname+lastname\n",
    "print(fullname)\n",
    "fullname=firstname+\" \"+lastname\n",
    "print(fullname)\n",
    "print(firstname,lastname)\n",
    "fullname=firstname-lastname #this is not valid hence error\n",
    "print(fullname)\n",
    "result=firstname*lastname #this is not valid hence error\n",
    "print(result)"
   ]
  },
  {
   "cell_type": "code",
   "execution_count": 146,
   "id": "75a78164-6a63-48e6-909d-d8692eac3034",
   "metadata": {},
   "outputs": [
    {
     "name": "stdout",
     "output_type": "stream",
     "text": [
      "chintuchintuchintu\n"
     ]
    }
   ],
   "source": [
    "name=\"chintu\"\n",
    "result=name*3\n",
    "print(result)"
   ]
  },
  {
   "cell_type": "code",
   "execution_count": 136,
   "id": "b1ee9115-dc2f-4a9d-97db-3a48915fcb21",
   "metadata": {},
   "outputs": [
    {
     "name": "stdout",
     "output_type": "stream",
     "text": [
      "you are learning python in gurukula\n",
      "you are learning python in gurukula\n",
      "you are learning python in gurukula\n",
      "you are learning python in gurukula\n"
     ]
    }
   ],
   "source": [
    "# printing the string statements\n",
    "a=\"learning python\"\n",
    "b=\"gurukula\"\n",
    "print(\"you are \"+a+\" in \" +b)\n",
    "print(\"you are {a} in {b}\".format(a=a,b=b))\n",
    "print(f\"you are {a} in {b}\")\n",
    "print(\"you are {} in {}\".format(a,b))"
   ]
  },
  {
   "cell_type": "code",
   "execution_count": 127,
   "id": "160f63ce-8746-450c-9248-b46e61664cc1",
   "metadata": {},
   "outputs": [
    {
     "data": {
      "text/plain": [
       "('h', 'e', 'l', 'l', 'o')"
      ]
     },
     "execution_count": 127,
     "metadata": {},
     "output_type": "execute_result"
    }
   ],
   "source": [
    "# string indexing\n",
    "a=\"hello\"\n",
    "a[0],a[1],a[2],a[3],a[4]\n",
    "a[-5],a[-4],a[-3],a[-2],a[-1]"
   ]
  },
  {
   "cell_type": "code",
   "execution_count": 129,
   "id": "48383fa5-9e3e-4ba5-8243-7b45d6a89fca",
   "metadata": {},
   "outputs": [
    {
     "data": {
      "text/plain": [
       "'hello'"
      ]
     },
     "execution_count": 129,
     "metadata": {},
     "output_type": "execute_result"
    }
   ],
   "source": [
    "# string slicing\n",
    "#syntax [start:end-1]\n",
    "a=\"hello\"\n",
    "#a[0:4]    #o/p: 'hell'\n",
    "#a[0:5]    #o/p: 'hello'\n",
    "#a[1:5]    #o/p: 'ello'\n",
    "#a[0:]     #o/p: 'hello'\n",
    "#a[:5]     #o/p: 'hello'\n",
    "#a[:]      #o/p: 'hello'\n",
    "#a[-5:-1]  #o/p: 'hell'\n",
    "#a[-5:]    #o/p: 'hello'\n",
    "#a[3:0]    #this will throw error; reverse is not applicable\n",
    "a[:]       #o/p: hello\n"
   ]
  },
  {
   "cell_type": "code",
   "execution_count": 148,
   "id": "02572c3e-a11f-47aa-8e7b-8829e1ba6bda",
   "metadata": {},
   "outputs": [
    {
     "data": {
      "text/plain": [
       "''"
      ]
     },
     "execution_count": 148,
     "metadata": {},
     "output_type": "execute_result"
    }
   ],
   "source": [
    "#in string slicing, reverse is not possible; hence output is blank\n",
    "a[3:0]"
   ]
  },
  {
   "cell_type": "code",
   "execution_count": 142,
   "id": "a39e325b-bc4f-4c80-8249-46b79f97d305",
   "metadata": {},
   "outputs": [
    {
     "data": {
      "text/plain": [
       "'happylearning'"
      ]
     },
     "execution_count": 142,
     "metadata": {},
     "output_type": "execute_result"
    }
   ],
   "source": [
    "#step argument \n",
    "# this steps according to the number we give\n",
    "#syntax: [start:end:step]\n",
    "a=\"happylearning\"\n",
    "#a[0::2]    #o/p: 'hpyerig'\n",
    "#a[0::3]    #o/p: 'hpeng'\n",
    "a[0::1]     #o/p: 'happylearning'"
   ]
  }
 ],
 "metadata": {
  "kernelspec": {
   "display_name": "Python 3 (ipykernel)",
   "language": "python",
   "name": "python3"
  },
  "language_info": {
   "codemirror_mode": {
    "name": "ipython",
    "version": 3
   },
   "file_extension": ".py",
   "mimetype": "text/x-python",
   "name": "python",
   "nbconvert_exporter": "python",
   "pygments_lexer": "ipython3",
   "version": "3.12.7"
  }
 },
 "nbformat": 4,
 "nbformat_minor": 5
}
