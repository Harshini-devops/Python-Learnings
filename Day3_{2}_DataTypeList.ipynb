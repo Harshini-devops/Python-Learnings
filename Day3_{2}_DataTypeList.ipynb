{
 "cells": [
  {
   "cell_type": "code",
   "execution_count": null,
   "id": "b6e56e9a-cd42-44c9-949b-bde662e0b2f8",
   "metadata": {},
   "outputs": [],
   "source": [
    "# what is list?\n",
    "name=\"sakthi\"\n",
    "age=20\n",
    "height=5.5\n",
    "detail=[\"sakthi\",20,5.5]"
   ]
  },
  {
   "cell_type": "code",
   "execution_count": null,
   "id": "3fa2d8c8-df49-494a-9dad-48954bdee437",
   "metadata": {},
   "outputs": [],
   "source": [
    "# list indexing.\n",
    "detail=[\"sakthi\",20,5.5]\n",
    "detail[0]\n",
    "print(detail[1])"
   ]
  },
  {
   "cell_type": "code",
   "execution_count": null,
   "id": "0663cc68-1446-493b-ae5c-0290da565cab",
   "metadata": {},
   "outputs": [],
   "source": [
    "# indexing- access\n",
    "num=[10,20,30,[40,50],60]\n",
    "print(num[0])\n",
    "print(num[1])\n",
    "print(num[2])\n",
    "print(num[3][0])\n",
    "print(num[3][1])"
   ]
  },
  {
   "cell_type": "code",
   "execution_count": null,
   "id": "0adbbdf4-f3cc-4fe9-8d81-ed8a6b023fe2",
   "metadata": {},
   "outputs": [],
   "source": [
    "# indexing- modify\n",
    "names=[\"sakthi\",\"ganesh\",\"suvetha\"]\n",
    "names[1]=\"sree\"\n",
    "names"
   ]
  },
  {
   "cell_type": "code",
   "execution_count": null,
   "id": "678aa2de-7204-4f8d-bf8b-3419acef6336",
   "metadata": {},
   "outputs": [],
   "source": [
    "# indexing- deletion\n",
    "names=[\"sakthi\",\"ganesh\",\"suvetha\"]\n",
    "del names[2]\n",
    "names"
   ]
  },
  {
   "cell_type": "code",
   "execution_count": null,
   "id": "f6f9db79-8362-4642-b250-dfd275071ef9",
   "metadata": {},
   "outputs": [],
   "source": [
    "# list slicing"
   ]
  },
  {
   "cell_type": "code",
   "execution_count": null,
   "id": "07e0977d-f621-4ffb-8f87-63ee3a01cd85",
   "metadata": {},
   "outputs": [],
   "source": [
    "# slicing- access\n",
    "number=[10,20,30,40,50]\n",
    "number[0:4]"
   ]
  },
  {
   "cell_type": "code",
   "execution_count": null,
   "id": "83d01329-fde0-45b0-9f4d-dba62f171e11",
   "metadata": {},
   "outputs": [],
   "source": [
    "number[:4]\n",
    "number[0:]"
   ]
  },
  {
   "cell_type": "code",
   "execution_count": null,
   "id": "683bb010-3407-4f33-9872-50a3ea55e03f",
   "metadata": {},
   "outputs": [],
   "source": [
    "# slice method\n",
    "food=[\"bread\",\"jam\",\"milk\",\"juice\"]\n",
    "numbers=[10,20,30,40,50,60]\n",
    "colors=[\"pink\",\"blue\",\"black\",\"white\",\"yellow\"]\n",
    "s=slice(0,3)\n",
    "print(food[s])\n",
    "print(numbers[s])\n",
    "print(colors[s])"
   ]
  },
  {
   "cell_type": "code",
   "execution_count": null,
   "id": "658d8de8-f566-48ad-af4e-373d79443172",
   "metadata": {},
   "outputs": [],
   "source": [
    "# reversing the list\n",
    "num=[10,20,30,40,50,60,70,80,90]\n",
    "print(num[::-1])\n",
    "print(num[-2::-1])"
   ]
  },
  {
   "cell_type": "code",
   "execution_count": null,
   "id": "acda9243-de1e-46d4-b08c-1afabd7fdcba",
   "metadata": {},
   "outputs": [],
   "source": [
    "# slicing-modify\n",
    "num=[10,20,30,40,50,60,70,80,90]\n",
    "num[0:4]=[1,2,3,4]\n",
    "num"
   ]
  },
  {
   "cell_type": "code",
   "execution_count": null,
   "id": "405b5704-54eb-4248-9ada-515de813b58c",
   "metadata": {},
   "outputs": [],
   "source": [
    "num=[10,20,30,40,50,60,70,80,90]\n",
    "num[0:4]=[1,2,3,4,5,6,7]\n",
    "num"
   ]
  },
  {
   "cell_type": "code",
   "execution_count": null,
   "id": "f5c5df03-aa73-4226-9012-15e1a63badd0",
   "metadata": {},
   "outputs": [],
   "source": [
    "num=[10,20,30,40,50,60,70,80,90]\n",
    "num[::2]=[1,1,1,1,1,]\n",
    "num"
   ]
  },
  {
   "cell_type": "code",
   "execution_count": null,
   "id": "e081d8f9-564d-48cf-b15c-a90e07af466a",
   "metadata": {},
   "outputs": [],
   "source": [
    "num=[10,20,30,40,50,60,70,80,90]\n",
    "num[::2]=[1,1,1]\n",
    "num"
   ]
  },
  {
   "cell_type": "code",
   "execution_count": null,
   "id": "dee10fe4-3c1c-4114-b9d1-889136448dce",
   "metadata": {},
   "outputs": [],
   "source": []
  },
  {
   "cell_type": "code",
   "execution_count": null,
   "id": "528db554-0850-47e8-aa94-e97856262688",
   "metadata": {},
   "outputs": [],
   "source": []
  },
  {
   "cell_type": "code",
   "execution_count": null,
   "id": "7611354d-e700-45ce-84c8-677e8c62e142",
   "metadata": {},
   "outputs": [],
   "source": []
  },
  {
   "cell_type": "code",
   "execution_count": null,
   "id": "946ce55c-e6ab-44a4-80f2-040e6a422dd8",
   "metadata": {},
   "outputs": [],
   "source": []
  }
 ],
 "metadata": {
  "kernelspec": {
   "display_name": "Python 3 (ipykernel)",
   "language": "python",
   "name": "python3"
  },
  "language_info": {
   "codemirror_mode": {
    "name": "ipython",
    "version": 3
   },
   "file_extension": ".py",
   "mimetype": "text/x-python",
   "name": "python",
   "nbconvert_exporter": "python",
   "pygments_lexer": "ipython3",
   "version": "3.12.7"
  }
 },
 "nbformat": 4,
 "nbformat_minor": 5
}
