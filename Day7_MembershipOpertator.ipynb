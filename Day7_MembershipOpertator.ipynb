{
 "cells": [
  {
   "cell_type": "code",
   "execution_count": 1,
   "id": "3127a9e9-5fa5-4884-b817-c1b5757fc349",
   "metadata": {},
   "outputs": [
    {
     "data": {
      "text/plain": [
       "True"
      ]
     },
     "execution_count": 1,
     "metadata": {},
     "output_type": "execute_result"
    }
   ],
   "source": [
    "# string\n",
    "a=\"hey buddies\"\n",
    "\"hey\" in a"
   ]
  },
  {
   "cell_type": "code",
   "execution_count": 2,
   "id": "95794460-0bff-4d9b-9c21-1234a0be404d",
   "metadata": {},
   "outputs": [
    {
     "data": {
      "text/plain": [
       "True"
      ]
     },
     "execution_count": 2,
     "metadata": {},
     "output_type": "execute_result"
    }
   ],
   "source": [
    "a=\"hey buddies\"\n",
    "\"h\" in a"
   ]
  },
  {
   "cell_type": "code",
   "execution_count": 3,
   "id": "7ac59305-75bb-40c7-87d3-25343cd096d4",
   "metadata": {},
   "outputs": [
    {
     "data": {
      "text/plain": [
       "False"
      ]
     },
     "execution_count": 3,
     "metadata": {},
     "output_type": "execute_result"
    }
   ],
   "source": [
    "a=\"hey buddies\"\n",
    "\"hey\" not in a"
   ]
  },
  {
   "cell_type": "code",
   "execution_count": 4,
   "id": "f43a6b12-7bc9-4582-a38a-4c2b3ed4eab6",
   "metadata": {},
   "outputs": [
    {
     "data": {
      "text/plain": [
       "True"
      ]
     },
     "execution_count": 4,
     "metadata": {},
     "output_type": "execute_result"
    }
   ],
   "source": [
    "# list\n",
    "a=[10,20,30]\n",
    "10 in a"
   ]
  },
  {
   "cell_type": "code",
   "execution_count": 5,
   "id": "9723c7b2-e882-4ffa-85a7-522fe5131759",
   "metadata": {},
   "outputs": [
    {
     "data": {
      "text/plain": [
       "False"
      ]
     },
     "execution_count": 5,
     "metadata": {},
     "output_type": "execute_result"
    }
   ],
   "source": [
    "a=[10,20,30,\"hey buddies\"]\n",
    "\"hey\" in a"
   ]
  },
  {
   "cell_type": "code",
   "execution_count": 6,
   "id": "e8cd8754-2dcd-4976-831e-aa2574bb6a2c",
   "metadata": {},
   "outputs": [
    {
     "data": {
      "text/plain": [
       "True"
      ]
     },
     "execution_count": 6,
     "metadata": {},
     "output_type": "execute_result"
    }
   ],
   "source": [
    "a=[10,20,30,\"hey buddies\"]\n",
    "\"hey\" not in a"
   ]
  },
  {
   "cell_type": "code",
   "execution_count": 7,
   "id": "5d2657b0-81a5-4444-ae40-10b7500317eb",
   "metadata": {},
   "outputs": [
    {
     "data": {
      "text/plain": [
       "True"
      ]
     },
     "execution_count": 7,
     "metadata": {},
     "output_type": "execute_result"
    }
   ],
   "source": [
    "# tuple\n",
    "a=(12,34,56)\n",
    "12 in a"
   ]
  },
  {
   "cell_type": "code",
   "execution_count": 8,
   "id": "e51ea71d-0289-44f5-be51-10373394a3cb",
   "metadata": {},
   "outputs": [
    {
     "data": {
      "text/plain": [
       "True"
      ]
     },
     "execution_count": 8,
     "metadata": {},
     "output_type": "execute_result"
    }
   ],
   "source": [
    "a=(12,34,56,\"buddies\")\n",
    "\"buddies\" in a"
   ]
  },
  {
   "cell_type": "code",
   "execution_count": 9,
   "id": "3ae01245-f2c0-4112-b6ca-2ad51ae2068f",
   "metadata": {},
   "outputs": [
    {
     "data": {
      "text/plain": [
       "True"
      ]
     },
     "execution_count": 9,
     "metadata": {},
     "output_type": "execute_result"
    }
   ],
   "source": [
    "a=(12,34,56)\n",
    "\"buddies\" not in a"
   ]
  },
  {
   "cell_type": "code",
   "execution_count": 10,
   "id": "bf3d897d-1d61-4fc4-867d-b4c64e9927e0",
   "metadata": {},
   "outputs": [
    {
     "data": {
      "text/plain": [
       "False"
      ]
     },
     "execution_count": 10,
     "metadata": {},
     "output_type": "execute_result"
    }
   ],
   "source": [
    "# dictionary\n",
    "a={1:\"sakthi\",2:10,3:12}\n",
    "10 in a"
   ]
  },
  {
   "cell_type": "code",
   "execution_count": 11,
   "id": "6e37eb6f-3631-4975-8623-c3449b9c3a26",
   "metadata": {},
   "outputs": [
    {
     "data": {
      "text/plain": [
       "True"
      ]
     },
     "execution_count": 11,
     "metadata": {},
     "output_type": "execute_result"
    }
   ],
   "source": [
    "a={1:\"sakthi\",2:10,3:12}\n",
    "2 in a"
   ]
  },
  {
   "cell_type": "code",
   "execution_count": 12,
   "id": "927f47f7-7a00-4dbe-8390-53f5abb4c07d",
   "metadata": {},
   "outputs": [
    {
     "data": {
      "text/plain": [
       "False"
      ]
     },
     "execution_count": 12,
     "metadata": {},
     "output_type": "execute_result"
    }
   ],
   "source": [
    "# set\n",
    "a={10,20,89,90}\n",
    "10 not in a"
   ]
  }
 ],
 "metadata": {
  "kernelspec": {
   "display_name": "Python 3 (ipykernel)",
   "language": "python",
   "name": "python3"
  },
  "language_info": {
   "codemirror_mode": {
    "name": "ipython",
    "version": 3
   },
   "file_extension": ".py",
   "mimetype": "text/x-python",
   "name": "python",
   "nbconvert_exporter": "python",
   "pygments_lexer": "ipython3",
   "version": "3.12.7"
  }
 },
 "nbformat": 4,
 "nbformat_minor": 5
}
