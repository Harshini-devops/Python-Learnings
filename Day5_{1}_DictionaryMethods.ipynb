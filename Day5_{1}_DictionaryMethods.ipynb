{
 "cells": [
  {
   "cell_type": "code",
   "execution_count": 1,
   "id": "c97b8975-6285-4811-bb74-4830261f6a2b",
   "metadata": {},
   "outputs": [
    {
     "data": {
      "text/plain": [
       "dict_items([('name', 'sakthi'), ('age', 67), ('height', 4.5)])"
      ]
     },
     "execution_count": 1,
     "metadata": {},
     "output_type": "execute_result"
    }
   ],
   "source": [
    "# items()\n",
    "d={\"name\":\"sakthi\",\"age\":67,\"height\":4.5}\n",
    "d.items()"
   ]
  },
  {
   "cell_type": "code",
   "execution_count": 2,
   "id": "fb51448c-3a62-45f6-8ee5-95b434303cfa",
   "metadata": {},
   "outputs": [
    {
     "data": {
      "text/plain": [
       "dict_keys(['name', 'age', 'height'])"
      ]
     },
     "execution_count": 2,
     "metadata": {},
     "output_type": "execute_result"
    }
   ],
   "source": [
    "# keys()\n",
    "d={\"name\":\"sakthi\",\"age\":67,\"height\":4.5}\n",
    "d.keys()"
   ]
  },
  {
   "cell_type": "code",
   "execution_count": 3,
   "id": "2d2beed2-9eb2-4553-92c9-795f5d6098fd",
   "metadata": {},
   "outputs": [
    {
     "data": {
      "text/plain": [
       "dict_values(['sakthi', 67, 4.5])"
      ]
     },
     "execution_count": 3,
     "metadata": {},
     "output_type": "execute_result"
    }
   ],
   "source": [
    "# values()\n",
    "d={\"name\":\"sakthi\",\"age\":67,\"height\":4.5}\n",
    "d.values()"
   ]
  },
  {
   "cell_type": "code",
   "execution_count": 4,
   "id": "a02b3cb1-898e-413e-a8a3-319096b548b0",
   "metadata": {},
   "outputs": [
    {
     "ename": "KeyError",
     "evalue": "'address'",
     "output_type": "error",
     "traceback": [
      "\u001b[1;31m---------------------------------------------------------------------------\u001b[0m",
      "\u001b[1;31mKeyError\u001b[0m                                  Traceback (most recent call last)",
      "Cell \u001b[1;32mIn[4], line 3\u001b[0m\n\u001b[0;32m      1\u001b[0m \u001b[38;5;66;03m# access- get()\u001b[39;00m\n\u001b[0;32m      2\u001b[0m d\u001b[38;5;241m=\u001b[39m{\u001b[38;5;124m\"\u001b[39m\u001b[38;5;124mname\u001b[39m\u001b[38;5;124m\"\u001b[39m:\u001b[38;5;124m\"\u001b[39m\u001b[38;5;124msakthi\u001b[39m\u001b[38;5;124m\"\u001b[39m,\u001b[38;5;124m\"\u001b[39m\u001b[38;5;124mage\u001b[39m\u001b[38;5;124m\"\u001b[39m:\u001b[38;5;241m67\u001b[39m,\u001b[38;5;124m\"\u001b[39m\u001b[38;5;124mheight\u001b[39m\u001b[38;5;124m\"\u001b[39m:\u001b[38;5;241m4.5\u001b[39m}\n\u001b[1;32m----> 3\u001b[0m d[\u001b[38;5;124m\"\u001b[39m\u001b[38;5;124maddress\u001b[39m\u001b[38;5;124m\"\u001b[39m]\n",
      "\u001b[1;31mKeyError\u001b[0m: 'address'"
     ]
    }
   ],
   "source": [
    "# access- get()\n",
    "d={\"name\":\"sakthi\",\"age\":67,\"height\":4.5}\n",
    "d[\"address\"]"
   ]
  },
  {
   "cell_type": "code",
   "execution_count": 14,
   "id": "55c9d4c2-e3cb-4b9d-82e3-e8feb72cbc82",
   "metadata": {},
   "outputs": [
    {
     "data": {
      "text/plain": [
       "'sakthi'"
      ]
     },
     "execution_count": 14,
     "metadata": {},
     "output_type": "execute_result"
    }
   ],
   "source": [
    "d={\"name\":\"sakthi\",\"age\":67,\"height\":4.5}\n",
    "d.get(\"name\")"
   ]
  },
  {
   "cell_type": "code",
   "execution_count": 15,
   "id": "ae4c6ffb-3570-4657-b4bd-4c0ff8109475",
   "metadata": {},
   "outputs": [
    {
     "data": {
      "text/plain": [
       "'address not found in dictionary'"
      ]
     },
     "execution_count": 15,
     "metadata": {},
     "output_type": "execute_result"
    }
   ],
   "source": [
    "d={\"name\":\"sakthi\",\"age\":67,\"height\":4.5}\n",
    "d.get(\"address\",\"address not found in dictionary\")"
   ]
  },
  {
   "cell_type": "code",
   "execution_count": 16,
   "id": "bd171dc9-5493-4e92-ae09-d7658e62188b",
   "metadata": {},
   "outputs": [
    {
     "data": {
      "text/plain": [
       "'sakthi'"
      ]
     },
     "execution_count": 16,
     "metadata": {},
     "output_type": "execute_result"
    }
   ],
   "source": [
    "d={\"name\":\"sakthi\",\"age\":67,\"height\":4.5}\n",
    "d.get(\"name\",\"notfound\")"
   ]
  },
  {
   "cell_type": "code",
   "execution_count": 17,
   "id": "2846e371-2921-4ab1-a932-b70ef6b9faf2",
   "metadata": {},
   "outputs": [
    {
     "name": "stdout",
     "output_type": "stream",
     "text": [
      "{'name': 'sakthi', 'age': 67, 'height': 4.5, 'address': 'nil'}\n"
     ]
    }
   ],
   "source": [
    "# update()\n",
    "d={\"name\":\"sakthi\",\"age\":67,\"height\":4.5}\n",
    "d.update(address=\"nil\")\n",
    "print(d)"
   ]
  },
  {
   "cell_type": "code",
   "execution_count": 18,
   "id": "083f0060-15f9-419b-b3fd-5f2d8871ebd4",
   "metadata": {},
   "outputs": [
    {
     "name": "stdout",
     "output_type": "stream",
     "text": [
      "{'name': 'sakthi', 'age': 67, 'height': 4.5, 'address': 'nil'}\n"
     ]
    }
   ],
   "source": [
    "d1={\"name\":\"sakthi\",\"age\":67,\"height\":4.5}\n",
    "d2={\"address\":\"nil\"}\n",
    "d1.update(d2)\n",
    "print(d1)"
   ]
  },
  {
   "cell_type": "code",
   "execution_count": 19,
   "id": "a7403f44-fcee-40d6-9a66-11a9f85a1d9e",
   "metadata": {},
   "outputs": [
    {
     "name": "stdout",
     "output_type": "stream",
     "text": [
      "{'name': 'sakthi', 'age': 67, 'height': 4.5, 'address': 'nil', 'fname': 'shiva'}\n"
     ]
    }
   ],
   "source": [
    "d1={\"name\":\"sakthi\",\"age\":67,\"height\":4.5}\n",
    "d2={\"address\":\"nil\"}\n",
    "d1.update(d2,fname=\"shiva\")\n",
    "print(d1)"
   ]
  },
  {
   "cell_type": "code",
   "execution_count": 20,
   "id": "fd51de86-bbe9-4702-ba9a-75aae06b20f8",
   "metadata": {},
   "outputs": [
    {
     "name": "stdout",
     "output_type": "stream",
     "text": [
      "{'name': 'shiva', 'age': 67, 'height': 4.5}\n"
     ]
    }
   ],
   "source": [
    "d={\"name\":\"sakthi\",\"age\":67,\"height\":4.5}\n",
    "d.update(name=\"shiva\")\n",
    "print(d)"
   ]
  },
  {
   "cell_type": "code",
   "execution_count": 21,
   "id": "e03e8fd1-3c5b-49d5-bdcb-ef740cc91684",
   "metadata": {},
   "outputs": [
    {
     "name": "stdout",
     "output_type": "stream",
     "text": [
      "{'name': 'sakthi', 'age': 67, 'height': 4.5}\n"
     ]
    }
   ],
   "source": [
    "# copy()\n",
    "d1={\"name\":\"sakthi\",\"age\":67,\"height\":4.5}\n",
    "d2=d1.copy()\n",
    "print(d2)"
   ]
  },
  {
   "cell_type": "code",
   "execution_count": 22,
   "id": "f4861518-9fc8-4123-83ef-6bd44b42313c",
   "metadata": {},
   "outputs": [
    {
     "data": {
      "text/plain": [
       "{'sakthi': 'nil', 'shiva': 'nil'}"
      ]
     },
     "execution_count": 22,
     "metadata": {},
     "output_type": "execute_result"
    }
   ],
   "source": [
    "# fromkeys()\n",
    "name=(\"sakthi\",\"shiva\")\n",
    "val=(\"nil\")\n",
    "empty={}\n",
    "empty.fromkeys(name,val)"
   ]
  },
  {
   "cell_type": "code",
   "execution_count": 23,
   "id": "2c372318-0d09-44bd-a447-01168a87680a",
   "metadata": {},
   "outputs": [
    {
     "name": "stdout",
     "output_type": "stream",
     "text": [
      "{'name': 'sakthi', 'age': 67, 'height': 4.5, 'fname': 'shiva'}\n"
     ]
    }
   ],
   "source": [
    "# setdefault()\n",
    "d={\"name\":\"sakthi\",\"age\":67,\"height\":4.5}\n",
    "d.setdefault(\"fname\",\"shiva\")\n",
    "print(d)"
   ]
  },
  {
   "cell_type": "code",
   "execution_count": 24,
   "id": "85ec37c9-3636-4bd4-8205-49c72a983317",
   "metadata": {},
   "outputs": [
    {
     "name": "stdout",
     "output_type": "stream",
     "text": [
      "{'name': 'sakthi', 'age': 67, 'height': 4.5}\n"
     ]
    }
   ],
   "source": [
    "d={\"name\":\"sakthi\",\"age\":67,\"height\":4.5}\n",
    "d.setdefault(\"age\",90)\n",
    "print(d)"
   ]
  },
  {
   "cell_type": "code",
   "execution_count": 25,
   "id": "daa99edb-50d7-42f0-8c7e-5e842c86f221",
   "metadata": {},
   "outputs": [
    {
     "name": "stdout",
     "output_type": "stream",
     "text": [
      "{'age': 67, 'height': 4.5}\n"
     ]
    }
   ],
   "source": [
    "# pop()\n",
    "d={\"name\":\"sakthi\",\"age\":67,\"height\":4.5}\n",
    "d.pop(\"name\")\n",
    "print(d)"
   ]
  },
  {
   "cell_type": "code",
   "execution_count": 26,
   "id": "88c8bf35-586c-42a1-b738-93ad27d17ef7",
   "metadata": {},
   "outputs": [
    {
     "name": "stdout",
     "output_type": "stream",
     "text": [
      "{'name': 'sakthi', 'age': 67}\n"
     ]
    }
   ],
   "source": [
    "# popitem()\n",
    "d={\"name\":\"sakthi\",\"age\":67,\"height\":4.5}\n",
    "d.popitem()\n",
    "print(d)"
   ]
  },
  {
   "cell_type": "code",
   "execution_count": 27,
   "id": "ea06b4cf-5f9d-49c4-a5b0-c6cae41ab891",
   "metadata": {},
   "outputs": [
    {
     "name": "stdout",
     "output_type": "stream",
     "text": [
      "{'age': 67, 'height': 4.5}\n"
     ]
    }
   ],
   "source": [
    "# del()\n",
    "d={\"name\":\"sakthi\",\"age\":67,\"height\":4.5}\n",
    "del d[\"name\"]\n",
    "print(d)"
   ]
  },
  {
   "cell_type": "code",
   "execution_count": 28,
   "id": "35aaf911-0e39-473f-9c33-8e210929ff51",
   "metadata": {},
   "outputs": [
    {
     "ename": "NameError",
     "evalue": "name 'd' is not defined",
     "output_type": "error",
     "traceback": [
      "\u001b[1;31m---------------------------------------------------------------------------\u001b[0m",
      "\u001b[1;31mNameError\u001b[0m                                 Traceback (most recent call last)",
      "Cell \u001b[1;32mIn[28], line 3\u001b[0m\n\u001b[0;32m      1\u001b[0m d\u001b[38;5;241m=\u001b[39m{\u001b[38;5;124m\"\u001b[39m\u001b[38;5;124mname\u001b[39m\u001b[38;5;124m\"\u001b[39m:\u001b[38;5;124m\"\u001b[39m\u001b[38;5;124msakthi\u001b[39m\u001b[38;5;124m\"\u001b[39m,\u001b[38;5;124m\"\u001b[39m\u001b[38;5;124mage\u001b[39m\u001b[38;5;124m\"\u001b[39m:\u001b[38;5;241m67\u001b[39m,\u001b[38;5;124m\"\u001b[39m\u001b[38;5;124mheight\u001b[39m\u001b[38;5;124m\"\u001b[39m:\u001b[38;5;241m4.5\u001b[39m}\n\u001b[0;32m      2\u001b[0m \u001b[38;5;28;01mdel\u001b[39;00m d\n\u001b[1;32m----> 3\u001b[0m \u001b[38;5;28mprint\u001b[39m(d)\n",
      "\u001b[1;31mNameError\u001b[0m: name 'd' is not defined"
     ]
    }
   ],
   "source": [
    "d={\"name\":\"sakthi\",\"age\":67,\"height\":4.5}\n",
    "del d\n",
    "print(d)"
   ]
  },
  {
   "cell_type": "code",
   "execution_count": 29,
   "id": "03dd168a-1df2-4982-922d-57e72c36c0a7",
   "metadata": {},
   "outputs": [
    {
     "name": "stdout",
     "output_type": "stream",
     "text": [
      "{}\n"
     ]
    }
   ],
   "source": [
    "# clear()\n",
    "d={\"name\":\"sakthi\",\"age\":67,\"height\":4.5}\n",
    "d.clear()\n",
    "print(d)"
   ]
  }
 ],
 "metadata": {
  "kernelspec": {
   "display_name": "Python 3 (ipykernel)",
   "language": "python",
   "name": "python3"
  },
  "language_info": {
   "codemirror_mode": {
    "name": "ipython",
    "version": 3
   },
   "file_extension": ".py",
   "mimetype": "text/x-python",
   "name": "python",
   "nbconvert_exporter": "python",
   "pygments_lexer": "ipython3",
   "version": "3.12.7"
  }
 },
 "nbformat": 4,
 "nbformat_minor": 5
}
