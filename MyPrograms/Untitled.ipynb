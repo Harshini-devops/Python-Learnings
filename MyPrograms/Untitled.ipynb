{
 "cells": [
  {
   "cell_type": "code",
   "execution_count": 10,
   "id": "cc2fb516-5abf-43e5-8c65-f921cf87eab0",
   "metadata": {},
   "outputs": [
    {
     "name": "stdin",
     "output_type": "stream",
     "text": [
      "enter one number 5\n"
     ]
    },
    {
     "name": "stdout",
     "output_type": "stream",
     "text": [
      "Positive\n",
      "program terminated\n"
     ]
    }
   ],
   "source": [
    "#Find Positive or Negative\n",
    "\n",
    "num1=int(input(\"enter one number\"))\n",
    "if(num1>0):\n",
    "    print(\"Positive\")\n",
    "elif(num1==0):\n",
    "    print(\"Zero\")\n",
    "else:\n",
    "    print(\"Negative\")\n",
    "print(\"program terminated\")"
   ]
  },
  {
   "cell_type": "code",
   "execution_count": 28,
   "id": "4f6231bb-1fbf-4b89-9ca7-c66a85b2f3e8",
   "metadata": {},
   "outputs": [
    {
     "name": "stdin",
     "output_type": "stream",
     "text": [
      "enter one number 4\n"
     ]
    },
    {
     "name": "stdout",
     "output_type": "stream",
     "text": [
      "Even\n",
      "program terminated\n"
     ]
    }
   ],
   "source": [
    "#Find Odd or Even\n",
    "\n",
    "num1=int(input(\"enter one number\"))\n",
    "if(num1%2==0):\n",
    "    print(\"Even\")\n",
    "else:\n",
    "    print(\"Odd\")\n",
    "print(\"program terminated\")"
   ]
  },
  {
   "cell_type": "code",
   "execution_count": 44,
   "id": "43e04a05-a040-4d6f-b182-80d0443e5f89",
   "metadata": {},
   "outputs": [
    {
     "name": "stdin",
     "output_type": "stream",
     "text": [
      "enter one value B\n"
     ]
    },
    {
     "name": "stdout",
     "output_type": "stream",
     "text": [
      "Alphabet\n"
     ]
    }
   ],
   "source": [
    "#Given value alphabet or not\n",
    "\n",
    "value1=input(\"enter one value\")\n",
    "if(value1>='a' and value1<='z') or (value1>='A' and value1<='Z'):\n",
    "    print(\"Alphabet\")\n",
    "else:\n",
    "    print(\"not and alphabet\")\n",
    "\n",
    "       "
   ]
  },
  {
   "cell_type": "code",
   "execution_count": 64,
   "id": "101000a1-aaeb-4479-ac88-6fe4310bc24c",
   "metadata": {},
   "outputs": [
    {
     "name": "stdin",
     "output_type": "stream",
     "text": [
      "enter one value T\n"
     ]
    },
    {
     "name": "stdout",
     "output_type": "stream",
     "text": [
      "not an vowel\n"
     ]
    }
   ],
   "source": [
    "#Given value vowels or Consonant\n",
    "\n",
    "value1=input(\"enter one value\")\n",
    "if(value1=='a' or value1=='e' or value1=='i' or value1=='o' or value1=='u') or (value1=='A' or value1=='E' or value1=='I' or value1=='O' or value1=='U'):\n",
    "    print(\"Vowel\")\n",
    "else:\n",
    "    print(\"Consonant\")\n",
    "\n",
    "       "
   ]
  },
  {
   "cell_type": "code",
   "execution_count": 72,
   "id": "97f37eb1-880d-4631-9ad0-9b8bcfb3d191",
   "metadata": {},
   "outputs": [
    {
     "name": "stdin",
     "output_type": "stream",
     "text": [
      "enter your first number: 100\n",
      "enter your second number: 50\n"
     ]
    },
    {
     "name": "stdout",
     "output_type": "stream",
     "text": [
      "sum of 100,50 is 150\n",
      "subtraction of 100,50 is 50\n",
      "multiplication of 100,50 is 5000\n",
      "division of 100,50 is 2.0\n"
     ]
    }
   ],
   "source": [
    "a=int(input(\"enter your first number:\"))\n",
    "b=int(input(\"enter your second number:\"))\n",
    "add=a+b\n",
    "sub=a-b\n",
    "mul=a*b\n",
    "div=a/b\n",
    "print(\"sum of {0},{1} is {2}\".format(a,b,add))\n",
    "print(\"subtraction of {0},{1} is {2}\".format(a,b,sub))\n",
    "print(\"multiplication of {0},{1} is {2}\".format(a,b,mul))\n",
    "print(\"division of {0},{1} is {2}\".format(a,b,div))"
   ]
  },
  {
   "cell_type": "code",
   "execution_count": 78,
   "id": "61eb533b-b4cc-47cf-bc22-2735974651bb",
   "metadata": {},
   "outputs": [
    {
     "name": "stdin",
     "output_type": "stream",
     "text": [
      "enter first number: 10\n",
      "enter second number: 20\n",
      "enter third number: 30\n"
     ]
    },
    {
     "name": "stdout",
     "output_type": "stream",
     "text": [
      "average of: 20.0\n"
     ]
    }
   ],
   "source": [
    "#average\n",
    "\n",
    "n1=int(input(\"enter first number:\"))\n",
    "n2=int(input(\"enter second number:\"))\n",
    "n3=int(input(\"enter third number:\"))\n",
    "print(\"average of:\",(n1+n2+n3)/3)"
   ]
  },
  {
   "cell_type": "code",
   "execution_count": 86,
   "id": "3c48b340-8924-4c7b-b80b-0f44347f2153",
   "metadata": {},
   "outputs": [
    {
     "name": "stdin",
     "output_type": "stream",
     "text": [
      "for how many numbers you want to find average: 3\n",
      "enter num 10\n",
      "enter num 20\n",
      "enter num 30\n"
     ]
    },
    {
     "name": "stdout",
     "output_type": "stream",
     "text": [
      "20.0\n"
     ]
    }
   ],
   "source": [
    "n=int(input(\"for how many numbers you want to find average:\"))\n",
    "i=1\n",
    "num=0\n",
    "while(i<=n):\n",
    "    num1=int(input(\"enter num\"))\n",
    "    num=num+num1\n",
    "    i=i+1\n",
    "else:\n",
    "    (\"End\")\n",
    "print(num/n)"
   ]
  },
  {
   "cell_type": "code",
   "execution_count": 108,
   "id": "47156a7e-1894-403f-8d4b-c79d02529275",
   "metadata": {},
   "outputs": [
    {
     "name": "stdin",
     "output_type": "stream",
     "text": [
      "for how many numbers you want to find average: 3\n",
      "Enter your values 10\n",
      "Enter your values 20\n",
      "Enter your values 30\n"
     ]
    },
    {
     "name": "stdout",
     "output_type": "stream",
     "text": [
      "Average is 20.0\n"
     ]
    }
   ],
   "source": [
    "#best method to find average\n",
    "\n",
    "\n",
    "n=int(input(\"for how many numbers you want to find average:\"))\n",
    "values=[]                                #creating empty list\n",
    "for i in range(0,n):                     # for iterating from 0 to n\n",
    "    a=int(input(\"Enter your values\"))    # input values\n",
    "    values.append(a)                     #append the input to the list\n",
    "average=sum(values)/n                    #performing sum and avg\n",
    "print(\"Average is\",average)\n",
    "\n",
    "\n",
    "    \n",
    "    "
   ]
  },
  {
   "cell_type": "code",
   "execution_count": 120,
   "id": "bc104568-a81e-419d-b6ac-20a4d19e8e98",
   "metadata": {},
   "outputs": [
    {
     "name": "stdout",
     "output_type": "stream",
     "text": [
      "[10, 20, 30, 40, 50]\n"
     ]
    }
   ],
   "source": [
    "#print all numbers in a range that are divisible by given number\n",
    "\n",
    "Number=10\n",
    "start=10\n",
    "end=50\n",
    "element=[]\n",
    "for i in range(start,end+1):\n",
    "    if(i%Number==0):\n",
    "        element.append(i)\n",
    "print(element)"
   ]
  },
  {
   "cell_type": "code",
   "execution_count": 122,
   "id": "2d927c91-f5d4-4bbb-93d9-aac664f532f1",
   "metadata": {},
   "outputs": [
    {
     "name": "stdin",
     "output_type": "stream",
     "text": [
      "enter your tamil mark: 80\n",
      "enter your english mark: 60\n",
      "enter your maths mark: 70\n"
     ]
    },
    {
     "name": "stdout",
     "output_type": "stream",
     "text": [
      "average is: 70.0\n",
      "C grade\n"
     ]
    }
   ],
   "source": [
    "#finding grade\n",
    "\n",
    "s1=int(input(\"enter your tamil mark:\"))\n",
    "s2=int(input(\"enter your english mark:\"))\n",
    "s3=int(input(\"enter your maths mark:\"))\n",
    "avg=(s1+s2+s3)/3\n",
    "print(\"average is:\",avg)\n",
    "if(avg>=90):\n",
    "    print(\"A grade\")\n",
    "elif(avg>=80 and avg<90):\n",
    "    print(\"B grade\")\n",
    "elif(avg>=70 and avg<80):\n",
    "    print(\"C grade\")\n",
    "elif (avg>=60 and avg<70):\n",
    "    print(\"D grade\")\n",
    "else:\n",
    "    print(\"sorry you are failed\")"
   ]
  },
  {
   "cell_type": "code",
   "execution_count": 134,
   "id": "de7936e0-98ac-45d3-9194-fe6a101bde63",
   "metadata": {},
   "outputs": [
    {
     "name": "stdout",
     "output_type": "stream",
     "text": [
      "with temp variable\n",
      "before swap 1 2\n",
      "after swap 2 1\n",
      "without temp variable\n",
      "before swap 1 2\n",
      "after swap 2 1\n"
     ]
    }
   ],
   "source": [
    "#Swapping of Two numbers with temporary variable\n",
    "\n",
    "print(\"with temp variable\")\n",
    "a=1\n",
    "b=2\n",
    "print(\"before swap\",a,b)\n",
    "c=a\n",
    "a=b\n",
    "b=c\n",
    "print(\"after swap\",a,b )\n",
    "\n",
    "#Swapping of Two numbers without temporary variable\n",
    "print(\"without temp variable\")\n",
    "a=1\n",
    "b=2\n",
    "print(\"before swap\",a,b)\n",
    "a,b=b,a\n",
    "print(\"after swap\",a,b)"
   ]
  },
  {
   "cell_type": "code",
   "execution_count": null,
   "id": "344c650c-7694-4c53-815b-b4625374847a",
   "metadata": {},
   "outputs": [],
   "source": []
  }
 ],
 "metadata": {
  "kernelspec": {
   "display_name": "Python 3 (ipykernel)",
   "language": "python",
   "name": "python3"
  },
  "language_info": {
   "codemirror_mode": {
    "name": "ipython",
    "version": 3
   },
   "file_extension": ".py",
   "mimetype": "text/x-python",
   "name": "python",
   "nbconvert_exporter": "python",
   "pygments_lexer": "ipython3",
   "version": "3.12.7"
  }
 },
 "nbformat": 4,
 "nbformat_minor": 5
}
