{
 "cells": [
  {
   "cell_type": "code",
   "execution_count": null,
   "id": "fe10c711-c198-4718-857d-4b8e7fe45c87",
   "metadata": {},
   "outputs": [],
   "source": [
    "#    1) Set and Dict looks same as it holds{}; but in dict we have key and value; but in set we have only value\n",
    "#    2) Set is both mutable and unmutable : existing value inside set cant be changed but new value can get inserted\n",
    "#    3) Set dont have indexing and slicing; hence existing value we cant denote to make changes\n",
    "#    4) Set cant contain duplicate values; it takes only unique\n",
    "#    5) Set is unordered"
   ]
  },
  {
   "cell_type": "code",
   "execution_count": 1,
   "id": "5f9421e4-849b-434c-9547-799c2dd85278",
   "metadata": {},
   "outputs": [
    {
     "data": {
      "text/plain": [
       "{'black', 'green', 'grey', 'orange', 'pink', 'white', 'yellow'}"
      ]
     },
     "execution_count": 1,
     "metadata": {},
     "output_type": "execute_result"
    }
   ],
   "source": [
    "# union()\n",
    "a={'orange','yellow','black','pink'}\n",
    "b={'pink','white','grey','green','black'}\n",
    "a.union(b)"
   ]
  },
  {
   "cell_type": "code",
   "execution_count": 2,
   "id": "5de96066-d112-4de5-8b5f-29ecdb966fb4",
   "metadata": {},
   "outputs": [
    {
     "data": {
      "text/plain": [
       "{'black', 'green', 'grey', 'orange', 'pink', 'red', 'white', 'yellow'}"
      ]
     },
     "execution_count": 2,
     "metadata": {},
     "output_type": "execute_result"
    }
   ],
   "source": [
    "a={'orange','yellow','black','pink'}\n",
    "b={'pink','white','grey','green','black'}\n",
    "c={\"red\"}\n",
    "a.union(b,c)"
   ]
  },
  {
   "cell_type": "code",
   "execution_count": 3,
   "id": "ef025f76-cd56-479b-a94b-ce818c8fc4c3",
   "metadata": {},
   "outputs": [
    {
     "data": {
      "text/plain": [
       "{'black', 'pink'}"
      ]
     },
     "execution_count": 3,
     "metadata": {},
     "output_type": "execute_result"
    }
   ],
   "source": [
    "# intersection()\n",
    "a={'orange','yellow','black','pink'}\n",
    "b={'pink','white','grey','green','black'}\n",
    "a.intersection(b)\n",
    "# print(a)"
   ]
  },
  {
   "cell_type": "code",
   "execution_count": 4,
   "id": "b7cc4a43-f23c-4d87-bebd-3bae16096aba",
   "metadata": {},
   "outputs": [
    {
     "data": {
      "text/plain": [
       "{'black', 'green'}"
      ]
     },
     "execution_count": 4,
     "metadata": {},
     "output_type": "execute_result"
    }
   ],
   "source": [
    "a={'orange','yellow','black','pink',\"green\"}\n",
    "b={'pink','white','grey','green','black'}\n",
    "c={\"green\",\"black\"}\n",
    "a.intersection(b,c)"
   ]
  },
  {
   "cell_type": "code",
   "execution_count": 5,
   "id": "258a4537-4223-4a55-abeb-8d127607e323",
   "metadata": {},
   "outputs": [
    {
     "name": "stdout",
     "output_type": "stream",
     "text": [
      "{'black', 'pink'}\n"
     ]
    }
   ],
   "source": [
    "# intersection_update()\n",
    "a={'orange','yellow','black','pink'}\n",
    "b={'pink','white','grey','green','black'}\n",
    "a.intersection_update(b)\n",
    "print(a)"
   ]
  },
  {
   "cell_type": "code",
   "execution_count": 6,
   "id": "1d4230b7-a03c-44c7-b1f6-3b415d7e8d98",
   "metadata": {},
   "outputs": [
    {
     "data": {
      "text/plain": [
       "{'orange', 'yellow'}"
      ]
     },
     "execution_count": 6,
     "metadata": {},
     "output_type": "execute_result"
    }
   ],
   "source": [
    "# difference()\n",
    "a={'orange','yellow','black','pink'}\n",
    "b={'pink','white','grey','green','black'}\n",
    "a.difference(b)"
   ]
  },
  {
   "cell_type": "code",
   "execution_count": 7,
   "id": "1e88fa9e-4b05-407d-997a-cd289dd1f5e5",
   "metadata": {},
   "outputs": [
    {
     "data": {
      "text/plain": [
       "{'green', 'grey', 'white'}"
      ]
     },
     "execution_count": 7,
     "metadata": {},
     "output_type": "execute_result"
    }
   ],
   "source": [
    "a={'orange','yellow','black','pink'}\n",
    "b={'pink','white','grey','green','black'}\n",
    "b.difference(a)"
   ]
  },
  {
   "cell_type": "code",
   "execution_count": 8,
   "id": "47932a0a-4ca6-4480-bedf-dca48c958d31",
   "metadata": {},
   "outputs": [
    {
     "name": "stdout",
     "output_type": "stream",
     "text": [
      "{'yellow', 'orange'}\n"
     ]
    }
   ],
   "source": [
    "# difference_update()\n",
    "a={'orange','yellow','black','pink'}\n",
    "b={'pink','white','grey','green','black'}\n",
    "a.difference_update(b)\n",
    "print(a)"
   ]
  },
  {
   "cell_type": "code",
   "execution_count": 9,
   "id": "31567baf-61f2-45b8-b258-8481c2567402",
   "metadata": {},
   "outputs": [
    {
     "data": {
      "text/plain": [
       "{'green', 'grey', 'orange', 'white', 'yellow'}"
      ]
     },
     "execution_count": 9,
     "metadata": {},
     "output_type": "execute_result"
    }
   ],
   "source": [
    "# symmetric difference()\n",
    "a={'orange','yellow','black','pink'}\n",
    "b={'pink','white','grey','green','black'}\n",
    "a.symmetric_difference(b)"
   ]
  },
  {
   "cell_type": "code",
   "execution_count": 10,
   "id": "dc0b4b5a-e063-4a88-86ad-cb7671c6dc11",
   "metadata": {},
   "outputs": [
    {
     "name": "stdout",
     "output_type": "stream",
     "text": [
      "{'green', 'white', 'grey', 'orange', 'yellow'}\n"
     ]
    }
   ],
   "source": [
    "# symmetric difference_update()\n",
    "a={'orange','yellow','black','pink'}\n",
    "b={'pink','white','grey','green','black'}\n",
    "a.symmetric_difference_update(b)\n",
    "print(a)"
   ]
  },
  {
   "cell_type": "code",
   "execution_count": 11,
   "id": "f33701e8-6a78-47bd-b6cf-9c6dddea983c",
   "metadata": {},
   "outputs": [
    {
     "data": {
      "text/plain": [
       "False"
      ]
     },
     "execution_count": 11,
     "metadata": {},
     "output_type": "execute_result"
    }
   ],
   "source": [
    "# issubset()\n",
    "a={'orange','yellow','black','pink'}\n",
    "b={'pink','white','grey','green','black'}\n",
    "a.issubset(b)"
   ]
  },
  {
   "cell_type": "code",
   "execution_count": 12,
   "id": "48e2724b-3290-4550-a13a-ecdadbc74226",
   "metadata": {},
   "outputs": [
    {
     "data": {
      "text/plain": [
       "False"
      ]
     },
     "execution_count": 12,
     "metadata": {},
     "output_type": "execute_result"
    }
   ],
   "source": [
    "a={'black','pink',\"orange\"}\n",
    "b={'pink','white','grey','green','black'}\n",
    "a.issubset(b)"
   ]
  },
  {
   "cell_type": "code",
   "execution_count": 13,
   "id": "b8a60b35-bd91-4d19-b70f-249b288ee20c",
   "metadata": {},
   "outputs": [
    {
     "data": {
      "text/plain": [
       "False"
      ]
     },
     "execution_count": 13,
     "metadata": {},
     "output_type": "execute_result"
    }
   ],
   "source": [
    "# issuperset()\n",
    "a={'orange','yellow','black','pink'}\n",
    "b={'pink','white','grey','green','black'}\n",
    "a.issuperset(b)"
   ]
  },
  {
   "cell_type": "code",
   "execution_count": 14,
   "id": "ce2b0df7-328c-44e4-9732-042b790456c6",
   "metadata": {},
   "outputs": [
    {
     "data": {
      "text/plain": [
       "True"
      ]
     },
     "execution_count": 14,
     "metadata": {},
     "output_type": "execute_result"
    }
   ],
   "source": [
    "a={'orange','yellow','black','pink',\"white\",\"grey\",\"green\"}\n",
    "b={'pink','white','grey','green','black'}\n",
    "a.issuperset(b)"
   ]
  },
  {
   "cell_type": "code",
   "execution_count": 15,
   "id": "c6ee6296-ec19-499c-8d75-88009ee63d92",
   "metadata": {},
   "outputs": [
    {
     "data": {
      "text/plain": [
       "False"
      ]
     },
     "execution_count": 15,
     "metadata": {},
     "output_type": "execute_result"
    }
   ],
   "source": [
    "# isdisjoint()\n",
    "a={'orange','yellow','black','pink'}\n",
    "b={'pink','white','grey','green','black'}\n",
    "a.isdisjoint(b)"
   ]
  },
  {
   "cell_type": "code",
   "execution_count": 16,
   "id": "f1a7dd3f-1a41-4100-939b-28819841dd29",
   "metadata": {},
   "outputs": [
    {
     "data": {
      "text/plain": [
       "True"
      ]
     },
     "execution_count": 16,
     "metadata": {},
     "output_type": "execute_result"
    }
   ],
   "source": [
    "a={'orange','yellow'}\n",
    "b={'pink','white','grey','green','black'}\n",
    "a.isdisjoint(b)"
   ]
  }
 ],
 "metadata": {
  "kernelspec": {
   "display_name": "Python 3 (ipykernel)",
   "language": "python",
   "name": "python3"
  },
  "language_info": {
   "codemirror_mode": {
    "name": "ipython",
    "version": 3
   },
   "file_extension": ".py",
   "mimetype": "text/x-python",
   "name": "python",
   "nbconvert_exporter": "python",
   "pygments_lexer": "ipython3",
   "version": "3.12.7"
  }
 },
 "nbformat": 4,
 "nbformat_minor": 5
}
