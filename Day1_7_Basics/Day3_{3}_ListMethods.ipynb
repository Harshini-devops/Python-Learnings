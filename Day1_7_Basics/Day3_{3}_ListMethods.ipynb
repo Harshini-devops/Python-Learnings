{
 "cells": [
  {
   "cell_type": "code",
   "execution_count": 1,
   "id": "1568c064-43c7-4928-a294-c6d06187b355",
   "metadata": {},
   "outputs": [
    {
     "name": "stdout",
     "output_type": "stream",
     "text": [
      "4\n",
      "4\n",
      "4\n"
     ]
    }
   ],
   "source": [
    "# basic operations - len()\n",
    "l1=[1,2,3,\"hello\"]\n",
    "print(len(l1))\n",
    "l2=[1,2,3,[\"hello\"]]\n",
    "print(len(l2))\n",
    "l3=[1,2,3,[\"hello\",5]]\n",
    "print(len(l3))"
   ]
  },
  {
   "cell_type": "code",
   "execution_count": 2,
   "id": "eab15e5b-6819-4fec-8181-d5c2f92ab62e",
   "metadata": {},
   "outputs": [
    {
     "name": "stdout",
     "output_type": "stream",
     "text": [
      "[1, 2, 3, 4, 5, 6]\n"
     ]
    }
   ],
   "source": [
    "# basic operations - concatenation\n",
    "l1=[1,2,3]\n",
    "l2=[4,5,6]\n",
    "print(l1+l2)"
   ]
  },
  {
   "cell_type": "code",
   "execution_count": 3,
   "id": "8d70d984-19fe-4197-9392-09ff5e36274d",
   "metadata": {},
   "outputs": [
    {
     "name": "stdout",
     "output_type": "stream",
     "text": [
      "[1, 2, 3, 1, 2, 3, 1, 2, 3]\n"
     ]
    }
   ],
   "source": [
    "# basic operations - repetition\n",
    "l1=[1,2,3]\n",
    "print(l1*3)"
   ]
  },
  {
   "cell_type": "code",
   "execution_count": 4,
   "id": "9ceda938-df4a-418b-928d-fe39f4f3ce89",
   "metadata": {},
   "outputs": [
    {
     "data": {
      "text/plain": [
       "False"
      ]
     },
     "execution_count": 4,
     "metadata": {},
     "output_type": "execute_result"
    }
   ],
   "source": [
    "# basic operations - membership operator\n",
    "l1=[1,2,3]\n",
    "9 in l1"
   ]
  },
  {
   "cell_type": "code",
   "execution_count": 22,
   "id": "8b2209cc-c640-4059-ba1a-973a41a61a0f",
   "metadata": {},
   "outputs": [
    {
     "name": "stdout",
     "output_type": "stream",
     "text": [
      "['blue', 'yellow', 'black', 'white']\n",
      "['blue', 'yellow', 'black', 'w', 'h', 'i', 't', 'e']\n"
     ]
    }
   ],
   "source": [
    "# append () extend () -string value \n",
    "l1=[\"blue\",\"yellow\",\"black\"]\n",
    "l1.append(\"white\")\n",
    "print(l1)\n",
    "l2=[\"blue\",\"yellow\",\"black\"]\n",
    "l2.extend(\"white\")  #extend works as a iterate: that means splits to single element\n",
    "print(l2)"
   ]
  },
  {
   "cell_type": "code",
   "execution_count": 23,
   "id": "5293a7a6-4fed-43f0-9038-e49d4032f3d8",
   "metadata": {},
   "outputs": [
    {
     "name": "stdout",
     "output_type": "stream",
     "text": [
      "['blue', 'yellow', 'black', 20]\n"
     ]
    },
    {
     "ename": "TypeError",
     "evalue": "'int' object is not iterable",
     "output_type": "error",
     "traceback": [
      "\u001b[1;31m---------------------------------------------------------------------------\u001b[0m",
      "\u001b[1;31mTypeError\u001b[0m                                 Traceback (most recent call last)",
      "Cell \u001b[1;32mIn[23], line 6\u001b[0m\n\u001b[0;32m      4\u001b[0m \u001b[38;5;28mprint\u001b[39m(l1)\n\u001b[0;32m      5\u001b[0m l2\u001b[38;5;241m=\u001b[39m[\u001b[38;5;124m\"\u001b[39m\u001b[38;5;124mblue\u001b[39m\u001b[38;5;124m\"\u001b[39m,\u001b[38;5;124m\"\u001b[39m\u001b[38;5;124myellow\u001b[39m\u001b[38;5;124m\"\u001b[39m,\u001b[38;5;124m\"\u001b[39m\u001b[38;5;124mblack\u001b[39m\u001b[38;5;124m\"\u001b[39m]\n\u001b[1;32m----> 6\u001b[0m l2\u001b[38;5;241m.\u001b[39mextend(\u001b[38;5;241m20\u001b[39m)\n\u001b[0;32m      7\u001b[0m \u001b[38;5;28mprint\u001b[39m(l2)\n",
      "\u001b[1;31mTypeError\u001b[0m: 'int' object is not iterable"
     ]
    }
   ],
   "source": [
    "# append () extend () -numeric value\n",
    "l1=[\"blue\",\"yellow\",\"black\"]\n",
    "l1.append(20)\n",
    "print(l1)\n",
    "l2=[\"blue\",\"yellow\",\"black\"]\n",
    "l2.extend(20)  #extend is not applicable for Numeric; hence error\n",
    "print(l2)"
   ]
  },
  {
   "cell_type": "code",
   "execution_count": 30,
   "id": "5e1972bb-c346-45a6-8085-99b6c258dec0",
   "metadata": {},
   "outputs": [
    {
     "name": "stdout",
     "output_type": "stream",
     "text": [
      "['yellow', 'black', ['pink', 'white']]\n",
      "['yellow', 'black', 'pink', 'white']\n"
     ]
    }
   ],
   "source": [
    "# append () extend () -list\n",
    "a=[\"yellow\",\"black\"]\n",
    "b=[\"pink\",\"white\"]\n",
    "a.append(b)\n",
    "print(a)\n",
    "a=[\"yellow\",\"black\"]\n",
    "b=[\"pink\",\"white\"]\n",
    "a.extend(b)\n",
    "print(a)"
   ]
  },
  {
   "cell_type": "code",
   "execution_count": 31,
   "id": "1df0095f-b01f-4340-aa09-6761b95af1e5",
   "metadata": {},
   "outputs": [
    {
     "name": "stdout",
     "output_type": "stream",
     "text": [
      "[1, 2, [3, 4]]\n",
      "[1, 2, 3, 4]\n"
     ]
    }
   ],
   "source": [
    "# append () extend () -numeric list\n",
    "a=[1,2]\n",
    "a.append([3,4])\n",
    "print(a)\n",
    "a=[1,2]\n",
    "a.extend([3,4])\n",
    "print(a)"
   ]
  },
  {
   "cell_type": "code",
   "execution_count": 32,
   "id": "5cc46bf4-ed0c-47ef-8953-cd57a9ae0e03",
   "metadata": {},
   "outputs": [
    {
     "name": "stdout",
     "output_type": "stream",
     "text": [
      "['red', 'pink', 'orange', 'yellow']\n"
     ]
    }
   ],
   "source": [
    "# insert()\n",
    "l1=[\"red\",\"orange\",\"yellow\"]\n",
    "l1.insert(1,\"pink\")\n",
    "print(l1)"
   ]
  },
  {
   "cell_type": "code",
   "execution_count": 33,
   "id": "f73f1fbc-c63c-45a7-aa14-3f563719cde4",
   "metadata": {},
   "outputs": [
    {
     "name": "stdout",
     "output_type": "stream",
     "text": [
      "['red', 'orange']\n"
     ]
    }
   ],
   "source": [
    "# pop()\n",
    "l1=[\"red\",\"orange\",\"yellow\"]\n",
    "l1.pop() #removes/deletes the last element from the list\n",
    "print(l1)"
   ]
  },
  {
   "cell_type": "code",
   "execution_count": 34,
   "id": "39a147e0-7451-43e8-976e-7ab0af901e07",
   "metadata": {},
   "outputs": [
    {
     "name": "stdout",
     "output_type": "stream",
     "text": [
      "['red', 'yellow']\n"
     ]
    }
   ],
   "source": [
    "l1=[\"red\",\"orange\",\"yellow\"]\n",
    "l1.pop(1) #this under pop function array number is given\n",
    "print(l1)"
   ]
  },
  {
   "cell_type": "code",
   "execution_count": 35,
   "id": "2f89a047-7339-47ad-9033-43d1830b11d5",
   "metadata": {},
   "outputs": [
    {
     "name": "stdout",
     "output_type": "stream",
     "text": [
      "['red', 'orange']\n"
     ]
    }
   ],
   "source": [
    "# remove()\n",
    "l1=[\"red\",\"orange\",\"yellow\"]\n",
    "l1.remove(\"yellow\") #remove checks the first instance of specified element and removes\n",
    "print(l1)"
   ]
  },
  {
   "cell_type": "code",
   "execution_count": 55,
   "id": "e1217fc3-9ade-49af-9f98-212e78617c01",
   "metadata": {},
   "outputs": [
    {
     "name": "stdout",
     "output_type": "stream",
     "text": [
      "['red', 'orange', 'yellow']\n"
     ]
    }
   ],
   "source": [
    "l1=[\"red\",\"yellow\",\"orange\",\"yellow\"]\n",
    "l1.remove(\"yellow\")  #remove checks the first instance of specified element and removes; but the duplicate is not removed\n",
    "print(l1)"
   ]
  },
  {
   "cell_type": "code",
   "execution_count": 37,
   "id": "2955e1a1-406f-4b00-9913-25a5ee976465",
   "metadata": {},
   "outputs": [
    {
     "name": "stdout",
     "output_type": "stream",
     "text": [
      "[]\n"
     ]
    }
   ],
   "source": [
    "# clear()\n",
    "l1=[\"red\",\"yellow\",\"orange\",\"yellow\"]\n",
    "l1.clear()  #clear is used to clear the content inside the list\n",
    "print(l1)"
   ]
  },
  {
   "cell_type": "code",
   "execution_count": 38,
   "id": "2b30b583-4532-4875-8b9d-e13f0609375f",
   "metadata": {},
   "outputs": [
    {
     "ename": "NameError",
     "evalue": "name 'l1' is not defined",
     "output_type": "error",
     "traceback": [
      "\u001b[1;31m---------------------------------------------------------------------------\u001b[0m",
      "\u001b[1;31mNameError\u001b[0m                                 Traceback (most recent call last)",
      "Cell \u001b[1;32mIn[38], line 4\u001b[0m\n\u001b[0;32m      2\u001b[0m l1\u001b[38;5;241m=\u001b[39m[\u001b[38;5;124m\"\u001b[39m\u001b[38;5;124mred\u001b[39m\u001b[38;5;124m\"\u001b[39m,\u001b[38;5;124m\"\u001b[39m\u001b[38;5;124myellow\u001b[39m\u001b[38;5;124m\"\u001b[39m,\u001b[38;5;124m\"\u001b[39m\u001b[38;5;124morange\u001b[39m\u001b[38;5;124m\"\u001b[39m,\u001b[38;5;124m\"\u001b[39m\u001b[38;5;124myellow\u001b[39m\u001b[38;5;124m\"\u001b[39m]\n\u001b[0;32m      3\u001b[0m \u001b[38;5;28;01mdel\u001b[39;00m l1\n\u001b[1;32m----> 4\u001b[0m \u001b[38;5;28mprint\u001b[39m(l1)\n",
      "\u001b[1;31mNameError\u001b[0m: name 'l1' is not defined"
     ]
    }
   ],
   "source": [
    "# del()\n",
    "l1=[\"red\",\"yellow\",\"orange\",\"yellow\"] \n",
    "del l1  #delete function will delete the entire list that means assignment itself will be deleted (l1); hence when we print l1 it is not available\n",
    "print(l1)"
   ]
  },
  {
   "cell_type": "code",
   "execution_count": 44,
   "id": "9f440a1d-5a6a-42e5-8100-fcd42a0a9e34",
   "metadata": {},
   "outputs": [
    {
     "data": {
      "text/plain": [
       "0"
      ]
     },
     "execution_count": 44,
     "metadata": {},
     "output_type": "execute_result"
    }
   ],
   "source": [
    "# index()\n",
    "l1=[\"red\",\"yellow\",\"orange\",\"yellow\"]\n",
    "l1.index(\"red\")"
   ]
  },
  {
   "cell_type": "code",
   "execution_count": 45,
   "id": "f3cf2b94-91f7-4f0f-9754-e96cf2d75a8d",
   "metadata": {},
   "outputs": [
    {
     "data": {
      "text/plain": [
       "1"
      ]
     },
     "execution_count": 45,
     "metadata": {},
     "output_type": "execute_result"
    }
   ],
   "source": [
    "l1=[\"red\",\"yellow\",\"orange\",\"yellow\"]\n",
    "l1.index(\"yellow\")"
   ]
  },
  {
   "cell_type": "code",
   "execution_count": 46,
   "id": "57df605d-e323-41f0-87f8-333649d521a1",
   "metadata": {},
   "outputs": [
    {
     "data": {
      "text/plain": [
       "2"
      ]
     },
     "execution_count": 46,
     "metadata": {},
     "output_type": "execute_result"
    }
   ],
   "source": [
    "# count()\n",
    "l1=[\"red\",\"yellow\",\"orange\",\"yellow\"]\n",
    "l1.count(\"yellow\")"
   ]
  },
  {
   "cell_type": "code",
   "execution_count": 47,
   "id": "58c2f628-d243-4c3f-a83a-900654b40c2d",
   "metadata": {},
   "outputs": [
    {
     "name": "stdout",
     "output_type": "stream",
     "text": [
      "['red', 'yellow', 'orange', 'yellow']\n"
     ]
    }
   ],
   "source": [
    "# copy()\n",
    "l1=[\"red\",\"yellow\",\"orange\",\"yellow\"]\n",
    "l2=l1.copy()\n",
    "print(l2)"
   ]
  },
  {
   "cell_type": "code",
   "execution_count": 48,
   "id": "c4a84d13-5332-48d9-b59c-fff9e5913cfd",
   "metadata": {},
   "outputs": [
    {
     "name": "stdout",
     "output_type": "stream",
     "text": [
      "['orange', 'red', 'yellow', 'yellow']\n",
      "[2, 3, 5, 6, 8, 78]\n"
     ]
    },
    {
     "ename": "TypeError",
     "evalue": "'<' not supported between instances of 'int' and 'str'",
     "output_type": "error",
     "traceback": [
      "\u001b[1;31m---------------------------------------------------------------------------\u001b[0m",
      "\u001b[1;31mTypeError\u001b[0m                                 Traceback (most recent call last)",
      "Cell \u001b[1;32mIn[48], line 9\u001b[0m\n\u001b[0;32m      7\u001b[0m \u001b[38;5;28mprint\u001b[39m(l2)\n\u001b[0;32m      8\u001b[0m l3\u001b[38;5;241m=\u001b[39m[\u001b[38;5;124m\"\u001b[39m\u001b[38;5;124myellow\u001b[39m\u001b[38;5;124m\"\u001b[39m,\u001b[38;5;241m2\u001b[39m,\u001b[38;5;241m45\u001b[39m,\u001b[38;5;241m67\u001b[39m,\u001b[38;5;124m\"\u001b[39m\u001b[38;5;124mpink\u001b[39m\u001b[38;5;124m\"\u001b[39m]\n\u001b[1;32m----> 9\u001b[0m l3\u001b[38;5;241m.\u001b[39msort()\n\u001b[0;32m     10\u001b[0m \u001b[38;5;28mprint\u001b[39m(l3)\n",
      "\u001b[1;31mTypeError\u001b[0m: '<' not supported between instances of 'int' and 'str'"
     ]
    }
   ],
   "source": [
    "# sort()\n",
    "l1=[\"red\",\"yellow\",\"orange\",\"yellow\"]\n",
    "l1.sort()\n",
    "print(l1)\n",
    "l2=[2,6,8,3,5,78]\n",
    "l2.sort()\n",
    "print(l2)\n",
    "l3=[\"yellow\",2,45,67,\"pink\"]\n",
    "l3.sort()   #both numeric and string is not possible to sort\n",
    "print(l3)"
   ]
  },
  {
   "cell_type": "code",
   "execution_count": 51,
   "id": "7ed26527-436a-4e50-b386-9caaf5d6ea1a",
   "metadata": {},
   "outputs": [
    {
     "name": "stdout",
     "output_type": "stream",
     "text": [
      "['yellow', 'orange', 'yellow', 'red']\n"
     ]
    }
   ],
   "source": [
    "# reverse()\n",
    "l1=[\"red\",\"yellow\",\"orange\",\"yellow\"]\n",
    "l1.reverse()\n",
    "print(l1)"
   ]
  }
 ],
 "metadata": {
  "kernelspec": {
   "display_name": "Python 3 (ipykernel)",
   "language": "python",
   "name": "python3"
  },
  "language_info": {
   "codemirror_mode": {
    "name": "ipython",
    "version": 3
   },
   "file_extension": ".py",
   "mimetype": "text/x-python",
   "name": "python",
   "nbconvert_exporter": "python",
   "pygments_lexer": "ipython3",
   "version": "3.12.7"
  }
 },
 "nbformat": 4,
 "nbformat_minor": 5
}
