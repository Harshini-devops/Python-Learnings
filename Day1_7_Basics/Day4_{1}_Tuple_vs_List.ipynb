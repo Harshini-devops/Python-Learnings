{
 "cells": [
  {
   "cell_type": "code",
   "execution_count": 1,
   "id": "f528cf81-6f84-4e51-a607-be336b4c71a5",
   "metadata": {},
   "outputs": [
    {
     "name": "stdout",
     "output_type": "stream",
     "text": [
      "['sakthi', 23, 4.5]\n",
      "<class 'list'>\n"
     ]
    }
   ],
   "source": [
    "# syntax difference - List\n",
    "l1=[\"sakthi\",23,4.5]\n",
    "print(l1)\n",
    "print(type(l1))"
   ]
  },
  {
   "cell_type": "code",
   "execution_count": 2,
   "id": "f0075955-8cf8-47a4-a520-227d4c60e655",
   "metadata": {},
   "outputs": [
    {
     "name": "stdout",
     "output_type": "stream",
     "text": [
      "('sakthi', 23, 4.5)\n",
      "<class 'tuple'>\n"
     ]
    }
   ],
   "source": [
    "# syntax difference - Tuple\n",
    "t1=(\"sakthi\",23,4.5)\n",
    "print(t1)\n",
    "print(type(t1))"
   ]
  },
  {
   "cell_type": "code",
   "execution_count": 3,
   "id": "780f4ddd-2a22-4bb4-86e2-bb9e073afefe",
   "metadata": {},
   "outputs": [
    {
     "name": "stdout",
     "output_type": "stream",
     "text": [
      "['hai', 20, 30, 40]\n"
     ]
    }
   ],
   "source": [
    "# mutable list (adding an element)\n",
    "l2=[10,20,30,40]\n",
    "l2[0]=\"hai\"\n",
    "print(l2)"
   ]
  },
  {
   "cell_type": "code",
   "execution_count": 4,
   "id": "7b41859a-a701-4436-abf9-511ee119d3be",
   "metadata": {},
   "outputs": [
    {
     "ename": "TypeError",
     "evalue": "'tuple' object does not support item assignment",
     "output_type": "error",
     "traceback": [
      "\u001b[1;31m---------------------------------------------------------------------------\u001b[0m",
      "\u001b[1;31mTypeError\u001b[0m                                 Traceback (most recent call last)",
      "Cell \u001b[1;32mIn[4], line 3\u001b[0m\n\u001b[0;32m      1\u001b[0m \u001b[38;5;66;03m# immutable tuple (adding an element)\u001b[39;00m\n\u001b[0;32m      2\u001b[0m t2\u001b[38;5;241m=\u001b[39m(\u001b[38;5;241m10\u001b[39m,\u001b[38;5;241m20\u001b[39m,\u001b[38;5;241m30\u001b[39m,\u001b[38;5;241m40\u001b[39m)\n\u001b[1;32m----> 3\u001b[0m t2[\u001b[38;5;241m0\u001b[39m]\u001b[38;5;241m=\u001b[39m\u001b[38;5;124m\"\u001b[39m\u001b[38;5;124mhai\u001b[39m\u001b[38;5;124m\"\u001b[39m\n\u001b[0;32m      4\u001b[0m \u001b[38;5;28mprint\u001b[39m(t2)\n",
      "\u001b[1;31mTypeError\u001b[0m: 'tuple' object does not support item assignment"
     ]
    }
   ],
   "source": [
    "# immutable tuple (adding an element)\n",
    "t2=(10,20,30,40)\n",
    "t2[0]=\"hai\"\n",
    "print(t2)"
   ]
  },
  {
   "cell_type": "code",
   "execution_count": 9,
   "id": "65759396-b6b2-4cd5-b19c-dc1865011aad",
   "metadata": {},
   "outputs": [
    {
     "name": "stdout",
     "output_type": "stream",
     "text": [
      "[20, 30]\n"
     ]
    }
   ],
   "source": [
    "# mutable list (deleting an element)\n",
    "l3=[10,20,30]\n",
    "del l3[0]\n",
    "print(l3)"
   ]
  },
  {
   "cell_type": "code",
   "execution_count": 17,
   "id": "dcb42281-9e5f-46d3-8e80-4a6ad8ad2776",
   "metadata": {},
   "outputs": [
    {
     "ename": "TypeError",
     "evalue": "'tuple' object doesn't support item deletion",
     "output_type": "error",
     "traceback": [
      "\u001b[1;31m---------------------------------------------------------------------------\u001b[0m",
      "\u001b[1;31mTypeError\u001b[0m                                 Traceback (most recent call last)",
      "Cell \u001b[1;32mIn[17], line 3\u001b[0m\n\u001b[0;32m      1\u001b[0m \u001b[38;5;66;03m# immutable tuple (deleting an element)\u001b[39;00m\n\u001b[0;32m      2\u001b[0m t3\u001b[38;5;241m=\u001b[39m(\u001b[38;5;241m10\u001b[39m,\u001b[38;5;241m20\u001b[39m,\u001b[38;5;241m30\u001b[39m)\n\u001b[1;32m----> 3\u001b[0m \u001b[38;5;28;01mdel\u001b[39;00m t3[\u001b[38;5;241m0\u001b[39m]  \u001b[38;5;66;03m# we cant delete the content inside the tuple\u001b[39;00m\n\u001b[0;32m      4\u001b[0m \u001b[38;5;28mprint\u001b[39m(t3)\n\u001b[0;32m      5\u001b[0m \u001b[38;5;28;01mdel\u001b[39;00m t3     \u001b[38;5;66;03m# but we can delete the entire tuple by del t3\u001b[39;00m\n",
      "\u001b[1;31mTypeError\u001b[0m: 'tuple' object doesn't support item deletion"
     ]
    }
   ],
   "source": [
    "# immutable tuple (deleting an element)\n",
    "t3=(10,20,30)\n",
    "del t3[0]  # we cant delete the content inside the tuple\n",
    "print(t3)\n",
    "del t3     # but we can delete the entire tuple by del t3\n",
    "print(t3)"
   ]
  },
  {
   "cell_type": "code",
   "execution_count": 13,
   "id": "528d8590-a73a-4274-be9d-a9100b008d12",
   "metadata": {},
   "outputs": [
    {
     "name": "stdout",
     "output_type": "stream",
     "text": [
      "72\n",
      "48\n"
     ]
    }
   ],
   "source": [
    "# size comparison - list vs tuple\n",
    "l5=[\"gurukula\",\"happy\",\"learning\"]\n",
    "print(l5.__sizeof__())     #this occupies more space\n",
    "t5=(\"gurukula\",\"happy\",\"learning\")\n",
    "print(t5.__sizeof__())     #this  occupies less space compared to list"
   ]
  }
 ],
 "metadata": {
  "kernelspec": {
   "display_name": "Python 3 (ipykernel)",
   "language": "python",
   "name": "python3"
  },
  "language_info": {
   "codemirror_mode": {
    "name": "ipython",
    "version": 3
   },
   "file_extension": ".py",
   "mimetype": "text/x-python",
   "name": "python",
   "nbconvert_exporter": "python",
   "pygments_lexer": "ipython3",
   "version": "3.12.7"
  }
 },
 "nbformat": 4,
 "nbformat_minor": 5
}
