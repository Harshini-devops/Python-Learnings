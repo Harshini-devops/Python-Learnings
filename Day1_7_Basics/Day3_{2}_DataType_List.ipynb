{
 "cells": [
  {
   "cell_type": "raw",
   "id": "21d30ef7-970d-439c-b99d-c73d43ff6897",
   "metadata": {},
   "source": [
    "List has 3 access :\n",
    "                * Access\n",
    "                * Change\n",
    "                * Delete"
   ]
  },
  {
   "cell_type": "code",
   "execution_count": 23,
   "id": "b6e56e9a-cd42-44c9-949b-bde662e0b2f8",
   "metadata": {},
   "outputs": [],
   "source": [
    "# what is list?\n",
    "name=\"sakthi\"\n",
    "age=20\n",
    "height=5.5\n",
    "detail=[\"sakthi\",20,5.5]"
   ]
  },
  {
   "cell_type": "code",
   "execution_count": 24,
   "id": "3fa2d8c8-df49-494a-9dad-48954bdee437",
   "metadata": {},
   "outputs": [
    {
     "name": "stdout",
     "output_type": "stream",
     "text": [
      "20\n"
     ]
    }
   ],
   "source": [
    "# list indexing.\n",
    "detail=[\"sakthi\",20,5.5]\n",
    "detail[0]\n",
    "print(detail[1])"
   ]
  },
  {
   "cell_type": "code",
   "execution_count": 25,
   "id": "0663cc68-1446-493b-ae5c-0290da565cab",
   "metadata": {},
   "outputs": [
    {
     "name": "stdout",
     "output_type": "stream",
     "text": [
      "10\n",
      "20\n",
      "30\n",
      "40\n",
      "50\n"
     ]
    }
   ],
   "source": [
    "# indexing- access\n",
    "num=[10,20,30,[40,50],60]\n",
    "print(num[0])\n",
    "print(num[1])\n",
    "print(num[2])\n",
    "print(num[3][0])\n",
    "print(num[3][1])"
   ]
  },
  {
   "cell_type": "code",
   "execution_count": 41,
   "id": "0adbbdf4-f3cc-4fe9-8d81-ed8a6b023fe2",
   "metadata": {},
   "outputs": [
    {
     "data": {
      "text/plain": [
       "['pintu', 'RH', 'kaathu']"
      ]
     },
     "execution_count": 41,
     "metadata": {},
     "output_type": "execute_result"
    }
   ],
   "source": [
    "# indexing- modify\n",
    "names=[\"pintu\",\"chintu\",\"kaathu\"]\n",
    "names[1]=\"RH\"\n",
    "names"
   ]
  },
  {
   "cell_type": "code",
   "execution_count": 43,
   "id": "678aa2de-7204-4f8d-bf8b-3419acef6336",
   "metadata": {},
   "outputs": [
    {
     "data": {
      "text/plain": [
       "['pintu', 'chintu']"
      ]
     },
     "execution_count": 43,
     "metadata": {},
     "output_type": "execute_result"
    }
   ],
   "source": [
    "# indexing- deletion\n",
    "names=[\"pintu\",\"chintu\",\"kaathu\"]\n",
    "del names[2]\n",
    "names"
   ]
  },
  {
   "cell_type": "code",
   "execution_count": 28,
   "id": "f6f9db79-8362-4642-b250-dfd275071ef9",
   "metadata": {},
   "outputs": [],
   "source": [
    "# list slicing"
   ]
  },
  {
   "cell_type": "code",
   "execution_count": 29,
   "id": "07e0977d-f621-4ffb-8f87-63ee3a01cd85",
   "metadata": {},
   "outputs": [
    {
     "data": {
      "text/plain": [
       "[10, 20, 30, 40]"
      ]
     },
     "execution_count": 29,
     "metadata": {},
     "output_type": "execute_result"
    }
   ],
   "source": [
    "# slicing- access\n",
    "number=[10,20,30,40,50]\n",
    "number[0:4]"
   ]
  },
  {
   "cell_type": "code",
   "execution_count": 30,
   "id": "83d01329-fde0-45b0-9f4d-dba62f171e11",
   "metadata": {},
   "outputs": [
    {
     "data": {
      "text/plain": [
       "[10, 20, 30, 40, 50]"
      ]
     },
     "execution_count": 30,
     "metadata": {},
     "output_type": "execute_result"
    }
   ],
   "source": [
    "number[:4]   #o/p: [10,20,30,40]\n",
    "number[0:]"
   ]
  },
  {
   "cell_type": "code",
   "execution_count": 31,
   "id": "683bb010-3407-4f33-9872-50a3ea55e03f",
   "metadata": {},
   "outputs": [
    {
     "name": "stdout",
     "output_type": "stream",
     "text": [
      "['bread', 'jam', 'milk']\n",
      "[10, 20, 30]\n",
      "['pink', 'blue', 'black']\n"
     ]
    }
   ],
   "source": [
    "# slice method\n",
    "food=[\"bread\",\"jam\",\"milk\",\"juice\"]\n",
    "numbers=[10,20,30,40,50,60]\n",
    "colors=[\"pink\",\"blue\",\"black\",\"white\",\"yellow\"]\n",
    "s=slice(0,3)  #assign variable to slice function\n",
    "print(food[s])\n",
    "print(numbers[s])\n",
    "print(colors[s])"
   ]
  },
  {
   "cell_type": "code",
   "execution_count": 32,
   "id": "658d8de8-f566-48ad-af4e-373d79443172",
   "metadata": {},
   "outputs": [
    {
     "name": "stdout",
     "output_type": "stream",
     "text": [
      "[90, 80, 70, 60, 50, 40, 30, 20, 10]\n",
      "[80, 70, 60, 50, 40, 30, 20, 10]\n"
     ]
    }
   ],
   "source": [
    "# reversing the list\n",
    "num=[10,20,30,40,50,60,70,80,90]\n",
    "print(num[::-1])\n",
    "print(num[-2::-1])"
   ]
  },
  {
   "cell_type": "code",
   "execution_count": 33,
   "id": "acda9243-de1e-46d4-b08c-1afabd7fdcba",
   "metadata": {},
   "outputs": [
    {
     "data": {
      "text/plain": [
       "[1, 2, 3, 4, 50, 60, 70, 80, 90]"
      ]
     },
     "execution_count": 33,
     "metadata": {},
     "output_type": "execute_result"
    }
   ],
   "source": [
    "# slicing-modify\n",
    "num=[10,20,30,40,50,60,70,80,90]\n",
    "num[0:4]=[1,2,3,4]\n",
    "num"
   ]
  },
  {
   "cell_type": "code",
   "execution_count": 34,
   "id": "405b5704-54eb-4248-9ada-515de813b58c",
   "metadata": {},
   "outputs": [
    {
     "data": {
      "text/plain": [
       "[1, 2, 3, 4, 5, 6, 7, 50, 60, 70, 80, 90]"
      ]
     },
     "execution_count": 34,
     "metadata": {},
     "output_type": "execute_result"
    }
   ],
   "source": [
    "num=[10,20,30,40,50,60,70,80,90]\n",
    "num[0:4]=[1,2,3,4,5,6,7]\n",
    "num"
   ]
  },
  {
   "cell_type": "code",
   "execution_count": 35,
   "id": "f5c5df03-aa73-4226-9012-15e1a63badd0",
   "metadata": {},
   "outputs": [
    {
     "data": {
      "text/plain": [
       "[1, 20, 1, 40, 1, 60, 1, 80, 1]"
      ]
     },
     "execution_count": 35,
     "metadata": {},
     "output_type": "execute_result"
    }
   ],
   "source": [
    "num=[10,20,30,40,50,60,70,80,90]\n",
    "num[::2]=[1,1,1,1,1,]\n",
    "num"
   ]
  },
  {
   "cell_type": "code",
   "execution_count": 36,
   "id": "e081d8f9-564d-48cf-b15c-a90e07af466a",
   "metadata": {},
   "outputs": [
    {
     "ename": "ValueError",
     "evalue": "attempt to assign sequence of size 3 to extended slice of size 5",
     "output_type": "error",
     "traceback": [
      "\u001b[1;31m---------------------------------------------------------------------------\u001b[0m",
      "\u001b[1;31mValueError\u001b[0m                                Traceback (most recent call last)",
      "Cell \u001b[1;32mIn[36], line 2\u001b[0m\n\u001b[0;32m      1\u001b[0m num\u001b[38;5;241m=\u001b[39m[\u001b[38;5;241m10\u001b[39m,\u001b[38;5;241m20\u001b[39m,\u001b[38;5;241m30\u001b[39m,\u001b[38;5;241m40\u001b[39m,\u001b[38;5;241m50\u001b[39m,\u001b[38;5;241m60\u001b[39m,\u001b[38;5;241m70\u001b[39m,\u001b[38;5;241m80\u001b[39m,\u001b[38;5;241m90\u001b[39m]\n\u001b[1;32m----> 2\u001b[0m num[::\u001b[38;5;241m2\u001b[39m]\u001b[38;5;241m=\u001b[39m[\u001b[38;5;241m1\u001b[39m,\u001b[38;5;241m1\u001b[39m,\u001b[38;5;241m1\u001b[39m]\n\u001b[0;32m      3\u001b[0m num\n",
      "\u001b[1;31mValueError\u001b[0m: attempt to assign sequence of size 3 to extended slice of size 5"
     ]
    }
   ],
   "source": [
    "num=[10,20,30,40,50,60,70,80,90]\n",
    "num[::2]=[1,1,1]\n",
    "num"
   ]
  },
  {
   "cell_type": "code",
   "execution_count": 37,
   "id": "2fc391a6-df6e-4e5b-b16b-4a1550e94be2",
   "metadata": {},
   "outputs": [
    {
     "data": {
      "text/plain": [
       "[50, 60, 70, 80, 90]"
      ]
     },
     "execution_count": 37,
     "metadata": {},
     "output_type": "execute_result"
    }
   ],
   "source": [
    "# slicing- deletion\n",
    "num=[10,20,30,40,50,60,70,80,90]\n",
    "del num[0:4]\n",
    "num"
   ]
  },
  {
   "cell_type": "code",
   "execution_count": 39,
   "id": "52eb01c4-e27b-4025-9d88-b88fc32f364f",
   "metadata": {},
   "outputs": [
    {
     "data": {
      "text/plain": [
       "[20, 40, 60, 80]"
      ]
     },
     "execution_count": 39,
     "metadata": {},
     "output_type": "execute_result"
    }
   ],
   "source": [
    "num=[10,20,30,40,50,60,70,80,90]\n",
    "del num[::2]\n",
    "num"
   ]
  }
 ],
 "metadata": {
  "kernelspec": {
   "display_name": "Python 3 (ipykernel)",
   "language": "python",
   "name": "python3"
  },
  "language_info": {
   "codemirror_mode": {
    "name": "ipython",
    "version": 3
   },
   "file_extension": ".py",
   "mimetype": "text/x-python",
   "name": "python",
   "nbconvert_exporter": "python",
   "pygments_lexer": "ipython3",
   "version": "3.12.7"
  }
 },
 "nbformat": 4,
 "nbformat_minor": 5
}
