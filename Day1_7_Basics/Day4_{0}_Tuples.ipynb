{
 "cells": [
  {
   "cell_type": "code",
   "execution_count": 1,
   "id": "95560b3c-f6c8-431a-872e-8b57b4e6f9b4",
   "metadata": {},
   "outputs": [
    {
     "name": "stdout",
     "output_type": "stream",
     "text": [
      "(1, 2, 3, 4, 5)\n",
      "('sakthi', 23, 5.9)\n",
      "1\n",
      "(1,)\n"
     ]
    }
   ],
   "source": [
    "# creating a tuple\n",
    "a=(1,2,3,4,5)\n",
    "print(a)\n",
    "b=(\"sakthi\",23,5.9)\n",
    "print(b)\n",
    "c=(1)\n",
    "print(c)\n",
    "d=(1,)\n",
    "print(d)"
   ]
  },
  {
   "cell_type": "code",
   "execution_count": 2,
   "id": "032bf3f5-1850-445c-834b-781b5d806ed0",
   "metadata": {},
   "outputs": [
    {
     "name": "stdout",
     "output_type": "stream",
     "text": [
      "(1, 2, 3, 4, 5)\n"
     ]
    }
   ],
   "source": [
    "number=1,2,3,4,5\n",
    "print(number)"
   ]
  },
  {
   "cell_type": "code",
   "execution_count": 3,
   "id": "c4a9d7b6-efb4-49dc-9147-b3f38b0f3d5e",
   "metadata": {},
   "outputs": [
    {
     "name": "stdout",
     "output_type": "stream",
     "text": [
      "4\n",
      "4\n",
      "4\n"
     ]
    }
   ],
   "source": [
    "# basic operations in tuple - len\n",
    "number=(34,56,78,90)\n",
    "print(len(number))\n",
    "val=(\"name\",34,(\"learning\"),78)\n",
    "print(len(val))\n",
    "val1=(\"name\",34,(\"happy\",\"learning\"),78)\n",
    "print(len(val1))"
   ]
  },
  {
   "cell_type": "code",
   "execution_count": 4,
   "id": "5ddc6b46-c31a-4e89-9ff6-9911a7b96593",
   "metadata": {},
   "outputs": [
    {
     "name": "stdout",
     "output_type": "stream",
     "text": [
      "(1, 2, 3, 4, 5, 6)\n"
     ]
    }
   ],
   "source": [
    "# basic operations in tuple - concatenation\n",
    "a=(1,2,3)\n",
    "b=(4,5,6)\n",
    "print(a+b)"
   ]
  },
  {
   "cell_type": "code",
   "execution_count": 5,
   "id": "01cf5a50-2a14-4907-86b5-ee30622698e7",
   "metadata": {},
   "outputs": [
    {
     "name": "stdout",
     "output_type": "stream",
     "text": [
      "(1, 2, 3, 1, 2, 3)\n"
     ]
    }
   ],
   "source": [
    "# basic operations in tuple - repetition\n",
    "a=(1,2,3)\n",
    "print(a*2)"
   ]
  },
  {
   "cell_type": "code",
   "execution_count": 6,
   "id": "15478a0c-2a0c-4fd7-85c4-1f3ac2d338eb",
   "metadata": {},
   "outputs": [
    {
     "ename": "TypeError",
     "evalue": "can only concatenate tuple (not \"int\") to tuple",
     "output_type": "error",
     "traceback": [
      "\u001b[1;31m---------------------------------------------------------------------------\u001b[0m",
      "\u001b[1;31mTypeError\u001b[0m                                 Traceback (most recent call last)",
      "Cell \u001b[1;32mIn[6], line 3\u001b[0m\n\u001b[0;32m      1\u001b[0m a\u001b[38;5;241m=\u001b[39m(\u001b[38;5;241m1\u001b[39m,\u001b[38;5;241m2\u001b[39m,\u001b[38;5;241m3\u001b[39m)\n\u001b[0;32m      2\u001b[0m b\u001b[38;5;241m=\u001b[39m(\u001b[38;5;241m4\u001b[39m,\u001b[38;5;241m5\u001b[39m,\u001b[38;5;241m6\u001b[39m)\n\u001b[1;32m----> 3\u001b[0m \u001b[38;5;28mprint\u001b[39m(a\u001b[38;5;241m+\u001b[39m\u001b[38;5;241m2\u001b[39m)\n",
      "\u001b[1;31mTypeError\u001b[0m: can only concatenate tuple (not \"int\") to tuple"
     ]
    }
   ],
   "source": [
    "a=(1,2,3)\n",
    "b=(4,5,6)\n",
    "print(a+2)"
   ]
  },
  {
   "cell_type": "code",
   "execution_count": 17,
   "id": "70a3246a-4156-4cb9-ad26-a404531b42b4",
   "metadata": {},
   "outputs": [
    {
     "ename": "TypeError",
     "evalue": "can't multiply sequence by non-int of type 'tuple'",
     "output_type": "error",
     "traceback": [
      "\u001b[1;31m---------------------------------------------------------------------------\u001b[0m",
      "\u001b[1;31mTypeError\u001b[0m                                 Traceback (most recent call last)",
      "Cell \u001b[1;32mIn[17], line 3\u001b[0m\n\u001b[0;32m      1\u001b[0m a\u001b[38;5;241m=\u001b[39m(\u001b[38;5;241m1\u001b[39m,\u001b[38;5;241m2\u001b[39m,\u001b[38;5;241m3\u001b[39m)\n\u001b[0;32m      2\u001b[0m b\u001b[38;5;241m=\u001b[39m(\u001b[38;5;241m4\u001b[39m,\u001b[38;5;241m5\u001b[39m,\u001b[38;5;241m6\u001b[39m)\n\u001b[1;32m----> 3\u001b[0m \u001b[38;5;28mprint\u001b[39m(a\u001b[38;5;241m*\u001b[39mb)\n",
      "\u001b[1;31mTypeError\u001b[0m: can't multiply sequence by non-int of type 'tuple'"
     ]
    }
   ],
   "source": [
    "a=(1,2,3)\n",
    "b=(4,5,6)\n",
    "print(a*b)"
   ]
  },
  {
   "cell_type": "code",
   "execution_count": 29,
   "id": "b9e2f921-ecdf-48a6-800e-caa357616817",
   "metadata": {},
   "outputs": [
    {
     "data": {
      "text/plain": [
       "True"
      ]
     },
     "execution_count": 29,
     "metadata": {},
     "output_type": "execute_result"
    }
   ],
   "source": [
    "# basic operations in tuple - membership operator\n",
    "a=(1,2,3)\n",
    "3 in a"
   ]
  },
  {
   "cell_type": "code",
   "execution_count": 30,
   "id": "0c7794e9-7359-4ea6-9fcb-8a1bcc9591cc",
   "metadata": {},
   "outputs": [
    {
     "data": {
      "text/plain": [
       "True"
      ]
     },
     "execution_count": 30,
     "metadata": {},
     "output_type": "execute_result"
    }
   ],
   "source": [
    "4 not in a"
   ]
  },
  {
   "cell_type": "code",
   "execution_count": 31,
   "id": "a48aa67b-e7f9-427b-8663-4d2371edea55",
   "metadata": {},
   "outputs": [],
   "source": [
    "# accessing Tuple values\n",
    "value=(\"gurukula\",(\"happy\",\"learing\"),\"python\")"
   ]
  },
  {
   "cell_type": "code",
   "execution_count": 32,
   "id": "0469d20d-e8c5-4482-9e76-facfca1d459c",
   "metadata": {},
   "outputs": [
    {
     "name": "stdout",
     "output_type": "stream",
     "text": [
      "gurukula\n",
      "python\n",
      "happy\n",
      "learing\n"
     ]
    }
   ],
   "source": [
    "# Indexing - positive and negative\n",
    "print(value[0])\n",
    "print(value[2])\n",
    "print(value[1][0])\n",
    "print(value[1][1])"
   ]
  },
  {
   "cell_type": "code",
   "execution_count": 33,
   "id": "90c823ba-071f-4b9b-bc2d-644966aa0915",
   "metadata": {},
   "outputs": [
    {
     "name": "stdout",
     "output_type": "stream",
     "text": [
      "python\n",
      "gurukula\n",
      "happy\n"
     ]
    }
   ],
   "source": [
    "print(value[-1])\n",
    "print(value[-3])\n",
    "print(value[-2][0])"
   ]
  },
  {
   "cell_type": "code",
   "execution_count": 34,
   "id": "84764687-b6c4-4f38-9024-18c173f017b6",
   "metadata": {},
   "outputs": [
    {
     "data": {
      "text/plain": [
       "('gurukula', ('happy', 'learing'))"
      ]
     },
     "execution_count": 34,
     "metadata": {},
     "output_type": "execute_result"
    }
   ],
   "source": [
    "# slicing positive and negative\n",
    "value=(\"gurukula\",(\"happy\",\"learing\"),\"python\")\n",
    "value[0:2]"
   ]
  },
  {
   "cell_type": "code",
   "execution_count": 35,
   "id": "5029ab3d-a453-48ef-a805-b9f9b57548b9",
   "metadata": {},
   "outputs": [
    {
     "data": {
      "text/plain": [
       "('gurukula', ('happy', 'learing'), 'python')"
      ]
     },
     "execution_count": 35,
     "metadata": {},
     "output_type": "execute_result"
    }
   ],
   "source": [
    "value[0:]"
   ]
  },
  {
   "cell_type": "code",
   "execution_count": 36,
   "id": "b89afd34-42d0-4331-bad7-f9d21275a95b",
   "metadata": {},
   "outputs": [
    {
     "data": {
      "text/plain": [
       "('gurukula', ('happy', 'learing'), 'python')"
      ]
     },
     "execution_count": 36,
     "metadata": {},
     "output_type": "execute_result"
    }
   ],
   "source": [
    "value[:]"
   ]
  },
  {
   "cell_type": "code",
   "execution_count": 37,
   "id": "96c5be95-7183-4190-a5cc-af82a9901bc2",
   "metadata": {},
   "outputs": [
    {
     "data": {
      "text/plain": [
       "('gurukula', ('happy', 'learing'), 'python')"
      ]
     },
     "execution_count": 37,
     "metadata": {},
     "output_type": "execute_result"
    }
   ],
   "source": [
    "value[-3:]"
   ]
  },
  {
   "cell_type": "code",
   "execution_count": 38,
   "id": "7ce60efe-688b-49a7-b2fd-bd94d264c737",
   "metadata": {},
   "outputs": [
    {
     "data": {
      "text/plain": [
       "('gurukula', ('happy', 'learing'))"
      ]
     },
     "execution_count": 38,
     "metadata": {},
     "output_type": "execute_result"
    }
   ],
   "source": [
    "value[-3:-1]"
   ]
  },
  {
   "cell_type": "code",
   "execution_count": 39,
   "id": "3e8b87a2-3d60-4d9d-944c-079917085c45",
   "metadata": {},
   "outputs": [
    {
     "name": "stdout",
     "output_type": "stream",
     "text": [
      "sakthi 23 5.6\n"
     ]
    }
   ],
   "source": [
    "# packing and unpacking \n",
    "a=(\"sakthi\",23,5.6)\n",
    "(name,age,height)=a\n",
    "print(name,age,height)"
   ]
  },
  {
   "cell_type": "code",
   "execution_count": 40,
   "id": "f2a7a6e6-cdcf-4a47-bec7-00161bf59ce2",
   "metadata": {},
   "outputs": [
    {
     "name": "stdout",
     "output_type": "stream",
     "text": [
      "sakthi 23 5.6\n"
     ]
    }
   ],
   "source": [
    "a=(\"sakthi\",23,5.6)\n",
    "name,age,height=a\n",
    "print(name,age,height)"
   ]
  },
  {
   "cell_type": "code",
   "execution_count": 41,
   "id": "322ddd2e-5bd5-4842-92de-e670216976e2",
   "metadata": {},
   "outputs": [
    {
     "ename": "ValueError",
     "evalue": "too many values to unpack (expected 3)",
     "output_type": "error",
     "traceback": [
      "\u001b[1;31m---------------------------------------------------------------------------\u001b[0m",
      "\u001b[1;31mValueError\u001b[0m                                Traceback (most recent call last)",
      "Cell \u001b[1;32mIn[41], line 2\u001b[0m\n\u001b[0;32m      1\u001b[0m a\u001b[38;5;241m=\u001b[39m(\u001b[38;5;124m\"\u001b[39m\u001b[38;5;124msakthi\u001b[39m\u001b[38;5;124m\"\u001b[39m,\u001b[38;5;241m23\u001b[39m,\u001b[38;5;241m5.6\u001b[39m,\u001b[38;5;241m23\u001b[39m,\u001b[38;5;241m56\u001b[39m,\u001b[38;5;124m\"\u001b[39m\u001b[38;5;124mhello\u001b[39m\u001b[38;5;124m\"\u001b[39m)\n\u001b[1;32m----> 2\u001b[0m name,age,height\u001b[38;5;241m=\u001b[39ma\n\u001b[0;32m      3\u001b[0m \u001b[38;5;28mprint\u001b[39m(name,age,height)\n",
      "\u001b[1;31mValueError\u001b[0m: too many values to unpack (expected 3)"
     ]
    }
   ],
   "source": [
    "a=(\"sakthi\",23,5.6,23,56,\"hello\")\n",
    "name,age,height=a\n",
    "print(name,age,height)"
   ]
  },
  {
   "cell_type": "code",
   "execution_count": 42,
   "id": "8456d4cc-4d25-4bd3-80d7-f9dd6446c494",
   "metadata": {},
   "outputs": [
    {
     "name": "stdout",
     "output_type": "stream",
     "text": [
      "sakthi [23, 5.6, 23, 56] hello\n"
     ]
    }
   ],
   "source": [
    "a=(\"sakthi\",23,5.6,23,56,\"hello\")\n",
    "name,*age,height=a\n",
    "print(name,age,height)"
   ]
  },
  {
   "cell_type": "code",
   "execution_count": 43,
   "id": "f313b914-0757-4e9d-af01-8698a20b4778",
   "metadata": {},
   "outputs": [
    {
     "data": {
      "text/plain": [
       "3"
      ]
     },
     "execution_count": 43,
     "metadata": {},
     "output_type": "execute_result"
    }
   ],
   "source": [
    "# builtin methods\n",
    "tup=(1,2,3,4,5,1,1)\n",
    "tup.count(1)"
   ]
  },
  {
   "cell_type": "code",
   "execution_count": 44,
   "id": "810a055a-3209-47ae-9b8f-e4ee642cf954",
   "metadata": {},
   "outputs": [
    {
     "data": {
      "text/plain": [
       "0"
      ]
     },
     "execution_count": 44,
     "metadata": {},
     "output_type": "execute_result"
    }
   ],
   "source": [
    "tup=(1,2,3,4,5,1,1)\n",
    "tup.index(2)\n",
    "tup.index(1)"
   ]
  }
 ],
 "metadata": {
  "kernelspec": {
   "display_name": "Python 3 (ipykernel)",
   "language": "python",
   "name": "python3"
  },
  "language_info": {
   "codemirror_mode": {
    "name": "ipython",
    "version": 3
   },
   "file_extension": ".py",
   "mimetype": "text/x-python",
   "name": "python",
   "nbconvert_exporter": "python",
   "pygments_lexer": "ipython3",
   "version": "3.12.7"
  }
 },
 "nbformat": 4,
 "nbformat_minor": 5
}
