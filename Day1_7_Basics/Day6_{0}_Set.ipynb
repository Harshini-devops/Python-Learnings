{
 "cells": [
  {
   "cell_type": "code",
   "execution_count": 1,
   "id": "2759676b-fc7c-4c58-9787-705c20161658",
   "metadata": {},
   "outputs": [
    {
     "name": "stdout",
     "output_type": "stream",
     "text": [
      "{23, 'hello', 12, 45, 9.8}\n"
     ]
    }
   ],
   "source": [
    "s1={12,23,45,\"hello\",9.8}\n",
    "print(s1)"
   ]
  },
  {
   "cell_type": "code",
   "execution_count": 2,
   "id": "2265e4a6-55e0-4e44-a10a-a732d5f8f966",
   "metadata": {},
   "outputs": [
    {
     "name": "stdout",
     "output_type": "stream",
     "text": [
      "{1, 2, 3}\n"
     ]
    }
   ],
   "source": [
    "s3=set([1,2,3])\n",
    "print(s3)"
   ]
  },
  {
   "cell_type": "code",
   "execution_count": 3,
   "id": "085690d8-3c22-4960-bd96-92ad455597f4",
   "metadata": {},
   "outputs": [
    {
     "name": "stdout",
     "output_type": "stream",
     "text": [
      "{1, 2, 3}\n"
     ]
    }
   ],
   "source": [
    "s3=set((1,2,3))\n",
    "print(s3)"
   ]
  },
  {
   "cell_type": "code",
   "execution_count": 4,
   "id": "c7613558-5fab-4e96-ac56-79214468e1cb",
   "metadata": {},
   "outputs": [
    {
     "name": "stdout",
     "output_type": "stream",
     "text": [
      "5\n",
      "8\n",
      "90\n",
      "200\n"
     ]
    }
   ],
   "source": [
    "set1={12,34,56,8,90}\n",
    "print(len(set1))\n",
    "print(min(set1))\n",
    "print(max(set1))\n",
    "print(sum(set1))"
   ]
  },
  {
   "cell_type": "code",
   "execution_count": 5,
   "id": "74c66f15-6daf-4c99-bfab-cadcf3a9fef5",
   "metadata": {},
   "outputs": [
    {
     "name": "stdout",
     "output_type": "stream",
     "text": [
      "{34, 100, 90, 8, 56, 12}\n"
     ]
    }
   ],
   "source": [
    "# Adding an element to set - add()\n",
    "set1={12,34,56,8,90}\n",
    "set1.add(100)\n",
    "print(set1)"
   ]
  },
  {
   "cell_type": "code",
   "execution_count": 6,
   "id": "77ea6492-160a-4e54-9d40-60bccbce8393",
   "metadata": {},
   "outputs": [
    {
     "ename": "TypeError",
     "evalue": "set.add() takes exactly one argument (2 given)",
     "output_type": "error",
     "traceback": [
      "\u001b[1;31m---------------------------------------------------------------------------\u001b[0m",
      "\u001b[1;31mTypeError\u001b[0m                                 Traceback (most recent call last)",
      "Cell \u001b[1;32mIn[6], line 2\u001b[0m\n\u001b[0;32m      1\u001b[0m set1\u001b[38;5;241m=\u001b[39m{\u001b[38;5;241m12\u001b[39m,\u001b[38;5;241m34\u001b[39m,\u001b[38;5;241m56\u001b[39m,\u001b[38;5;241m8\u001b[39m,\u001b[38;5;241m90\u001b[39m}\n\u001b[1;32m----> 2\u001b[0m set1\u001b[38;5;241m.\u001b[39madd(\u001b[38;5;241m100\u001b[39m,\u001b[38;5;241m200\u001b[39m)\n\u001b[0;32m      3\u001b[0m \u001b[38;5;28mprint\u001b[39m(set1)\n",
      "\u001b[1;31mTypeError\u001b[0m: set.add() takes exactly one argument (2 given)"
     ]
    }
   ],
   "source": [
    "set1={12,34,56,8,90}\n",
    "set1.add(100,200)  #only 1 argument can be passed\n",
    "print(set1)"
   ]
  },
  {
   "cell_type": "code",
   "execution_count": 13,
   "id": "a8dde09c-15c2-46d7-a451-73f252379c25",
   "metadata": {},
   "outputs": [
    {
     "name": "stdout",
     "output_type": "stream",
     "text": [
      "{34, 'python', 90, 8, 'hello', 56, 12}\n"
     ]
    }
   ],
   "source": [
    "# Adding multiple element to set - update()\n",
    "set1={12,34,56,8,90}\n",
    "set1.update((\"hello\",\"python\"))\n",
    "print(set1)"
   ]
  },
  {
   "cell_type": "code",
   "execution_count": 14,
   "id": "719f9e3e-59d9-478f-b95c-c9ebe05489d1",
   "metadata": {},
   "outputs": [
    {
     "name": "stdout",
     "output_type": "stream",
     "text": [
      "{34, 'python', 90, 8, 'hello', 56, 12}\n"
     ]
    }
   ],
   "source": [
    "set1={12,34,56,8,90}\n",
    "set1.update([\"hello\",\"python\"])\n",
    "print(set1)"
   ]
  },
  {
   "cell_type": "code",
   "execution_count": 15,
   "id": "9267b194-7972-49b9-aab0-2fb1ce1a5f64",
   "metadata": {},
   "outputs": [
    {
     "name": "stdout",
     "output_type": "stream",
     "text": [
      "{1, 'python', 2, 3, 8, 'hello', 12, 90, 34, 56}\n"
     ]
    }
   ],
   "source": [
    "set1={12,34,56,8,90}\n",
    "set1.update({\"hello\",\"python\"},[1,2,3])\n",
    "print(set1)"
   ]
  },
  {
   "cell_type": "code",
   "execution_count": 16,
   "id": "e024de05-a093-416e-b632-d3047ce98ea0",
   "metadata": {},
   "outputs": [
    {
     "ename": "TypeError",
     "evalue": "unsupported operand type(s) for +: 'set' and 'set'",
     "output_type": "error",
     "traceback": [
      "\u001b[1;31m---------------------------------------------------------------------------\u001b[0m",
      "\u001b[1;31mTypeError\u001b[0m                                 Traceback (most recent call last)",
      "Cell \u001b[1;32mIn[16], line 3\u001b[0m\n\u001b[0;32m      1\u001b[0m s1\u001b[38;5;241m=\u001b[39m{\u001b[38;5;241m12\u001b[39m,\u001b[38;5;241m32\u001b[39m}\n\u001b[0;32m      2\u001b[0m s2\u001b[38;5;241m=\u001b[39m{\u001b[38;5;241m34\u001b[39m,\u001b[38;5;241m56\u001b[39m}\n\u001b[1;32m----> 3\u001b[0m s1\u001b[38;5;241m+\u001b[39ms2\n",
      "\u001b[1;31mTypeError\u001b[0m: unsupported operand type(s) for +: 'set' and 'set'"
     ]
    }
   ],
   "source": [
    "s1={12,32}\n",
    "s2={34,56}\n",
    "s1+s2   #cant add 2 sets"
   ]
  },
  {
   "cell_type": "code",
   "execution_count": 23,
   "id": "fed5e6a9-af9f-4cc0-8d4e-fa7dfeaa18e1",
   "metadata": {},
   "outputs": [
    {
     "name": "stdout",
     "output_type": "stream",
     "text": [
      "{32, 56, 12, 34}\n",
      "{56, 34}\n"
     ]
    }
   ],
   "source": [
    "s1={12,32}\n",
    "s2={34,56}\n",
    "s1.update(s2)\n",
    "print(s1)\n",
    "print(s2)"
   ]
  },
  {
   "cell_type": "code",
   "execution_count": 24,
   "id": "76dc0294-aad6-4fd4-900b-6cc393634152",
   "metadata": {},
   "outputs": [
    {
     "name": "stdout",
     "output_type": "stream",
     "text": [
      "{32, 12}\n",
      "{56, 34, 32, 12}\n"
     ]
    }
   ],
   "source": [
    "s1={12,32}\n",
    "s2={34,56}\n",
    "s2.update(s1)\n",
    "print(s1)\n",
    "print(s2)"
   ]
  },
  {
   "cell_type": "code",
   "execution_count": 25,
   "id": "ad72c0dc-39f0-463c-8b56-51cede9c2185",
   "metadata": {},
   "outputs": [
    {
     "name": "stdout",
     "output_type": "stream",
     "text": [
      "{32, 34, 56, 'hello', 12}\n"
     ]
    }
   ],
   "source": [
    "s1={12,32}\n",
    "s2={34,56}\n",
    "s3={\"hello\"}\n",
    "s1.update(s2,s3)\n",
    "print(s1)"
   ]
  },
  {
   "cell_type": "code",
   "execution_count": 26,
   "id": "c2001609-c4f0-4328-b64e-2a491d036055",
   "metadata": {},
   "outputs": [
    {
     "name": "stdout",
     "output_type": "stream",
     "text": [
      "12\n",
      "23\n"
     ]
    }
   ],
   "source": [
    "# Accessing element from set\n",
    "f1={12,23}\n",
    "for x in f1:\n",
    "    print(x)"
   ]
  },
  {
   "cell_type": "code",
   "execution_count": 27,
   "id": "db51c04e-bf9d-4e23-8205-65d3b7f1c9b6",
   "metadata": {},
   "outputs": [
    {
     "ename": "KeyError",
     "evalue": "100",
     "output_type": "error",
     "traceback": [
      "\u001b[1;31m---------------------------------------------------------------------------\u001b[0m",
      "\u001b[1;31mKeyError\u001b[0m                                  Traceback (most recent call last)",
      "Cell \u001b[1;32mIn[27], line 3\u001b[0m\n\u001b[0;32m      1\u001b[0m \u001b[38;5;66;03m# remove()\u001b[39;00m\n\u001b[0;32m      2\u001b[0m r1\u001b[38;5;241m=\u001b[39m{\u001b[38;5;124m\"\u001b[39m\u001b[38;5;124mhello\u001b[39m\u001b[38;5;124m\"\u001b[39m,\u001b[38;5;124m\"\u001b[39m\u001b[38;5;124mpython\u001b[39m\u001b[38;5;124m\"\u001b[39m,\u001b[38;5;241m12\u001b[39m,\u001b[38;5;241m34\u001b[39m,\u001b[38;5;241m56\u001b[39m,\u001b[38;5;241m889\u001b[39m,\u001b[38;5;241m9.8\u001b[39m}\n\u001b[1;32m----> 3\u001b[0m r1\u001b[38;5;241m.\u001b[39mremove(\u001b[38;5;241m100\u001b[39m)\n\u001b[0;32m      4\u001b[0m \u001b[38;5;28mprint\u001b[39m(r1)\n",
      "\u001b[1;31mKeyError\u001b[0m: 100"
     ]
    }
   ],
   "source": [
    "# remove()\n",
    "r1={\"hello\",\"python\",12,34,56,889,9.8}\n",
    "r1.remove(100)   #100 is not in set\n",
    "print(r1)"
   ]
  },
  {
   "cell_type": "code",
   "execution_count": 34,
   "id": "4482df45-85b3-4d15-87e3-17db2abbd9e8",
   "metadata": {},
   "outputs": [
    {
     "name": "stdout",
     "output_type": "stream",
     "text": [
      "{'python', 34, 889, 56, 'hello', 12, 9.8}\n"
     ]
    }
   ],
   "source": [
    "# discard()\n",
    "d1={\"hello\",\"python\",12,34,56,889,9.8}\n",
    "d1.discard(100)\n",
    "print(d1)"
   ]
  },
  {
   "cell_type": "code",
   "execution_count": 35,
   "id": "dbdc2bc2-b5de-47ac-ad0d-848ad08bf50f",
   "metadata": {},
   "outputs": [
    {
     "name": "stdout",
     "output_type": "stream",
     "text": [
      "{'python', 34, 889, 56, 'hello', 12, 9.8}\n",
      "{34, 889, 56, 'hello', 12, 9.8}\n"
     ]
    }
   ],
   "source": [
    "# pop()\n",
    "p1={\"hello\",\"python\",12,34,56,889,9.8}\n",
    "print(p1)\n",
    "p1.pop()\n",
    "print(p1)"
   ]
  },
  {
   "cell_type": "code",
   "execution_count": 36,
   "id": "00168da9-af4f-49ca-9c6c-37616bddea56",
   "metadata": {},
   "outputs": [
    {
     "name": "stdout",
     "output_type": "stream",
     "text": [
      "set()\n"
     ]
    }
   ],
   "source": [
    "# clear()\n",
    "s1={2,34,56,7,90}\n",
    "s1.clear()\n",
    "print(s1)"
   ]
  },
  {
   "cell_type": "code",
   "execution_count": 37,
   "id": "b236d863-8c68-44f5-bc7c-fd1d1cae68e1",
   "metadata": {},
   "outputs": [
    {
     "ename": "NameError",
     "evalue": "name 's1' is not defined",
     "output_type": "error",
     "traceback": [
      "\u001b[1;31m---------------------------------------------------------------------------\u001b[0m",
      "\u001b[1;31mNameError\u001b[0m                                 Traceback (most recent call last)",
      "Cell \u001b[1;32mIn[37], line 4\u001b[0m\n\u001b[0;32m      2\u001b[0m s1\u001b[38;5;241m=\u001b[39m{\u001b[38;5;241m2\u001b[39m,\u001b[38;5;241m34\u001b[39m,\u001b[38;5;241m56\u001b[39m,\u001b[38;5;241m7\u001b[39m,\u001b[38;5;241m90\u001b[39m}\n\u001b[0;32m      3\u001b[0m \u001b[38;5;28;01mdel\u001b[39;00m s1\n\u001b[1;32m----> 4\u001b[0m \u001b[38;5;28mprint\u001b[39m(s1)\n",
      "\u001b[1;31mNameError\u001b[0m: name 's1' is not defined"
     ]
    }
   ],
   "source": [
    "# del\n",
    "s1={2,34,56,7,90}\n",
    "del s1\n",
    "print(s1)   #s1 is deleted already"
   ]
  },
  {
   "cell_type": "code",
   "execution_count": 40,
   "id": "ba66d61a-bda5-4368-9c45-b9bcf57042a2",
   "metadata": {},
   "outputs": [
    {
     "name": "stdout",
     "output_type": "stream",
     "text": [
      "{1, 2, 3, 4, 5, 6}\n"
     ]
    }
   ],
   "source": [
    "s2={1,2,3,4,5,6,1,4,1,1,1,1}\n",
    "print(s2)"
   ]
  }
 ],
 "metadata": {
  "kernelspec": {
   "display_name": "Python 3 (ipykernel)",
   "language": "python",
   "name": "python3"
  },
  "language_info": {
   "codemirror_mode": {
    "name": "ipython",
    "version": 3
   },
   "file_extension": ".py",
   "mimetype": "text/x-python",
   "name": "python",
   "nbconvert_exporter": "python",
   "pygments_lexer": "ipython3",
   "version": "3.12.7"
  }
 },
 "nbformat": 4,
 "nbformat_minor": 5
}
