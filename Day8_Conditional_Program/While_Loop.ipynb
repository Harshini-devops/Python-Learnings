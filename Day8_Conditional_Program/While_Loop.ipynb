{
 "cells": [
  {
   "cell_type": "code",
   "execution_count": 2,
   "id": "39dd7c51-79a8-4fe9-9e1f-cfcfe3f5d689",
   "metadata": {},
   "outputs": [
    {
     "name": "stdout",
     "output_type": "stream",
     "text": [
      "Hai\n",
      "Hai\n",
      "Hai\n",
      "Hai\n",
      "Hai\n"
     ]
    }
   ],
   "source": [
    "# print hai for 5 times\n",
    "print(\"Hai\")\n",
    "print(\"Hai\")\n",
    "print(\"Hai\")\n",
    "print(\"Hai\")\n",
    "print(\"Hai\")"
   ]
  },
  {
   "cell_type": "code",
   "execution_count": 4,
   "id": "a4ce0154-c45b-4c1a-885e-a296731ef3bc",
   "metadata": {},
   "outputs": [
    {
     "name": "stdout",
     "output_type": "stream",
     "text": [
      "Hai\n",
      "Hai\n",
      "Hai\n",
      "Hai\n",
      "Hai\n"
     ]
    }
   ],
   "source": [
    "# using while\n",
    "i=1\n",
    "while(i<=5):\n",
    "    print(\"Hai\")\n",
    "    i=i+1"
   ]
  },
  {
   "cell_type": "code",
   "execution_count": 6,
   "id": "606ac9f7-b24a-43c3-abae-53428ecfbcea",
   "metadata": {},
   "outputs": [
    {
     "name": "stdout",
     "output_type": "stream",
     "text": [
      "number 1\n",
      "number 2\n",
      "number 3\n",
      "number 4\n",
      "number 5\n",
      "number 6\n",
      "number 7\n",
      "number 8\n",
      "number 9\n",
      "number 10\n"
     ]
    }
   ],
   "source": [
    "# example to print numbers without using loop\n",
    "print(\"number 1\")\n",
    "print(\"number 2\")\n",
    "print(\"number 3\")\n",
    "print(\"number 4\")\n",
    "print(\"number 5\")\n",
    "print(\"number 6\")\n",
    "print(\"number 7\")\n",
    "print(\"number 8\")\n",
    "print(\"number 9\")\n",
    "print(\"number 10\")"
   ]
  },
  {
   "cell_type": "code",
   "execution_count": 8,
   "id": "6a58d9bd-4d90-448b-99f8-5ccbc08be33b",
   "metadata": {},
   "outputs": [
    {
     "name": "stdout",
     "output_type": "stream",
     "text": [
      "Number 1\n",
      "Number 2\n",
      "Number 3\n",
      "Number 4\n",
      "Number 5\n",
      "Number 6\n",
      "Number 7\n",
      "Number 8\n",
      "Number 9\n",
      "Number 10\n",
      "terminated from while loop\n"
     ]
    }
   ],
   "source": [
    "# example printing numbers using loop\n",
    "i=1\n",
    "while(i<=10):\n",
    "    print(\"Number\",i)\n",
    "    i=i+1\n",
    "print(\"terminated from while loop\")\n",
    "    "
   ]
  },
  {
   "cell_type": "code",
   "execution_count": 10,
   "id": "a3cb8743-275b-4e69-96bf-cb4822aa21b9",
   "metadata": {},
   "outputs": [
    {
     "name": "stdout",
     "output_type": "stream",
     "text": [
      "2\n",
      "4\n",
      "6\n",
      "8\n",
      "10\n",
      "12\n",
      "14\n",
      "16\n",
      "18\n",
      "20\n",
      "program terminated\n"
     ]
    }
   ],
   "source": [
    "# even numbers\n",
    "i=2\n",
    "while(i<=20):\n",
    "    print(i)\n",
    "    i=i+2\n",
    "print(\"program terminated\")"
   ]
  },
  {
   "cell_type": "code",
   "execution_count": 12,
   "id": "a1c92d73-f25a-42be-a09f-40967d23f61e",
   "metadata": {},
   "outputs": [
    {
     "name": "stdout",
     "output_type": "stream",
     "text": [
      "20\n",
      "18\n",
      "16\n",
      "14\n",
      "12\n",
      "10\n",
      "8\n",
      "6\n",
      "4\n",
      "2\n",
      "program terminated\n"
     ]
    }
   ],
   "source": [
    "i=20\n",
    "while(i>=2):\n",
    "    print(i)\n",
    "    i=i-2\n",
    "print(\"program terminated\")"
   ]
  },
  {
   "cell_type": "code",
   "execution_count": 14,
   "id": "8c5ca99f-6da1-4551-bb6e-4a1ef92cc48a",
   "metadata": {},
   "outputs": [
    {
     "name": "stdout",
     "output_type": "stream",
     "text": [
      "1 5\n",
      "2 6\n",
      "3 7\n"
     ]
    }
   ],
   "source": [
    "# nested while example 1\n",
    "i=1\n",
    "j=5\n",
    "while(i<4):\n",
    "    while(j<8):\n",
    "        print(i,j)\n",
    "        i=i+1\n",
    "        j=j+1"
   ]
  },
  {
   "cell_type": "code",
   "execution_count": 16,
   "id": "4e4a2e53-e119-4bbc-b040-dc99424cc699",
   "metadata": {},
   "outputs": [
    {
     "name": "stdout",
     "output_type": "stream",
     "text": [
      "i am from else block\n"
     ]
    }
   ],
   "source": [
    "a=10\n",
    "while(a<=5):\n",
    "    print(a)\n",
    "    a=a+1\n",
    "else:\n",
    "    print(\"i am from else block\")"
   ]
  }
 ],
 "metadata": {
  "kernelspec": {
   "display_name": "Python 3 (ipykernel)",
   "language": "python",
   "name": "python3"
  },
  "language_info": {
   "codemirror_mode": {
    "name": "ipython",
    "version": 3
   },
   "file_extension": ".py",
   "mimetype": "text/x-python",
   "name": "python",
   "nbconvert_exporter": "python",
   "pygments_lexer": "ipython3",
   "version": "3.12.7"
  }
 },
 "nbformat": 4,
 "nbformat_minor": 5
}
