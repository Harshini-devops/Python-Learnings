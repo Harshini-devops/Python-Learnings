{
 "cells": [
  {
   "cell_type": "code",
   "execution_count": null,
   "id": "39dd7c51-79a8-4fe9-9e1f-cfcfe3f5d689",
   "metadata": {},
   "outputs": [],
   "source": [
    "# print hai for 5 times\n",
    "print(\"Hai\")\n",
    "print(\"Hai\")\n",
    "print(\"Hai\")\n",
    "print(\"Hai\")\n",
    "print(\"Hai\")"
   ]
  },
  {
   "cell_type": "code",
   "execution_count": null,
   "id": "a4ce0154-c45b-4c1a-885e-a296731ef3bc",
   "metadata": {},
   "outputs": [],
   "source": [
    "# using while\n",
    "i=1\n",
    "while(i<=5):\n",
    "    print(\"Hai\")\n",
    "    i=i+1"
   ]
  },
  {
   "cell_type": "code",
   "execution_count": null,
   "id": "606ac9f7-b24a-43c3-abae-53428ecfbcea",
   "metadata": {},
   "outputs": [],
   "source": [
    "# example to print numbers without using loop\n",
    "print(\"number 1\")\n",
    "print(\"number 2\")\n",
    "print(\"number 3\")\n",
    "print(\"number 4\")\n",
    "print(\"number 5\")\n",
    "print(\"number 6\")\n",
    "print(\"number 7\")\n",
    "print(\"number 8\")\n",
    "print(\"number 9\")\n",
    "print(\"number 10\")"
   ]
  },
  {
   "cell_type": "code",
   "execution_count": null,
   "id": "6a58d9bd-4d90-448b-99f8-5ccbc08be33b",
   "metadata": {},
   "outputs": [],
   "source": [
    "# example printing numbers using loop\n",
    "i=1\n",
    "while(i<=10):\n",
    "    print(\"Number\",i)\n",
    "    i=i+1\n",
    "print(\"terminated from while loop\")\n",
    "    "
   ]
  },
  {
   "cell_type": "code",
   "execution_count": null,
   "id": "a3cb8743-275b-4e69-96bf-cb4822aa21b9",
   "metadata": {},
   "outputs": [],
   "source": [
    "# even numbers\n",
    "i=2\n",
    "while(i<=20):\n",
    "    print(i)\n",
    "    i=i+2\n",
    "print(\"program terminated\")"
   ]
  },
  {
   "cell_type": "code",
   "execution_count": null,
   "id": "a1c92d73-f25a-42be-a09f-40967d23f61e",
   "metadata": {},
   "outputs": [],
   "source": [
    "i=20\n",
    "while(i>=2):\n",
    "    print(i)\n",
    "    i=i-2\n",
    "print(\"program terminated\")"
   ]
  },
  {
   "cell_type": "code",
   "execution_count": null,
   "id": "8c5ca99f-6da1-4551-bb6e-4a1ef92cc48a",
   "metadata": {},
   "outputs": [],
   "source": [
    "# nested while example 1\n",
    "i=1\n",
    "j=5\n",
    "while(i<4):\n",
    "    while(j<8):\n",
    "        print(i,j)\n",
    "        i=i+1\n",
    "        j=j+1"
   ]
  },
  {
   "cell_type": "code",
   "execution_count": null,
   "id": "c8a6f9e5-c0e8-4781-b763-a8ee38a55326",
   "metadata": {},
   "outputs": [],
   "source": [
    "# example\n",
    "a=10\n",
    "while(a<=5):\n",
    "    print(a)\n",
    "    a=a+1\n",
    "else:\n",
    "    print(\"i am from else block\")"
   ]
  },
  {
   "cell_type": "code",
   "execution_count": null,
   "id": "72315688-4dab-4c83-967f-bcbd96cf1f71",
   "metadata": {},
   "outputs": [],
   "source": []
  },
  {
   "cell_type": "code",
   "execution_count": null,
   "id": "4e4a2e53-e119-4bbc-b040-dc99424cc699",
   "metadata": {},
   "outputs": [],
   "source": []
  }
 ],
 "metadata": {
  "kernelspec": {
   "display_name": "Python 3 (ipykernel)",
   "language": "python",
   "name": "python3"
  },
  "language_info": {
   "codemirror_mode": {
    "name": "ipython",
    "version": 3
   },
   "file_extension": ".py",
   "mimetype": "text/x-python",
   "name": "python",
   "nbconvert_exporter": "python",
   "pygments_lexer": "ipython3",
   "version": "3.12.7"
  }
 },
 "nbformat": 4,
 "nbformat_minor": 5
}
