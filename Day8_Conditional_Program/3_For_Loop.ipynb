{
 "cells": [
  {
   "cell_type": "code",
   "execution_count": null,
   "id": "1837208d-4223-4fbb-b894-34bbe6e6ccc2",
   "metadata": {},
   "outputs": [],
   "source": [
    "# example - printing string using print statement\n",
    "a=\"gurukula\"\n",
    "print(a)"
   ]
  },
  {
   "cell_type": "code",
   "execution_count": null,
   "id": "734fff42-af2c-4909-bb88-54fa6fb05f8d",
   "metadata": {},
   "outputs": [],
   "source": [
    "# example - printing string using for loop\n",
    "a=\"gurukula\"\n",
    "for i in a:\n",
    "    print(i)"
   ]
  },
  {
   "cell_type": "code",
   "execution_count": null,
   "id": "43c5b01c-88ef-451f-8b35-b54c5820bc3e",
   "metadata": {},
   "outputs": [],
   "source": [
    "# exampe instead of variabe\n",
    "\n",
    "for i in \"gurukula\":\n",
    "    print(i)"
   ]
  },
  {
   "cell_type": "code",
   "execution_count": null,
   "id": "b2faff1d-f922-483e-aa1a-17d1f82a0d7f",
   "metadata": {},
   "outputs": [],
   "source": [
    "# example list - using print statement\n",
    "a=[\"happpy learing\",20,2.9]\n",
    "print(a)"
   ]
  },
  {
   "cell_type": "code",
   "execution_count": null,
   "id": "a1c58ab3-c1d2-4a68-ad54-1b8725760926",
   "metadata": {},
   "outputs": [],
   "source": [
    "# example list - using for\n",
    "a=[\"happpy learing\",20,2.9]\n",
    "for i in a:\n",
    "    print(i)\n",
    "print(\"program terminated\")"
   ]
  },
  {
   "cell_type": "code",
   "execution_count": null,
   "id": "86fb3516-54b2-4566-830f-35cb7eb42b22",
   "metadata": {},
   "outputs": [],
   "source": [
    "# example list - adding list values using for\n",
    "list1=[10,20,30,40]\n",
    "sum=0\n",
    "for i in list1:\n",
    "    sum=sum+i\n",
    "print(\"total value is :\",sum)\n",
    "print(\"program terminated\")"
   ]
  },
  {
   "cell_type": "code",
   "execution_count": null,
   "id": "e95c26e7-8008-4c00-80f6-215655a1d98f",
   "metadata": {},
   "outputs": [],
   "source": [
    "# example - tuple\n",
    "a=(10,20,30)\n",
    "for i in a:\n",
    "    print(i)"
   ]
  },
  {
   "cell_type": "code",
   "execution_count": null,
   "id": "225a55f4-2566-4758-8767-314579109346",
   "metadata": {},
   "outputs": [],
   "source": [
    "# for loop with range"
   ]
  },
  {
   "cell_type": "code",
   "execution_count": null,
   "id": "72a9b17c-885f-459e-854c-8f100d2aeb7d",
   "metadata": {},
   "outputs": [],
   "source": [
    "i=1\n",
    "while(i<=10):\n",
    "    print(i)\n",
    "    i=i+1"
   ]
  },
  {
   "cell_type": "code",
   "execution_count": null,
   "id": "940f6502-2e3c-49f9-a6c6-043f8a83e22d",
   "metadata": {},
   "outputs": [],
   "source": [
    "# generating numbers using range function\n",
    "for i in range(1,11):\n",
    "    print(i)"
   ]
  },
  {
   "cell_type": "code",
   "execution_count": null,
   "id": "978f680e-6840-45cb-b552-ad24e61aeead",
   "metadata": {},
   "outputs": [],
   "source": [
    "for i in range(5):\n",
    "    print(i)"
   ]
  },
  {
   "cell_type": "code",
   "execution_count": null,
   "id": "96586702-30bf-4f40-852b-6b4bb0a2a909",
   "metadata": {},
   "outputs": [],
   "source": [
    "for i in range(0,11,2):\n",
    "    print(i)"
   ]
  },
  {
   "cell_type": "code",
   "execution_count": null,
   "id": "c79fd6ef-194d-49ab-b1eb-af94ba5b7a75",
   "metadata": {},
   "outputs": [],
   "source": [
    "for i in range(1,11,2):\n",
    "    print(i)"
   ]
  },
  {
   "cell_type": "code",
   "execution_count": null,
   "id": "354b75e4-cded-43c7-a9f2-892bb120958a",
   "metadata": {},
   "outputs": [],
   "source": []
  },
  {
   "cell_type": "code",
   "execution_count": null,
   "id": "163a883e-a5c5-4973-bf94-534d2f7359cd",
   "metadata": {},
   "outputs": [],
   "source": []
  }
 ],
 "metadata": {
  "kernelspec": {
   "display_name": "Python 3 (ipykernel)",
   "language": "python",
   "name": "python3"
  },
  "language_info": {
   "codemirror_mode": {
    "name": "ipython",
    "version": 3
   },
   "file_extension": ".py",
   "mimetype": "text/x-python",
   "name": "python",
   "nbconvert_exporter": "python",
   "pygments_lexer": "ipython3",
   "version": "3.12.7"
  }
 },
 "nbformat": 4,
 "nbformat_minor": 5
}
