{
 "cells": [
  {
   "cell_type": "code",
   "execution_count": 2,
   "id": "1837208d-4223-4fbb-b894-34bbe6e6ccc2",
   "metadata": {},
   "outputs": [
    {
     "name": "stdout",
     "output_type": "stream",
     "text": [
      "gurukula\n"
     ]
    }
   ],
   "source": [
    "# example - printing string using print statement\n",
    "a=\"gurukula\"\n",
    "print(a)"
   ]
  },
  {
   "cell_type": "code",
   "execution_count": 4,
   "id": "734fff42-af2c-4909-bb88-54fa6fb05f8d",
   "metadata": {},
   "outputs": [
    {
     "name": "stdout",
     "output_type": "stream",
     "text": [
      "g\n",
      "u\n",
      "r\n",
      "u\n",
      "k\n",
      "u\n",
      "l\n",
      "a\n"
     ]
    }
   ],
   "source": [
    "# example - printing string using for loop\n",
    "a=\"gurukula\"\n",
    "for i in a:\n",
    "    print(i)"
   ]
  },
  {
   "cell_type": "code",
   "execution_count": 6,
   "id": "43c5b01c-88ef-451f-8b35-b54c5820bc3e",
   "metadata": {},
   "outputs": [
    {
     "name": "stdout",
     "output_type": "stream",
     "text": [
      "g\n",
      "u\n",
      "r\n",
      "u\n",
      "k\n",
      "u\n",
      "l\n",
      "a\n"
     ]
    }
   ],
   "source": [
    "# exampe instead of variabe\n",
    "\n",
    "for i in \"gurukula\":\n",
    "    print(i)"
   ]
  },
  {
   "cell_type": "code",
   "execution_count": 8,
   "id": "b2faff1d-f922-483e-aa1a-17d1f82a0d7f",
   "metadata": {},
   "outputs": [
    {
     "name": "stdout",
     "output_type": "stream",
     "text": [
      "['happpy learing', 20, 2.9]\n"
     ]
    }
   ],
   "source": [
    "# example list - using print statement\n",
    "a=[\"happpy learing\",20,2.9]\n",
    "print(a)"
   ]
  },
  {
   "cell_type": "code",
   "execution_count": 10,
   "id": "a1c58ab3-c1d2-4a68-ad54-1b8725760926",
   "metadata": {},
   "outputs": [
    {
     "name": "stdout",
     "output_type": "stream",
     "text": [
      "happpy learing\n",
      "20\n",
      "2.9\n",
      "program terminated\n"
     ]
    }
   ],
   "source": [
    "# example list - using for\n",
    "a=[\"happpy learing\",20,2.9]\n",
    "for i in a:\n",
    "    print(i)\n",
    "print(\"program terminated\")"
   ]
  },
  {
   "cell_type": "code",
   "execution_count": 12,
   "id": "86fb3516-54b2-4566-830f-35cb7eb42b22",
   "metadata": {},
   "outputs": [
    {
     "name": "stdout",
     "output_type": "stream",
     "text": [
      "total value is : 100\n",
      "program terminated\n"
     ]
    }
   ],
   "source": [
    "# example list - adding list values using for\n",
    "list1=[10,20,30,40]\n",
    "sum=0\n",
    "for i in list1:\n",
    "    sum=sum+i\n",
    "print(\"total value is :\",sum)\n",
    "print(\"program terminated\")"
   ]
  },
  {
   "cell_type": "code",
   "execution_count": 14,
   "id": "e95c26e7-8008-4c00-80f6-215655a1d98f",
   "metadata": {},
   "outputs": [
    {
     "name": "stdout",
     "output_type": "stream",
     "text": [
      "10\n",
      "20\n",
      "30\n"
     ]
    }
   ],
   "source": [
    "# example - tuple\n",
    "a=(10,20,30)\n",
    "for i in a:\n",
    "    print(i)"
   ]
  },
  {
   "cell_type": "code",
   "execution_count": 16,
   "id": "225a55f4-2566-4758-8767-314579109346",
   "metadata": {},
   "outputs": [],
   "source": [
    "# for loop with range"
   ]
  },
  {
   "cell_type": "code",
   "execution_count": 18,
   "id": "72a9b17c-885f-459e-854c-8f100d2aeb7d",
   "metadata": {},
   "outputs": [
    {
     "name": "stdout",
     "output_type": "stream",
     "text": [
      "1\n",
      "2\n",
      "3\n",
      "4\n",
      "5\n",
      "6\n",
      "7\n",
      "8\n",
      "9\n",
      "10\n"
     ]
    }
   ],
   "source": [
    "i=1\n",
    "while(i<=10):\n",
    "    print(i)\n",
    "    i=i+1"
   ]
  },
  {
   "cell_type": "code",
   "execution_count": 20,
   "id": "940f6502-2e3c-49f9-a6c6-043f8a83e22d",
   "metadata": {},
   "outputs": [
    {
     "name": "stdout",
     "output_type": "stream",
     "text": [
      "1\n",
      "2\n",
      "3\n",
      "4\n",
      "5\n",
      "6\n",
      "7\n",
      "8\n",
      "9\n",
      "10\n"
     ]
    }
   ],
   "source": [
    "# generating numbers using range function\n",
    "for i in range(1,11):\n",
    "    print(i)"
   ]
  },
  {
   "cell_type": "code",
   "execution_count": 22,
   "id": "978f680e-6840-45cb-b552-ad24e61aeead",
   "metadata": {},
   "outputs": [
    {
     "name": "stdout",
     "output_type": "stream",
     "text": [
      "0\n",
      "1\n",
      "2\n",
      "3\n",
      "4\n"
     ]
    }
   ],
   "source": [
    "for i in range(5):\n",
    "    print(i)"
   ]
  },
  {
   "cell_type": "code",
   "execution_count": 24,
   "id": "96586702-30bf-4f40-852b-6b4bb0a2a909",
   "metadata": {},
   "outputs": [
    {
     "name": "stdout",
     "output_type": "stream",
     "text": [
      "0\n",
      "2\n",
      "4\n",
      "6\n",
      "8\n",
      "10\n"
     ]
    }
   ],
   "source": [
    "for i in range(0,11,2):\n",
    "    print(i)"
   ]
  },
  {
   "cell_type": "code",
   "execution_count": 26,
   "id": "c79fd6ef-194d-49ab-b1eb-af94ba5b7a75",
   "metadata": {},
   "outputs": [
    {
     "name": "stdout",
     "output_type": "stream",
     "text": [
      "1\n",
      "3\n",
      "5\n",
      "7\n",
      "9\n"
     ]
    }
   ],
   "source": [
    "for i in range(1,11,2):\n",
    "    print(i)"
   ]
  },
  {
   "cell_type": "code",
   "execution_count": 28,
   "id": "354b75e4-cded-43c7-a9f2-892bb120958a",
   "metadata": {},
   "outputs": [
    {
     "name": "stdout",
     "output_type": "stream",
     "text": [
      "-1\n",
      "-3\n",
      "-5\n",
      "-7\n",
      "-9\n"
     ]
    }
   ],
   "source": [
    "for i in range(-1,-10,-2):\n",
    "    print(i)"
   ]
  },
  {
   "cell_type": "code",
   "execution_count": 30,
   "id": "163a883e-a5c5-4973-bf94-534d2f7359cd",
   "metadata": {},
   "outputs": [
    {
     "name": "stdout",
     "output_type": "stream",
     "text": [
      "14\n",
      "h\n",
      "a\n",
      "p\n",
      "p\n",
      "y\n",
      " \n",
      "l\n",
      "e\n",
      "a\n",
      "r\n",
      "n\n",
      "i\n",
      "n\n",
      "g\n"
     ]
    }
   ],
   "source": [
    "# passing a string\n",
    "a=\"happy learning\"\n",
    "l=len(a)\n",
    "print(l)\n",
    "for i in range(l):\n",
    "    print(a[i])"
   ]
  },
  {
   "cell_type": "code",
   "execution_count": 32,
   "id": "c10c65e2-32cc-48be-91e8-0ba364ff13e2",
   "metadata": {},
   "outputs": [
    {
     "name": "stdout",
     "output_type": "stream",
     "text": [
      "gurukula\n",
      "happy\n"
     ]
    }
   ],
   "source": [
    "# passing a list\n",
    "list1=[\"gurukula\",\"happy\"]\n",
    "for i in range(len(list1)):\n",
    "    print(list1[i])"
   ]
  },
  {
   "cell_type": "code",
   "execution_count": 34,
   "id": "d6d3bccf-bb0d-4d3a-82a7-c66e3daf28a2",
   "metadata": {},
   "outputs": [],
   "source": [
    "# for loop with else "
   ]
  },
  {
   "cell_type": "code",
   "execution_count": 36,
   "id": "17b1285c-b5c9-4492-b0f9-c14615a28538",
   "metadata": {},
   "outputs": [
    {
     "name": "stdout",
     "output_type": "stream",
     "text": [
      "0\n",
      "1\n",
      "2\n",
      "3\n",
      "4\n",
      "i am from else block\n"
     ]
    }
   ],
   "source": [
    "# for with else part\n",
    "\n",
    "for x in range(0,5):\n",
    "    print(x)\n",
    "else:\n",
    "    print(\"i am from else block\")"
   ]
  },
  {
   "cell_type": "code",
   "execution_count": 38,
   "id": "de3960ce-44ae-442a-a115-4caf9578b041",
   "metadata": {},
   "outputs": [
    {
     "name": "stdout",
     "output_type": "stream",
     "text": [
      "g\n",
      "u\n",
      "r\n",
      "u\n",
      "k\n",
      "u\n",
      "l\n",
      "a\n",
      "I am from else part\n",
      "program terminated\n"
     ]
    }
   ],
   "source": [
    "# passing a string\n",
    "a=\"gurukula\"\n",
    "for i in a:\n",
    "    print(i)\n",
    "else:\n",
    "    print(\"I am from else part\")\n",
    "print(\"program terminated\")"
   ]
  },
  {
   "cell_type": "code",
   "execution_count": 40,
   "id": "f163e3b6-bc0c-417b-9ce5-3a351bbcd992",
   "metadata": {},
   "outputs": [
    {
     "name": "stdout",
     "output_type": "stream",
     "text": [
      "gurukula\n",
      "happy learning\n",
      "20\n",
      "I am from else part\n",
      "program terminated\n"
     ]
    }
   ],
   "source": [
    "# passing a list\n",
    "a=[\"gurukula\",\"happy learning\",20]\n",
    "for i in a:\n",
    "    print(i)\n",
    "else:\n",
    "    print(\"I am from else part\")\n",
    "print(\"program terminated\")"
   ]
  },
  {
   "cell_type": "code",
   "execution_count": 42,
   "id": "cd29d42a-f5f3-4b78-8f36-13f57cef227d",
   "metadata": {},
   "outputs": [
    {
     "name": "stdout",
     "output_type": "stream",
     "text": [
      "5\n",
      "10\n",
      "15\n",
      "20\n"
     ]
    }
   ],
   "source": [
    "# for with if\n",
    "for i in range(1,21):\n",
    "    if(i%5==0):\n",
    "        print(i)"
   ]
  },
  {
   "cell_type": "code",
   "execution_count": 44,
   "id": "c01b42ac-aea0-4419-b28f-b4b1d914ff38",
   "metadata": {},
   "outputs": [
    {
     "name": "stdout",
     "output_type": "stream",
     "text": [
      "1 not divisible by 5\n",
      "2 not divisible by 5\n",
      "3 not divisible by 5\n",
      "4 not divisible by 5\n",
      "5 divisible by 5\n",
      "6 not divisible by 5\n",
      "7 not divisible by 5\n",
      "8 not divisible by 5\n",
      "9 not divisible by 5\n",
      "10 divisible by 5\n",
      "11 not divisible by 5\n",
      "12 not divisible by 5\n",
      "13 not divisible by 5\n",
      "14 not divisible by 5\n",
      "15 divisible by 5\n",
      "16 not divisible by 5\n",
      "17 not divisible by 5\n",
      "18 not divisible by 5\n",
      "19 not divisible by 5\n",
      "20 divisible by 5\n"
     ]
    }
   ],
   "source": [
    "# for with if else part\n",
    "for i in range(1,21):\n",
    "    if(i%5==0):\n",
    "        print(i,\"divisible by 5\")\n",
    "    else:\n",
    "        print(i,\"not divisible by 5\")"
   ]
  },
  {
   "cell_type": "code",
   "execution_count": null,
   "id": "9cbac945-ee02-4a06-a24f-2c31ef25c783",
   "metadata": {},
   "outputs": [],
   "source": [
    "#  nested for loop"
   ]
  },
  {
   "cell_type": "code",
   "execution_count": 47,
   "id": "ebd46ec7-aec2-4aa3-91d3-9434b7025a06",
   "metadata": {},
   "outputs": [
    {
     "name": "stdout",
     "output_type": "stream",
     "text": [
      "outer loop 0\n",
      "inner loop: happy\n",
      "inner loop: learning\n",
      "outer loop 1\n",
      "inner loop: happy\n",
      "inner loop: learning\n",
      "outer loop 2\n",
      "inner loop: happy\n",
      "inner loop: learning\n"
     ]
    }
   ],
   "source": [
    "# example 1 passing a range function\n",
    "list1=[\"happy\",\"learning\"]\n",
    "for i in range(0,3):\n",
    "    print(\"outer loop\",i)\n",
    "    for j in list1:\n",
    "        print(\"inner loop:\",j)"
   ]
  },
  {
   "cell_type": "code",
   "execution_count": 49,
   "id": "549581d1-a62d-4eb5-9224-1941f8933823",
   "metadata": {},
   "outputs": [
    {
     "name": "stdout",
     "output_type": "stream",
     "text": [
      "bmw black\n",
      "bmw white\n",
      "audi black\n",
      "audi white\n"
     ]
    }
   ],
   "source": [
    "# example 2 passing a list\n",
    "list1=[\"bmw\",\"audi\"]\n",
    "list2=[\"black\",\"white\"]\n",
    "for x  in list1:\n",
    "    for y in list2:\n",
    "        print(x,y)"
   ]
  }
 ],
 "metadata": {
  "kernelspec": {
   "display_name": "Python 3 (ipykernel)",
   "language": "python",
   "name": "python3"
  },
  "language_info": {
   "codemirror_mode": {
    "name": "ipython",
    "version": 3
   },
   "file_extension": ".py",
   "mimetype": "text/x-python",
   "name": "python",
   "nbconvert_exporter": "python",
   "pygments_lexer": "ipython3",
   "version": "3.12.7"
  }
 },
 "nbformat": 4,
 "nbformat_minor": 5
}
