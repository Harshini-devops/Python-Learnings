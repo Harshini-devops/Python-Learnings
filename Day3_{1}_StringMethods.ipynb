{
 "cells": [
  {
   "cell_type": "code",
   "execution_count": 1,
   "id": "a380be59-bbfb-4dda-96cf-91b5224fa7c0",
   "metadata": {},
   "outputs": [
    {
     "name": "stdout",
     "output_type": "stream",
     "text": [
      "Hey buddies\n"
     ]
    }
   ],
   "source": [
    "# capitalize()\n",
    "a=\"hey buddies\"\n",
    "print(a.capitalize())"
   ]
  },
  {
   "cell_type": "code",
   "execution_count": 3,
   "id": "020c3c7b-593b-4c14-8e16-fc010c2e5acc",
   "metadata": {},
   "outputs": [
    {
     "name": "stdout",
     "output_type": "stream",
     "text": [
      "40 is my age\n"
     ]
    }
   ],
   "source": [
    "age=\"40 is my age\"\n",
    "print(age.capitalize())"
   ]
  },
  {
   "cell_type": "code",
   "execution_count": 5,
   "id": "e80740d4-4edb-4f90-b748-98e2bddb2762",
   "metadata": {},
   "outputs": [
    {
     "name": "stdout",
     "output_type": "stream",
     "text": [
      "1\n",
      "3\n",
      "2\n"
     ]
    }
   ],
   "source": [
    "# count()\n",
    "b=\"welcome to gurukula\"\n",
    "print(b.count(\"welcome\"))\n",
    "print(b.count(\"u\"))  #3\n",
    "print(b.count(\"u\",0,15))"
   ]
  },
  {
   "cell_type": "code",
   "execution_count": 7,
   "id": "4dcca469-cfab-4531-b928-e4df0f288605",
   "metadata": {},
   "outputs": [
    {
     "name": "stdout",
     "output_type": "stream",
     "text": [
      "False\n",
      "False\n",
      "True\n"
     ]
    }
   ],
   "source": [
    "# islower() and lower()\n",
    "c=\"pYthon for Toddlers\"\n",
    "d=\"PYTHon for TODDlers\"\n",
    "e=\"python for toddlers\"\n",
    "print(c.islower())\n",
    "print(d.islower())\n",
    "print(e.islower())"
   ]
  },
  {
   "cell_type": "code",
   "execution_count": 9,
   "id": "24aca639-89d2-4afa-b48a-f29df5ca99f4",
   "metadata": {},
   "outputs": [
    {
     "name": "stdout",
     "output_type": "stream",
     "text": [
      "python for toddlers\n",
      "python for toddlers\n",
      "python for toddlers\n"
     ]
    }
   ],
   "source": [
    "c=\"pYthon for Toddlers\"\n",
    "d=\"PYTHon for TODDlers\"\n",
    "e=\"python for toddlers\"\n",
    "print(c.lower())\n",
    "print(d.lower())\n",
    "print(e.lower())"
   ]
  },
  {
   "cell_type": "code",
   "execution_count": 11,
   "id": "58fe5a4e-59cd-46e3-9323-a47b3a3a463f",
   "metadata": {},
   "outputs": [
    {
     "name": "stdout",
     "output_type": "stream",
     "text": [
      "False\n",
      "False\n",
      "True\n"
     ]
    }
   ],
   "source": [
    "# isupper() and upper()\n",
    "c=\"pYthon for Toddlers\"\n",
    "d=\"PYTHon for TODDlers\"\n",
    "e=\"PYTHON FOR TODDLERS\"\n",
    "print(c.isupper())\n",
    "print(d.isupper())\n",
    "print(e.isupper())"
   ]
  },
  {
   "cell_type": "code",
   "execution_count": 13,
   "id": "fffcfeaf-86a4-4b1a-9d15-75b7c7eac84a",
   "metadata": {},
   "outputs": [
    {
     "name": "stdout",
     "output_type": "stream",
     "text": [
      "PYTHON FOR TODDLERS\n",
      "PYTHON FOR TODDLERS\n",
      "PYTHON FOR TODDLERS\n"
     ]
    }
   ],
   "source": [
    "# UPPER()\n",
    "c=\"pYthon for Toddlers\"\n",
    "d=\"PYTHon for TODDlers\"\n",
    "e=\"PYTHON FOR TODDLERS\"\n",
    "print(c.upper())\n",
    "print(d.upper())\n",
    "print(e.upper())"
   ]
  },
  {
   "cell_type": "code",
   "execution_count": 15,
   "id": "0c252d96-c568-47cf-9b5f-c0e246cda076",
   "metadata": {},
   "outputs": [
    {
     "name": "stdout",
     "output_type": "stream",
     "text": [
      "pythON FOR tooDDLERS\n"
     ]
    }
   ],
   "source": [
    "# swapcase()\n",
    "f=\"PYTHon for TOOddlers\"\n",
    "print(f.swapcase())"
   ]
  },
  {
   "cell_type": "code",
   "execution_count": 17,
   "id": "8bb3def5-82ce-43ba-b77d-d1c1adbcb213",
   "metadata": {},
   "outputs": [
    {
     "name": "stdout",
     "output_type": "stream",
     "text": [
      "Welcome To Gurukula\n"
     ]
    }
   ],
   "source": [
    "# istitle() and title()\n",
    "g=\"welcome to gurukula\"\n",
    "print(g.title())"
   ]
  },
  {
   "cell_type": "code",
   "execution_count": 19,
   "id": "26ff1a68-0d2b-4b78-9370-5f9b6ed3e882",
   "metadata": {},
   "outputs": [
    {
     "name": "stdout",
     "output_type": "stream",
     "text": [
      "False\n"
     ]
    }
   ],
   "source": [
    "# istitle()\n",
    "g=\"welcome to gurukula\"\n",
    "print(g.istitle())"
   ]
  },
  {
   "cell_type": "code",
   "execution_count": 21,
   "id": "e669f065-7e44-4fa7-a3a3-4e2a11189003",
   "metadata": {},
   "outputs": [
    {
     "name": "stdout",
     "output_type": "stream",
     "text": [
      "True\n",
      "False\n",
      "True\n",
      "True\n"
     ]
    }
   ],
   "source": [
    "# startswith()\n",
    "var=\"hey how are you??\"\n",
    "print(var.startswith(\"hey\"))\n",
    "print(var.startswith(\"how\"))\n",
    "print(var.startswith(\"he\"))\n",
    "print(var.startswith(\"h\"))"
   ]
  },
  {
   "cell_type": "code",
   "execution_count": 23,
   "id": "7132c5ac-a3dd-4bf2-bd4a-2403d483efba",
   "metadata": {},
   "outputs": [
    {
     "name": "stdout",
     "output_type": "stream",
     "text": [
      "False\n",
      "True\n",
      "True\n",
      "False\n"
     ]
    }
   ],
   "source": [
    "# endswith()\n",
    "var=\"hey how are you??\"\n",
    "print(var.endswith(\"hey\"))\n",
    "print(var.endswith(\"??\"))\n",
    "print(var.endswith(\"?\"))\n",
    "print(var.endswith(\".\"))"
   ]
  },
  {
   "cell_type": "code",
   "execution_count": 25,
   "id": "f8488a20-1eb8-4b0a-89a5-78d6e8e40cbb",
   "metadata": {},
   "outputs": [
    {
     "name": "stdout",
     "output_type": "stream",
     "text": [
      "True\n",
      "False\n"
     ]
    }
   ],
   "source": [
    "# isnumeric()\n",
    "num=\"123\"\n",
    "print(num.isnumeric())\n",
    "num1=\"123abc\"\n",
    "print(num1.isnumeric())"
   ]
  },
  {
   "cell_type": "code",
   "execution_count": 27,
   "id": "ba09a491-462d-43d9-9af7-32ec6732ef37",
   "metadata": {},
   "outputs": [
    {
     "name": "stdout",
     "output_type": "stream",
     "text": [
      "True\n",
      "False\n"
     ]
    }
   ],
   "source": [
    "#isalpha()\n",
    "alp=\"hello\"\n",
    "print(alp.isalpha())\n",
    "alp2=\"hello1\"\n",
    "print(alp2.isalpha())"
   ]
  },
  {
   "cell_type": "code",
   "execution_count": 29,
   "id": "f40806cd-dbae-4841-86f1-61e32d038b6c",
   "metadata": {},
   "outputs": [
    {
     "name": "stdout",
     "output_type": "stream",
     "text": [
      "True\n",
      "True\n",
      "True\n"
     ]
    }
   ],
   "source": [
    "# isalnum()\n",
    "abc=\"123gurukula\"\n",
    "print(abc.isalnum())\n",
    "alphabet=\"gurukula\"\n",
    "print(alphabet.isalnum())\n",
    "num=\"123\"\n",
    "print(num.isalnum())"
   ]
  },
  {
   "cell_type": "code",
   "execution_count": 31,
   "id": "ca2c23f6-608e-42c8-98c2-aa98bc878444",
   "metadata": {},
   "outputs": [
    {
     "name": "stdout",
     "output_type": "stream",
     "text": [
      "8\n",
      "-1\n"
     ]
    }
   ],
   "source": [
    "# find()\n",
    "txt=\"welcome to gurukula\"\n",
    "print(txt.find(\"to\"))\n",
    "print(txt.find(\"too\"))"
   ]
  },
  {
   "cell_type": "code",
   "execution_count": 33,
   "id": "36ffde57-9f01-4c9c-a124-76e1da94672f",
   "metadata": {},
   "outputs": [
    {
     "name": "stdout",
     "output_type": "stream",
     "text": [
      "8\n"
     ]
    },
    {
     "ename": "ValueError",
     "evalue": "substring not found",
     "output_type": "error",
     "traceback": [
      "\u001b[1;31m---------------------------------------------------------------------------\u001b[0m",
      "\u001b[1;31mValueError\u001b[0m                                Traceback (most recent call last)",
      "Cell \u001b[1;32mIn[33], line 4\u001b[0m\n\u001b[0;32m      2\u001b[0m txt\u001b[38;5;241m=\u001b[39m\u001b[38;5;124m\"\u001b[39m\u001b[38;5;124mwelcome to gurukula\u001b[39m\u001b[38;5;124m\"\u001b[39m\n\u001b[0;32m      3\u001b[0m \u001b[38;5;28mprint\u001b[39m(txt\u001b[38;5;241m.\u001b[39mindex(\u001b[38;5;124m\"\u001b[39m\u001b[38;5;124mto\u001b[39m\u001b[38;5;124m\"\u001b[39m))\n\u001b[1;32m----> 4\u001b[0m \u001b[38;5;28mprint\u001b[39m(txt\u001b[38;5;241m.\u001b[39mindex(\u001b[38;5;124m\"\u001b[39m\u001b[38;5;124mtoo\u001b[39m\u001b[38;5;124m\"\u001b[39m))\n",
      "\u001b[1;31mValueError\u001b[0m: substring not found"
     ]
    }
   ],
   "source": [
    "# index()\n",
    "txt=\"welcome to gurukula\"\n",
    "print(txt.index(\"to\"))\n",
    "print(txt.index(\"too\"))\n"
   ]
  },
  {
   "cell_type": "code",
   "execution_count": 35,
   "id": "d6f12120-c71b-4cb3-a1a2-f5a99c8c4cd7",
   "metadata": {},
   "outputs": [
    {
     "name": "stdout",
     "output_type": "stream",
     "text": [
      "i like dogs\n"
     ]
    }
   ],
   "source": [
    "# replace()\n",
    "a=\"i love dogs\"\n",
    "print(a.replace(\"love\",\"like\"))"
   ]
  },
  {
   "cell_type": "code",
   "execution_count": 37,
   "id": "9f278b67-a48d-4b59-9165-410d0f407663",
   "metadata": {},
   "outputs": [
    {
     "name": "stdout",
     "output_type": "stream",
     "text": [
      "we love dogs,we love flowers,i love parrots\n"
     ]
    }
   ],
   "source": [
    "b=\"i love dogs,i love flowers,i love parrots\"\n",
    "print(b.replace(\"i\",\"we\",2))"
   ]
  },
  {
   "cell_type": "code",
   "execution_count": 39,
   "id": "fe5b521e-54ac-4913-859c-43b7e141cbd0",
   "metadata": {},
   "outputs": [
    {
     "name": "stdout",
     "output_type": "stream",
     "text": [
      "python\n",
      "python@$$\n",
      "@#$python\n"
     ]
    }
   ],
   "source": [
    "# strip()\n",
    "word=\"@#$python@$$\"\n",
    "print(word.strip(\"@#$\"))\n",
    "print(word.lstrip(\"@#$\"))\n",
    "print(word.rstrip(\"@#$\"))"
   ]
  },
  {
   "cell_type": "code",
   "execution_count": 41,
   "id": "43065e69-0d05-49f9-9118-e19daa980655",
   "metadata": {},
   "outputs": [
    {
     "name": "stdout",
     "output_type": "stream",
     "text": [
      "python$$$$\n"
     ]
    }
   ],
   "source": [
    "# ljust(), rjust() and center()\n",
    "word=\"python\"\n",
    "print(word.ljust(10,'$'))"
   ]
  },
  {
   "cell_type": "code",
   "execution_count": 43,
   "id": "c4947bf7-7c13-4df6-b555-e9b327586a6d",
   "metadata": {},
   "outputs": [
    {
     "name": "stdout",
     "output_type": "stream",
     "text": [
      "$$$$python\n"
     ]
    }
   ],
   "source": [
    "word=\"python\"\n",
    "print(word.rjust(10,'$'))"
   ]
  },
  {
   "cell_type": "code",
   "execution_count": 45,
   "id": "0fafb032-e626-4295-be85-21ddb8069374",
   "metadata": {},
   "outputs": [
    {
     "name": "stdout",
     "output_type": "stream",
     "text": [
      "$$python$$\n"
     ]
    }
   ],
   "source": [
    "word=\"python\"\n",
    "print(word.center(10,'$'))"
   ]
  }
 ],
 "metadata": {
  "kernelspec": {
   "display_name": "Python 3 (ipykernel)",
   "language": "python",
   "name": "python3"
  },
  "language_info": {
   "codemirror_mode": {
    "name": "ipython",
    "version": 3
   },
   "file_extension": ".py",
   "mimetype": "text/x-python",
   "name": "python",
   "nbconvert_exporter": "python",
   "pygments_lexer": "ipython3",
   "version": "3.12.7"
  }
 },
 "nbformat": 4,
 "nbformat_minor": 5
}
